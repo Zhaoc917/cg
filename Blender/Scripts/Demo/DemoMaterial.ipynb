{
 "cells": [
  {
   "cell_type": "code",
   "execution_count": 2,
   "metadata": {},
   "outputs": [],
   "source": [
    "import os\n",
    "import sys\n",
    "sys.path.append(\"..\")\n",
    "from Lib.Strebel import Strebel\n",
    "from Lib.RenderScene import RenderScene\n",
    "from Lib.ConfigClass import Config\n",
    "from Lib.ImageVideo import TaskImageVideo\n",
    "import numpy as np\n",
    "from PIL import Image\n",
    "import matplotlib.pyplot as plt"
   ]
  },
  {
   "cell_type": "markdown",
   "metadata": {},
   "source": [
    "Basic settings"
   ]
  },
  {
   "cell_type": "code",
   "execution_count": 3,
   "metadata": {},
   "outputs": [],
   "source": [
    "path = os.getcwd()\n",
    "path = os.path.dirname(path)\n",
    "path = os.path.dirname(path)\n",
    "\n",
    "\n",
    "scene_name = \"eight\"\n",
    "\n",
    "config = Config()\n",
    "config.width = 200\n",
    "config.height = 150\n",
    "\n",
    "path = os.getcwd()\n",
    "path = os.path.dirname(path)\n",
    "path = os.path.dirname(path)\n",
    "\n",
    "config.show_singular_face = False\n",
    "config.show_loops = False\n",
    "config.cut_mode = \"Segment\"\n",
    "config.show_singularity = True\n",
    "config.use_envmap = True\n",
    "\n",
    "config.background_render = True\n",
    "\n",
    "config.mode = \"predefined\"\n",
    "config.material = None\n",
    "\n",
    "config.save_config()\n",
    "RenderScene = RenderScene()\n",
    "RenderScene.config = config\n"
   ]
  },
  {
   "cell_type": "markdown",
   "metadata": {},
   "source": [
    "Generate texture images"
   ]
  },
  {
   "cell_type": "code",
   "execution_count": 8,
   "metadata": {},
   "outputs": [],
   "source": [
    "strebel = Strebel()\n",
    "\n",
    "strebel.number = 10\n",
    "\n",
    "# checkerboard\n",
    "color1 = [\"blue\", \"#7C4DFF\", \"#880e4f\", \"#03A9F4\", \"#0c784a\", \"#795548\", \"#0c224a\", \"#58224a\"]\n",
    "color2 = [\"#FF4081\",\"yellow\", \"orange\",\"#FFEB3B\", \"#ff88cc\"]\n",
    "\n",
    "for col_1 in color1:\n",
    "    for col_2 in color2:\n",
    "        strebel.checkerboard_colors = [col_1, col_2]\n",
    "        strebel.CheckerboardV1()\n",
    "        strebel.CheckerboardV2()\n",
    "\n",
    "# circle\n",
    "colors = [\"#FF4081\", \"blue\", \"orange\", \"#7C4DFF\", \"#536DFE\", \"#880e4f\", \"#03A9F4\", \"#8BC34A\", \"#795548\"]\n",
    "for color1 in colors:\n",
    "    # strebel.number = number\n",
    "    strebel.image_color = 'white'\n",
    "    strebel.circle_color = color1\n",
    "    strebel.CircleV1()\n",
    "    \n",
    "colors = [\"#FF4081\", \"blue\", \"orange\", \"#7C4DFF\", \"#536DFE\", \"#880e4f\", \"#03A9F4\", \"#8BC34A\", \"#795548\"]\n",
    "for color1 in colors:\n",
    "    # strebel.number = number\n",
    "    strebel.image_color = 'white'\n",
    "    strebel.circle_color = color1\n",
    "    strebel.CircleV2()\n",
    "\n",
    "\n",
    "# line\n",
    "colors = [\"blue\", \"green\", \"orange\", \"brown\"]\n",
    "count = 0\n",
    "for color1 in colors:\n",
    "    for color2 in colors:\n",
    "        if color1 != color2:\n",
    "            strebel.line_color_x = [color1] * strebel.line_number\n",
    "            strebel.line_color_y = [color2] * strebel.line_number\n",
    "            strebel.LinesXY(count)\n",
    "            count += 1"
   ]
  },
  {
   "cell_type": "markdown",
   "metadata": {},
   "source": [
    "Texture image video"
   ]
  },
  {
   "cell_type": "code",
   "execution_count": 9,
   "metadata": {},
   "outputs": [
    {
     "name": "stdout",
     "output_type": "stream",
     "text": [
      "write done\n",
      "write done\n",
      "write done\n",
      "write done\n",
      "write done\n"
     ]
    }
   ],
   "source": [
    "strebel_path = path + \"\\\\Output\\\\Strebel\\\\\"\n",
    "\n",
    "task = TaskImageVideo() \n",
    "task.framerate = 0.5\n",
    "\n",
    "f_list = os.listdir(strebel_path)\n",
    "for filename in f_list:\n",
    "    task.ImageInput = strebel_path + filename + \"\\\\\"\n",
    "    task.Rename()\n",
    "    task.PreProcessing()\n",
    "    task.ProduceVideo()"
   ]
  },
  {
   "cell_type": "markdown",
   "metadata": {},
   "source": [
    "Materials"
   ]
  },
  {
   "cell_type": "code",
   "execution_count": null,
   "metadata": {},
   "outputs": [
    {
     "name": "stdout",
     "output_type": "stream",
     "text": [
      "start rendering...\n",
      "done!\n",
      "start rendering...\n",
      "done!\n",
      "start rendering...\n"
     ]
    }
   ],
   "source": [
    "f_list = os.listdir(path+\"\\\\Data\\\\Materials\\\\\")\n",
    "output = path + \"\\\\Output\\\\\" + scene_name + \"\\\\Materials\\\\\"\n",
    "if not os.path.exists(output):\n",
    "    os.makedirs(output)\n",
    "\n",
    "for index, filename in enumerate(f_list):\n",
    "    if filename.split(\".\")[1] == \"blend\":\n",
    "        config.material_filename = filename\n",
    "        config.output_path = output + filename.split(\".\")[0]+\".png\"\n",
    "        config.save_config()\n",
    "        RenderScene.render()\n"
   ]
  },
  {
   "cell_type": "markdown",
   "metadata": {},
   "source": [
    "Material Video"
   ]
  },
  {
   "cell_type": "code",
   "execution_count": 2,
   "metadata": {},
   "outputs": [
    {
     "name": "stdout",
     "output_type": "stream",
     "text": [
      "write done\n"
     ]
    }
   ],
   "source": [
    "output = path + \"\\\\Output\\\\\" + scene_name + \"\\\\Materials\\\\\"\n",
    "\n",
    "task = TaskImageVideo() \n",
    "task.framerate = 0.5\n",
    "\n",
    "#checkerboard_v1\n",
    "task.ImageInput = output\n",
    "task.Rename()\n",
    "task.PreProcessing()\n",
    "task.CropImage()\n",
    "task.ProduceVideo()"
   ]
  },
  {
   "cell_type": "markdown",
   "metadata": {},
   "source": [
    "Checkerboard + Wireframe"
   ]
  },
  {
   "cell_type": "code",
   "execution_count": null,
   "metadata": {},
   "outputs": [
    {
     "name": "stdout",
     "output_type": "stream",
     "text": [
      "start rendering...\n",
      "done!\n",
      "start rendering...\n",
      "done!\n",
      "start rendering...\n",
      "done!\n",
      "start rendering...\n",
      "done!\n",
      "start rendering...\n",
      "done!\n",
      "start rendering...\n",
      "done!\n",
      "start rendering...\n",
      "done!\n",
      "start rendering...\n",
      "done!\n",
      "start rendering...\n",
      "done!\n",
      "start rendering...\n",
      "done!\n",
      "start rendering...\n",
      "done!\n",
      "start rendering...\n",
      "done!\n",
      "start rendering...\n",
      "done!\n",
      "start rendering...\n",
      "done!\n",
      "start rendering...\n",
      "done!\n",
      "start rendering...\n",
      "done!\n",
      "start rendering...\n",
      "done!\n",
      "start rendering...\n",
      "done!\n",
      "start rendering...\n",
      "done!\n",
      "start rendering...\n",
      "done!\n",
      "start rendering...\n",
      "done!\n",
      "start rendering...\n",
      "done!\n",
      "start rendering...\n",
      "done!\n",
      "start rendering...\n",
      "done!\n",
      "start rendering...\n",
      "done!\n",
      "start rendering...\n",
      "done!\n",
      "start rendering...\n",
      "done!\n",
      "start rendering...\n",
      "done!\n",
      "start rendering...\n",
      "done!\n",
      "start rendering...\n",
      "done!\n",
      "start rendering...\n",
      "done!\n",
      "start rendering...\n",
      "done!\n",
      "start rendering...\n",
      "done!\n",
      "start rendering...\n",
      "done!\n",
      "start rendering...\n",
      "done!\n",
      "start rendering...\n",
      "done!\n",
      "start rendering...\n",
      "done!\n",
      "start rendering...\n",
      "done!\n",
      "start rendering...\n",
      "done!\n",
      "start rendering...\n",
      "done!\n",
      "start rendering...\n"
     ]
    }
   ],
   "source": [
    "strebel_path = path + \"\\\\Output\\\\Strebel\\\\\"\n",
    "config.material_filename = None\n",
    "config.material = \"wireframe\"\n",
    "\n",
    "f_list = os.listdir(strebel_path)\n",
    "for filename in f_list:\n",
    "    texture_path = strebel_path +  filename + \"\\\\\"\n",
    "    f_list = os.listdir(texture_path)\n",
    "    output = path + \"\\\\Output\\\\\" + scene_name + \"\\\\Texture_Wireframe\\\\\" + filename + \"\\\\\"\n",
    "    if not os.path.exists(output):\n",
    "        os.makedirs(output)\n",
    "    for index, filename in enumerate(f_list):\n",
    "        if \".\" in filename:\n",
    "            config.texture_path = texture_path + filename\n",
    "            config.output_path = output + filename.split(\".\")[0]+\".png\"\n",
    "            config.save_config()\n",
    "            RenderScene.render()"
   ]
  },
  {
   "cell_type": "markdown",
   "metadata": {},
   "source": [
    "Texture + Wireframe Video"
   ]
  },
  {
   "cell_type": "code",
   "execution_count": 4,
   "metadata": {},
   "outputs": [
    {
     "name": "stdout",
     "output_type": "stream",
     "text": [
      "write done\n",
      "write done\n"
     ]
    }
   ],
   "source": [
    "task = TaskImageVideo() \n",
    "task.framerate = 0.5\n",
    "\n",
    "texture_wireframe_path = path + \"\\\\Output\\\\\" + scene_name + \"\\\\Texture_Wireframe\\\\\"\n",
    "f_list = os.listdir(texture_wireframe_path)\n",
    "for filename in f_list:\n",
    "    task.ImageInput = texture_wireframe_path + filename + \"\\\\\"\n",
    "    task.Rename()\n",
    "    task.PreProcessing()\n",
    "    task.CropImage()\n",
    "    task.ProduceVideo()\n"
   ]
  },
  {
   "cell_type": "markdown",
   "metadata": {},
   "source": [
    "Wireframe without texture"
   ]
  },
  {
   "cell_type": "code",
   "execution_count": null,
   "metadata": {},
   "outputs": [
    {
     "name": "stdout",
     "output_type": "stream",
     "text": [
      "start rendering...\n",
      "done!\n",
      "start rendering...\n",
      "done!\n",
      "start rendering...\n",
      "done!\n",
      "start rendering...\n"
     ]
    }
   ],
   "source": [
    "config.material = \"wireframe_only\"\n",
    "config.material_filename = None\n",
    "\n",
    "number = 20\n",
    "\n",
    "output = path + \"\\\\Output\\\\\" + scene_name + \"\\\\Wireframe_Only\\\\model_color\\\\\"\n",
    "if not os.path.exists(output):\n",
    "    os.makedirs(output)\n",
    "for i in range(number):\n",
    "    config.output_path = output + str(i) +\".png\"\n",
    "    color = plt.cm.hsv(i / number)\n",
    "    config.model_color = color\n",
    "    config.save_config()\n",
    "    RenderScene.render()\n",
    "    \n",
    "    \n",
    "output = path + \"\\\\Output\\\\\" + scene_name + \"\\\\Wireframe_Only\\\\wireframe_color\\\\\"\n",
    "if not os.path.exists(output):\n",
    "    os.makedirs(output)\n",
    "for i in range(number):\n",
    "    config.output_path = output + str(i) +\".png\"\n",
    "    color = plt.cm.hsv(i / number)\n",
    "    config.model_color = color\n",
    "    config.save_config()\n",
    "    RenderScene.render()"
   ]
  },
  {
   "cell_type": "markdown",
   "metadata": {},
   "source": [
    "Wireframe without texture video"
   ]
  },
  {
   "cell_type": "code",
   "execution_count": 4,
   "metadata": {},
   "outputs": [
    {
     "name": "stdout",
     "output_type": "stream",
     "text": [
      "write done\n"
     ]
    }
   ],
   "source": [
    "task = TaskImageVideo() \n",
    "task.framerate = 0.5\n",
    "\n",
    "texture_wireframe_path = path + \"\\\\Output\\\\\" + scene_name + \"\\\\Wireframe_Only\\\\\"\n",
    "f_list = os.listdir(texture_wireframe_path)\n",
    "for filename in f_list:\n",
    "    task.ImageInput = texture_wireframe_path + filename + \"\\\\\"\n",
    "    task.Rename()\n",
    "    task.PreProcessing()\n",
    "    task.CropImage()\n",
    "    task.ProduceVideo()"
   ]
  },
  {
   "cell_type": "code",
   "execution_count": null,
   "metadata": {},
   "outputs": [],
   "source": []
  },
  {
   "cell_type": "code",
   "execution_count": null,
   "metadata": {},
   "outputs": [],
   "source": []
  }
 ],
 "metadata": {
  "kernelspec": {
   "display_name": "Python 3",
   "language": "python",
   "name": "python3"
  },
  "language_info": {
   "codemirror_mode": {
    "name": "ipython",
    "version": 3
   },
   "file_extension": ".py",
   "mimetype": "text/x-python",
   "name": "python",
   "nbconvert_exporter": "python",
   "pygments_lexer": "ipython3",
   "version": "3.6.5"
  }
 },
 "nbformat": 4,
 "nbformat_minor": 1
}
