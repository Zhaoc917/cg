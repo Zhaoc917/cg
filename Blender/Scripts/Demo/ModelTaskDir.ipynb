{
 "cells": [
  {
   "cell_type": "code",
   "execution_count": 4,
   "metadata": {},
   "outputs": [],
   "source": [
    "import os\n",
    "import sys\n",
    "sys.path.append(\"..\")\n",
    "from Lib.RenderScene import RenderScene\n",
    "from Lib.ConfigClass import Config\n",
    "from Lib.ImageVideo import TaskImageVideo\n",
    "from Lib.email_sender import Email\n",
    "from IPython.display import display,Video\n",
    "import imageio\n",
    "import datetime\n",
    "import socket"
   ]
  },
  {
   "cell_type": "code",
   "execution_count": null,
   "metadata": {},
   "outputs": [],
   "source": [
    "%%javascript\n",
    "IPython.notebook.kernel.execute('nb_name = \"' + IPython.notebook.notebook_name + '\"')"
   ]
  },
  {
   "cell_type": "markdown",
   "metadata": {},
   "source": [
    "# Set task name"
   ]
  },
  {
   "cell_type": "code",
   "execution_count": 20,
   "metadata": {},
   "outputs": [
    {
     "name": "stdout",
     "output_type": "stream",
     "text": [
      "2019-12-14 17:46:34.559803\n"
     ]
    }
   ],
   "source": [
    "task_name = \"foliation_graph/genus1\"\n",
    "\n",
    "start_time = datetime.datetime.now()\n",
    "print(start_time)"
   ]
  },
  {
   "cell_type": "markdown",
   "metadata": {},
   "source": [
    "## some basic settings"
   ]
  },
  {
   "cell_type": "code",
   "execution_count": 22,
   "metadata": {},
   "outputs": [],
   "source": [
    "task = TaskImageVideo() \n",
    "task.framerate = 0.5\n",
    "\n",
    "config = Config()\n",
    "config.width = 2000\n",
    "config.height = 2000\n",
    "\n",
    "\n",
    "\n",
    "# path = os.getcwd()\n",
    "# path = os.path.dirname(path)\n",
    "# path = os.path.dirname(path)\n",
    "# model_dir = path + \"/Scene/Models/\"\n",
    "\n",
    "\n",
    "# reset path and model_dir in new environment\n",
    "# path: path for output\n",
    "# model_dir: path for models\n",
    "path = \"/pub/data/zhaoc\"\n",
    "model_dir = \"/home/wangsd/Workspace/foliation-results/outputs/scenes/\" + task_name + \"/\"\n",
    "\n",
    "f_list = os.listdir(model_dir)\n",
    "\n",
    "\n",
    "\n",
    "# reset path in new environment\n",
    "# config.blender_path = \"D:/tools/blender_2.81/blender.exe\"\n",
    "# task.ffmpegPath = 'D://FFmpeg/ffmpeg/bin/ffmpeg.exe'\n",
    "\n",
    "config.blender_path = \"/home/zhaoc/blender/blender_2.81/blender\"\n",
    "task.ffmpegPath = \"ffmpeg\"\n",
    "\n",
    "config.show_singular_face = False\n",
    "config.show_loops = False\n",
    "config.cut_mode = \"Segment\"\n",
    "config.show_singularity = True\n",
    "config.use_envmap = True\n",
    "\n",
    "config.background_render = True\n",
    "\n",
    "config.mode = \"single\"\n",
    "config.material = None\n",
    "\n",
    "config.save_config()\n",
    "RenderScene = RenderScene()\n",
    "RenderScene.config = config\n"
   ]
  },
  {
   "cell_type": "markdown",
   "metadata": {},
   "source": [
    "## cell1: wireframe + model_only"
   ]
  },
  {
   "cell_type": "code",
   "execution_count": null,
   "metadata": {},
   "outputs": [],
   "source": [
    "config.material = \"wireframe_only\"\n",
    "config.material_filename = None\n",
    "\n",
    "# without plane\n",
    "# config.plane = None\n",
    "\n",
    "# no cuts\n",
    "config.cut_mode = \"None\"\n",
    "\n",
    "output = path + \"/Output/Models/\" + task_name + \"/wireframe_only/\"\n",
    "if not os.path.exists(output):\n",
    "    os.makedirs(output)\n",
    "for index, filename in enumerate(f_list):\n",
    "    config.scene_path = model_dir + filename + \"/\"\n",
    "    config.output_path = output + filename + \".png\"\n",
    "    config.save_config()\n",
    "    RenderScene.render()"
   ]
  },
  {
   "cell_type": "markdown",
   "metadata": {},
   "source": [
    "### wireframe + model_only: video generator"
   ]
  },
  {
   "cell_type": "code",
   "execution_count": null,
   "metadata": {},
   "outputs": [],
   "source": [
    "output = path + \"/Output/Models/\" + task_name + \"/wireframe_only/\"\n",
    "\n",
    "task.ImageInput = output\n",
    "task.Rename()\n",
    "task.PreProcessing()\n",
    "task.CropImage()\n",
    "task.ProduceVideo()\n",
    "\n",
    "# save another video\n",
    "task.ImageInput = \"../../Output/Models/\" + task_name + \"/wireframe_only/\"\n",
    "task.ProduceVideo()\n",
    "\n",
    "video_path = \"../../Output/Models/\" + task_name + \"/wireframe_only/video/result.mp4\"\n",
    "display(Video(video_path, width=600, height=600))\n",
    "\n",
    "wireframe_only_time = datetime.datetime.now()"
   ]
  },
  {
   "cell_type": "markdown",
   "metadata": {},
   "source": [
    "## cell2: model_only"
   ]
  },
  {
   "cell_type": "code",
   "execution_count": null,
   "metadata": {},
   "outputs": [],
   "source": [
    "config.material = \"model_only\"\n",
    "config.material_filename = None\n",
    "\n",
    "# without plane\n",
    "# config.plane = None\n",
    "\n",
    "# without cuts\n",
    "config.cut_mode = \"None\"\n",
    "\n",
    "output = path + \"/Output/Models/\" + task_name + \"/model_only/\"\n",
    "if not os.path.exists(output):\n",
    "    os.makedirs(output)\n",
    "for index, filename in enumerate(f_list):\n",
    "    config.scene_path = model_dir + filename + \"/\"\n",
    "    config.output_path = output + filename + \".png\"\n",
    "    config.save_config()\n",
    "    RenderScene.render()"
   ]
  },
  {
   "cell_type": "markdown",
   "metadata": {},
   "source": [
    "### model_only: video generator"
   ]
  },
  {
   "cell_type": "code",
   "execution_count": null,
   "metadata": {},
   "outputs": [],
   "source": [
    "output = path + \"/Output/Models/\" + task_name + \"/model_only/\"\n",
    "\n",
    "task.ImageInput = output\n",
    "task.Rename()\n",
    "task.PreProcessing()\n",
    "task.CropImage()\n",
    "task.ProduceVideo()\n",
    "\n",
    "# save another video\n",
    "task.ImageInput = \"../../Output/Models/\" + task_name + \"/model_only/\"\n",
    "task.ProduceVideo()\n",
    "\n",
    "video_path = \"../../Output/Models/\" + task_name + \"/model_only/video/result.mp4\"\n",
    "display(Video(video_path, width=600, height=600))\n",
    "\n",
    "model_only_time = datetime.datetime.now()"
   ]
  },
  {
   "cell_type": "markdown",
   "metadata": {},
   "source": [
    "## cell3: linesxy texture u only"
   ]
  },
  {
   "cell_type": "code",
   "execution_count": null,
   "metadata": {},
   "outputs": [],
   "source": [
    "config.material = \"original\"\n",
    "config.material_filename = None\n",
    "\n",
    "# set texture\n",
    "texture_path = \"/home/zhaoc/cg/Blender/Data/\" + 'Texture/linesxy_145.png'\n",
    "config.texture_path = texture_path\n",
    "\n",
    "# without plane\n",
    "# config.plane = None\n",
    "\n",
    "# without cuts\n",
    "config.cut_mode = \"None\"\n",
    "\n",
    "# set uv\n",
    "config.uv_multiply = (1, 0)\n",
    "config.uv_add = (0, 0)\n",
    "\n",
    "output = path + \"/Output/Models/\" + task_name + \"/linesxy_u_only/\"\n",
    "if not os.path.exists(output):\n",
    "    os.makedirs(output)\n",
    "for index, filename in enumerate(f_list):\n",
    "    config.scene_path = model_dir + filename + \"/\"\n",
    "    config.output_path = output + filename + \".png\"\n",
    "    config.save_config()\n",
    "    RenderScene.render()"
   ]
  },
  {
   "cell_type": "markdown",
   "metadata": {},
   "source": [
    "### linesxy texture u only: video generator"
   ]
  },
  {
   "cell_type": "code",
   "execution_count": null,
   "metadata": {},
   "outputs": [],
   "source": [
    "output = path + \"/Output/Models/\" + task_name + \"/linesxy_u_only/\"\n",
    "\n",
    "task.ImageInput = output\n",
    "task.Rename()\n",
    "task.PreProcessing()\n",
    "task.CropImage()\n",
    "task.ProduceVideo()\n",
    "\n",
    "# save another video\n",
    "task.ImageInput = \"../../Output/Models/\" + task_name + \"/linesxy_u_only/\"\n",
    "task.ProduceVideo()\n",
    "\n",
    "video_path = \"../../Output/Models/\" + task_name + \"/linesxy_u_only/video/result.mp4\"\n",
    "display(Video(video_path, width=600, height=600))\n",
    "\n",
    "linesxy_u_only_time = datetime.datetime.now()"
   ]
  },
  {
   "cell_type": "markdown",
   "metadata": {},
   "source": [
    "## cell4: linesxy texture v only"
   ]
  },
  {
   "cell_type": "code",
   "execution_count": null,
   "metadata": {},
   "outputs": [],
   "source": [
    "config.material = \"original\"\n",
    "config.material_filename = None\n",
    "\n",
    "# set texture\n",
    "texture_path = \"/home/zhaoc/cg/Blender/Data/\" + 'Texture/linesxy_145.png'\n",
    "config.texture_path = texture_path\n",
    "\n",
    "# without plane\n",
    "# config.plane = None\n",
    "\n",
    "# without cuts\n",
    "config.cut_mode = \"None\"\n",
    "\n",
    "# set uv\n",
    "config.uv_multiply = (0, 1)\n",
    "config.uv_add = (0, 0)\n",
    "\n",
    "output = path + \"/Output/Models/\" + task_name + \"/linesxy_v_only/\"\n",
    "if not os.path.exists(output):\n",
    "    os.makedirs(output)\n",
    "for index, filename in enumerate(f_list):\n",
    "    config.scene_path = model_dir + filename + \"/\"\n",
    "    config.output_path = output + filename + \".png\"\n",
    "    config.save_config()\n",
    "    RenderScene.render()"
   ]
  },
  {
   "cell_type": "markdown",
   "metadata": {},
   "source": [
    "### linesxy texture v only: video generator"
   ]
  },
  {
   "cell_type": "code",
   "execution_count": null,
   "metadata": {},
   "outputs": [],
   "source": [
    "output = path + \"/Output/Models/\" + task_name + \"/linesxy_v_only/\"\n",
    "\n",
    "task.ImageInput = output\n",
    "task.Rename()\n",
    "task.PreProcessing()\n",
    "task.CropImage()\n",
    "task.ProduceVideo()\n",
    "\n",
    "# save another video\n",
    "task.ImageInput = \"../../Output/Models/\" + task_name + \"/linesxy_v_only/\"\n",
    "task.ProduceVideo()\n",
    "\n",
    "video_path = \"../../Output/Models/\" + task_name + \"/linesxy_v_only/video/result.mp4\"\n",
    "display(Video(video_path, width=600, height=600))\n",
    "\n",
    "linesxy_v_only_time = datetime.datetime.now()"
   ]
  },
  {
   "cell_type": "markdown",
   "metadata": {},
   "source": [
    "## cell5: linesxy texture uv"
   ]
  },
  {
   "cell_type": "code",
   "execution_count": null,
   "metadata": {},
   "outputs": [],
   "source": [
    "config.material = \"original\"\n",
    "config.material_filename = None\n",
    "\n",
    "# set texture\n",
    "texture_path = \"/home/zhaoc/cg/Blender/Data/\" + 'Texture/linesxy_145.png'\n",
    "config.texture_path = texture_path\n",
    "\n",
    "# without plane\n",
    "# config.plane = None\n",
    "\n",
    "# without cuts\n",
    "config.cut_mode = \"None\"\n",
    "\n",
    "# set uv\n",
    "config.uv_multiply = (1, 1)\n",
    "config.uv_add = (0, 0)\n",
    "\n",
    "output = path + \"/Output/Models/\" + task_name + \"/linesxy_uv/\"\n",
    "if not os.path.exists(output):\n",
    "    os.makedirs(output)\n",
    "for index, filename in enumerate(f_list):\n",
    "    config.scene_path = model_dir + filename + \"/\"\n",
    "    config.output_path = output + filename + \".png\"\n",
    "    config.save_config()\n",
    "    RenderScene.render()"
   ]
  },
  {
   "cell_type": "markdown",
   "metadata": {},
   "source": [
    "### linesxy texture uv: video generator"
   ]
  },
  {
   "cell_type": "code",
   "execution_count": null,
   "metadata": {},
   "outputs": [],
   "source": [
    "output = path + \"/Output/Models/\" + task_name + \"/linesxy_uv/\"\n",
    "\n",
    "task.ImageInput = output\n",
    "task.Rename()\n",
    "task.PreProcessing()\n",
    "task.CropImage()\n",
    "task.ProduceVideo()\n",
    "\n",
    "# save another video\n",
    "task.ImageInput = \"../../Output/Models/\" + task_name + \"/linesxy_uv/\"\n",
    "task.ProduceVideo()\n",
    "\n",
    "video_path = \"../../Output/Models/\" + task_name + \"/linesxy_uv/video/result.mp4\"\n",
    "display(Video(video_path, width=600, height=600))\n",
    "\n",
    "linesxy_uv_time = datetime.datetime.now()"
   ]
  },
  {
   "cell_type": "markdown",
   "metadata": {},
   "source": [
    "## cell6: checkerboard texture u only"
   ]
  },
  {
   "cell_type": "code",
   "execution_count": null,
   "metadata": {},
   "outputs": [],
   "source": [
    "config.material = \"original\"\n",
    "config.material_filename = None\n",
    "\n",
    "# set texture\n",
    "texture_path = \"/home/zhaoc/cg/Blender/Data/\" + 'Texture/checkerboard.png'\n",
    "config.texture_path = texture_path\n",
    "\n",
    "# without plane\n",
    "# config.plane = None\n",
    "\n",
    "# without cuts\n",
    "config.cut_mode = \"None\"\n",
    "\n",
    "# set uv\n",
    "config.uv_multiply = (1, 0)\n",
    "config.uv_add = (0.05, 0.05)\n",
    "\n",
    "output = path + \"/Output/Models/\" + task_name + \"/checkerboard_u_only/\"\n",
    "if not os.path.exists(output):\n",
    "    os.makedirs(output)\n",
    "for index, filename in enumerate(f_list):\n",
    "    config.scene_path = model_dir + filename + \"/\"\n",
    "    config.output_path = output + filename + \".png\"\n",
    "    config.save_config()\n",
    "    RenderScene.render()"
   ]
  },
  {
   "cell_type": "markdown",
   "metadata": {},
   "source": [
    "### checkerboard texture u only: video generator"
   ]
  },
  {
   "cell_type": "code",
   "execution_count": null,
   "metadata": {},
   "outputs": [],
   "source": [
    "output = path + \"/Output/Models/\" + task_name + \"/checkerboard_u_only/\"\n",
    "\n",
    "task.ImageInput = output\n",
    "task.Rename()\n",
    "task.PreProcessing()\n",
    "task.CropImage()\n",
    "task.ProduceVideo()\n",
    "\n",
    "# save another video\n",
    "task.ImageInput = \"../../Output/Models/\" + task_name + \"/checkerboard_u_only/\"\n",
    "task.ProduceVideo()\n",
    "\n",
    "video_path = \"../../Output/Models/\" + task_name + \"/checkerboard_u_only/video/result.mp4\"\n",
    "display(Video(video_path, width=600, height=600))\n",
    "\n",
    "checkerboard_u_only_time = datetime.datetime.now()"
   ]
  },
  {
   "cell_type": "markdown",
   "metadata": {},
   "source": [
    "## cell7: checkerboard texture v only"
   ]
  },
  {
   "cell_type": "code",
   "execution_count": null,
   "metadata": {},
   "outputs": [],
   "source": [
    "config.material = \"original\"\n",
    "config.material_filename = None\n",
    "\n",
    "# set texture\n",
    "texture_path = \"/home/zhaoc/cg/Blender/Data/\" + 'Texture/checkerboard.png'\n",
    "config.texture_path = texture_path\n",
    "\n",
    "# without plane\n",
    "# config.plane = None\n",
    "\n",
    "# without cuts\n",
    "config.cut_mode = \"None\"\n",
    "\n",
    "# set uv\n",
    "config.uv_multiply = (0, 1)\n",
    "config.uv_add = (0.05, 0.05)\n",
    "\n",
    "output = path + \"/Output/Models/\" + task_name + \"/checkerboard_v_only/\"\n",
    "if not os.path.exists(output):\n",
    "    os.makedirs(output)\n",
    "for index, filename in enumerate(f_list):\n",
    "    config.scene_path = model_dir + filename + \"/\"\n",
    "    config.output_path = output + filename + \".png\"\n",
    "    config.save_config()\n",
    "    RenderScene.render()"
   ]
  },
  {
   "cell_type": "markdown",
   "metadata": {},
   "source": [
    "### checkerboard texture v only: video generator"
   ]
  },
  {
   "cell_type": "code",
   "execution_count": null,
   "metadata": {},
   "outputs": [],
   "source": [
    "output = path + \"/Output/Models/\" + task_name + \"/checkerboard_v_only/\"\n",
    "\n",
    "task.ImageInput = output\n",
    "task.Rename()\n",
    "task.PreProcessing()\n",
    "task.CropImage()\n",
    "task.ProduceVideo()\n",
    "\n",
    "# save another video\n",
    "task.ImageInput = \"../../Output/Models/\" + task_name + \"/checkerboard_v_only/\"\n",
    "task.ProduceVideo()\n",
    "\n",
    "video_path = \"../../Output/Models/\" + task_name + \"/checkerboard_v_only/video/result.mp4\"\n",
    "display(Video(video_path, width=600, height=600))\n",
    "\n",
    "checkerboard_v_only_time = datetime.datetime.now()"
   ]
  },
  {
   "cell_type": "markdown",
   "metadata": {},
   "source": [
    "## cell8: checkerboard texture uv"
   ]
  },
  {
   "cell_type": "code",
   "execution_count": null,
   "metadata": {},
   "outputs": [],
   "source": [
    "config.material = \"original\"\n",
    "config.material_filename = None\n",
    "\n",
    "# set texture\n",
    "texture_path = \"/home/zhaoc/cg/Blender/Data/\" + 'Texture/checkerboard.png'\n",
    "config.texture_path = texture_path\n",
    "\n",
    "# without plane\n",
    "# config.plane = None\n",
    "\n",
    "# without cuts\n",
    "config.cut_mode = \"None\"\n",
    "\n",
    "# set uv\n",
    "config.uv_multiply = (1, 1)\n",
    "config.uv_add = (0.05, 0.05)\n",
    "\n",
    "output = path + \"/Output/Models/\" + task_name + \"/checkerboard_uv/\"\n",
    "if not os.path.exists(output):\n",
    "    os.makedirs(output)\n",
    "for index, filename in enumerate(f_list):\n",
    "    config.scene_path = model_dir + filename + \"/\"\n",
    "    config.output_path = output + filename + \".png\"\n",
    "    config.save_config()\n",
    "    RenderScene.render()"
   ]
  },
  {
   "cell_type": "markdown",
   "metadata": {},
   "source": [
    "### checkerboard texture uv: video generator"
   ]
  },
  {
   "cell_type": "code",
   "execution_count": null,
   "metadata": {},
   "outputs": [],
   "source": [
    "output = path + \"/Output/Models/\" + task_name + \"/checkerboard_uv/\"\n",
    "\n",
    "task.ImageInput = output\n",
    "task.Rename()\n",
    "task.PreProcessing()\n",
    "task.CropImage()\n",
    "task.ProduceVideo()\n",
    "\n",
    "# save another video\n",
    "task.ImageInput = \"../../Output/Models/\" + task_name + \"/checkerboard_uv/\"\n",
    "task.ProduceVideo()\n",
    "\n",
    "video_path = \"../../Output/Models/\" + task_name + \"/checkerboard_uv/video/result.mp4\"\n",
    "display(Video(video_path, width=600, height=600))\n",
    "\n",
    "checkerboard_uv_time = datetime.datetime.now()"
   ]
  },
  {
   "cell_type": "markdown",
   "metadata": {},
   "source": [
    "## cell9: circle texture"
   ]
  },
  {
   "cell_type": "code",
   "execution_count": null,
   "metadata": {},
   "outputs": [],
   "source": [
    "config.material = \"original\"\n",
    "config.material_filename = None\n",
    "\n",
    "# set texture\n",
    "texture_path = \"/home/zhaoc/cg/Blender/Data/\" + 'Texture/circle.png'\n",
    "config.texture_path = texture_path\n",
    "\n",
    "# without plane\n",
    "# config.plane = None\n",
    "\n",
    "# without cuts\n",
    "config.cut_mode = \"None\"\n",
    "\n",
    "# set uv\n",
    "config.uv_multiply = (1, 1)\n",
    "config.uv_add = (0.05, 0.05)\n",
    "\n",
    "output = path + \"/Output/Models/\" + task_name + \"/circle/\"\n",
    "if not os.path.exists(output):\n",
    "    os.makedirs(output)\n",
    "for index, filename in enumerate(f_list):\n",
    "    config.scene_path = model_dir + filename + \"/\"\n",
    "    config.output_path = output + filename + \".png\"\n",
    "    config.save_config()\n",
    "    RenderScene.render()"
   ]
  },
  {
   "cell_type": "markdown",
   "metadata": {},
   "source": [
    "### circle texture: video generator"
   ]
  },
  {
   "cell_type": "code",
   "execution_count": null,
   "metadata": {},
   "outputs": [],
   "source": [
    "output = path + \"/Output/Models/\" + task_name + \"/circle/\"\n",
    "\n",
    "task.ImageInput = output\n",
    "task.Rename()\n",
    "task.PreProcessing()\n",
    "task.CropImage()\n",
    "task.ProduceVideo()\n",
    "\n",
    "# save another video\n",
    "task.ImageInput = \"../../Output/Models/\" + task_name + \"/circle/\"\n",
    "task.ProduceVideo()\n",
    "\n",
    "video_path = \"../../Output/Models/\" + task_name + \"/circle/video/result.mp4\"\n",
    "display(Video(video_path, width=600, height=600))\n",
    "\n",
    "circle_time = datetime.datetime.now()"
   ]
  },
  {
   "cell_type": "markdown",
   "metadata": {},
   "source": [
    "## cell10: transparent material"
   ]
  },
  {
   "cell_type": "code",
   "execution_count": null,
   "metadata": {},
   "outputs": [],
   "source": [
    "config.material = None\n",
    "config.material_filename = \"55-tomato-material-transparent.blend\"\n",
    "\n",
    "output = path + \"/Output/Models/\" + task_name + \"/transparent/\"\n",
    "\n",
    "# without plane\n",
    "# config.plane = None\n",
    "\n",
    "# show cuts\n",
    "config.cut_mode = \"Segment\"\n",
    "\n",
    "if not os.path.exists(output):\n",
    "    os.makedirs(output)\n",
    "for index, filename in enumerate(f_list):\n",
    "    scene_file_list = os.listdir(model_dir + filename + \"/\")\n",
    "    if \"singularFaces.obj\" in scene_file_list:\n",
    "        config.show_singular_face = True\n",
    "    else:\n",
    "        config.show_singular_face = False\n",
    "        \n",
    "    if \"loops.obj\" in scene_file_list:\n",
    "        config.show_loops = True\n",
    "    else:\n",
    "        config.show_loops = False\n",
    "        \n",
    "    config.scene_path = model_dir + filename + \"/\"\n",
    "    config.output_path = output + filename + \".png\"\n",
    "    config.save_config()\n",
    "    RenderScene.render()"
   ]
  },
  {
   "cell_type": "markdown",
   "metadata": {},
   "source": [
    "### circle texture: video generator"
   ]
  },
  {
   "cell_type": "code",
   "execution_count": null,
   "metadata": {},
   "outputs": [],
   "source": [
    "output = path + \"/Output/Models/\" + task_name + \"/transparent/\"\n",
    "\n",
    "task.ImageInput = output\n",
    "task.Rename()\n",
    "task.PreProcessing()\n",
    "task.CropImage()\n",
    "task.ProduceVideo()\n",
    "\n",
    "# save another video\n",
    "task.ImageInput = \"../../Output/Models/\" + task_name + \"/transparent/\"\n",
    "task.ProduceVideo()\n",
    "\n",
    "video_path = \"../../Output/Models/\" + task_name + \"/transparent/video/result.mp4\"\n",
    "display(Video(video_path, width=600, height=600))\n",
    "\n",
    "transparent_time = datetime.datetime.now()"
   ]
  },
  {
   "cell_type": "markdown",
   "metadata": {},
   "source": [
    "## cell11: cut_mode_plain"
   ]
  },
  {
   "cell_type": "code",
   "execution_count": null,
   "metadata": {},
   "outputs": [],
   "source": [
    "config.material = \"model_only\"\n",
    "config.material_filename = None\n",
    "\n",
    "# without plane\n",
    "# config.plane = None\n",
    "\n",
    "config.show_loops = False\n",
    "config.show_singular_face = False\n",
    "\n",
    "config.cut_mode = \"Plain\"\n",
    "\n",
    "output = path + \"/Output/Models/\" + task_name + \"/cut_mode_plain/\"\n",
    "if not os.path.exists(output):\n",
    "    os.makedirs(output)\n",
    "for index, filename in enumerate(f_list):\n",
    "    config.scene_path = model_dir + filename + \"/\"\n",
    "    config.output_path = output + filename + \".png\"\n",
    "    config.save_config()\n",
    "    RenderScene.render()"
   ]
  },
  {
   "cell_type": "markdown",
   "metadata": {},
   "source": [
    "### cut_mode_plain: video generator"
   ]
  },
  {
   "cell_type": "code",
   "execution_count": null,
   "metadata": {},
   "outputs": [],
   "source": [
    "output = path + \"/Output/Models/\" + task_name + \"/cut_mode_plain/\"\n",
    "\n",
    "task.ImageInput = output\n",
    "task.Rename()\n",
    "task.PreProcessing()\n",
    "task.CropImage()\n",
    "task.ProduceVideo()\n",
    "\n",
    "# save another video\n",
    "task.ImageInput = \"../../Output/Models/\" + task_name + \"/cut_mode_plain/\"\n",
    "task.ProduceVideo()\n",
    "\n",
    "video_path = \"../../Output/Models/\" + task_name + \"/cut_mode_plain/video/result.mp4\"\n",
    "display(Video(video_path, width=600, height=600))\n",
    "\n",
    "cut_mode_plain_time = datetime.datetime.now()"
   ]
  },
  {
   "cell_type": "markdown",
   "metadata": {},
   "source": [
    "## cell12: cut_mode_segment"
   ]
  },
  {
   "cell_type": "code",
   "execution_count": null,
   "metadata": {},
   "outputs": [],
   "source": [
    "config.material = \"model_only\"\n",
    "config.material_filename = None\n",
    "\n",
    "# without plane\n",
    "# config.plane = None\n",
    "\n",
    "config.show_loops = False\n",
    "config.show_singular_face = False\n",
    "\n",
    "config.cut_mode = \"Segment\"\n",
    "\n",
    "output = path + \"/Output/Models/\" + task_name + \"/cut_mode_segment/\"\n",
    "if not os.path.exists(output):\n",
    "    os.makedirs(output)\n",
    "for index, filename in enumerate(f_list):\n",
    "    config.scene_path = model_dir + filename + \"/\"\n",
    "    config.output_path = output + filename + \".png\"\n",
    "    config.save_config()\n",
    "    RenderScene.render()"
   ]
  },
  {
   "cell_type": "markdown",
   "metadata": {},
   "source": [
    "### cut_mode_segment: video generator"
   ]
  },
  {
   "cell_type": "code",
   "execution_count": null,
   "metadata": {},
   "outputs": [],
   "source": [
    "output = path + \"/Output/Models/\" + task_name + \"/cut_mode_segment/\"\n",
    "\n",
    "task.ImageInput = output\n",
    "task.Rename()\n",
    "task.PreProcessing()\n",
    "task.CropImage()\n",
    "task.ProduceVideo()\n",
    "\n",
    "# save another video\n",
    "task.ImageInput = \"../../Output/Models/\" + task_name + \"/cut_mode_segment/\"\n",
    "task.ProduceVideo()\n",
    "\n",
    "video_path = \"../../Output/Models/\" + task_name + \"/cut_mode_segment/video/result.mp4\"\n",
    "display(Video(video_path, width=600, height=600))\n",
    "\n",
    "cut_mode_segment_time = datetime.datetime.now()"
   ]
  },
  {
   "cell_type": "markdown",
   "metadata": {},
   "source": [
    "## cell13: cut_mode_zero"
   ]
  },
  {
   "cell_type": "code",
   "execution_count": null,
   "metadata": {},
   "outputs": [],
   "source": [
    "config.material = \"model_only\"\n",
    "config.material_filename = None\n",
    "\n",
    "# without plane\n",
    "# config.plane = None\n",
    "\n",
    "config.show_loops = False\n",
    "config.show_singular_face = False\n",
    "\n",
    "config.cut_mode = \"zero_mode\"\n",
    "\n",
    "output = path + \"/Output/Models/\" + task_name + \"/cut_mode_zero/\"\n",
    "if not os.path.exists(output):\n",
    "    os.makedirs(output)\n",
    "for index, filename in enumerate(f_list):\n",
    "    config.scene_path = model_dir + filename + \"/\"\n",
    "    config.output_path = output + filename + \".png\"\n",
    "    config.save_config()\n",
    "    RenderScene.render()"
   ]
  },
  {
   "cell_type": "markdown",
   "metadata": {},
   "source": [
    "### cut_mode_zero: video generator"
   ]
  },
  {
   "cell_type": "code",
   "execution_count": null,
   "metadata": {},
   "outputs": [],
   "source": [
    "output = path + \"/Output/Models/\" + task_name + \"/cut_mode_zero/\"\n",
    "\n",
    "task.ImageInput = output\n",
    "task.Rename()\n",
    "task.PreProcessing()\n",
    "task.CropImage()\n",
    "task.ProduceVideo()\n",
    "\n",
    "# save another video\n",
    "task.ImageInput = \"../../Output/Models/\" + task_name + \"/cut_mode_zero/\"\n",
    "task.ProduceVideo()\n",
    "\n",
    "video_path = \"../../Output/Models/\" + task_name + \"/cut_mode_zero/video/result.mp4\"\n",
    "display(Video(video_path, width=600, height=600))\n",
    "\n",
    "cut_mode_zero_time = datetime.datetime.now()"
   ]
  },
  {
   "cell_type": "markdown",
   "metadata": {},
   "source": [
    "## cell14: cut_mode_incoherent"
   ]
  },
  {
   "cell_type": "code",
   "execution_count": null,
   "metadata": {},
   "outputs": [],
   "source": [
    "config.material = \"model_only\"\n",
    "config.material_filename = None\n",
    "\n",
    "# without plane\n",
    "# config.plane = None\n",
    "\n",
    "config.show_loops = False\n",
    "config.show_singular_face = False\n",
    "\n",
    "config.cut_mode = \"incoherent\"\n",
    "\n",
    "output = path + \"/Output/Models/\" + task_name + \"/cut_mode_incoherent/\"\n",
    "if not os.path.exists(output):\n",
    "    os.makedirs(output)\n",
    "for index, filename in enumerate(f_list):\n",
    "    config.scene_path = model_dir + filename + \"/\"\n",
    "    config.output_path = output + filename + \".png\"\n",
    "    config.save_config()\n",
    "    RenderScene.render()"
   ]
  },
  {
   "cell_type": "markdown",
   "metadata": {},
   "source": [
    "### cut_mode_incoherent: video generator"
   ]
  },
  {
   "cell_type": "code",
   "execution_count": null,
   "metadata": {},
   "outputs": [],
   "source": [
    "output = path + \"/Output/Models/\" + task_name + \"/cut_mode_incoherent/\"\n",
    "\n",
    "task.ImageInput = output\n",
    "task.Rename()\n",
    "task.PreProcessing()\n",
    "task.CropImage()\n",
    "task.ProduceVideo()\n",
    "\n",
    "# save another video\n",
    "task.ImageInput = \"../../Output/Models/\" + task_name + \"/cut_mode_incoherent/\"\n",
    "task.ProduceVideo()\n",
    "\n",
    "video_path = \"../../Output/Models/\" + task_name + \"/cut_mode_incoherent/video/result.mp4\"\n",
    "display(Video(video_path, width=600, height=600))\n",
    "\n",
    "cut_mode_incoherent_time = datetime.datetime.now()"
   ]
  },
  {
   "cell_type": "markdown",
   "metadata": {},
   "source": [
    "# Send email when finished"
   ]
  },
  {
   "cell_type": "code",
   "execution_count": 23,
   "metadata": {},
   "outputs": [
    {
     "name": "stderr",
     "output_type": "stream",
     "text": [
      "send: 'ehlo smtp.qq.com\\r\\n'\n",
      "reply: b'250-smtp.qq.com\\r\\n'\n",
      "reply: b'250-PIPELINING\\r\\n'\n",
      "reply: b'250-SIZE 73400320\\r\\n'\n",
      "reply: b'250-AUTH LOGIN PLAIN\\r\\n'\n",
      "reply: b'250-AUTH=LOGIN\\r\\n'\n",
      "reply: b'250-MAILCOMPRESS\\r\\n'\n",
      "reply: b'250 8BITMIME\\r\\n'\n",
      "reply: retcode (250); Msg: b'smtp.qq.com\\nPIPELINING\\nSIZE 73400320\\nAUTH LOGIN PLAIN\\nAUTH=LOGIN\\nMAILCOMPRESS\\n8BITMIME'\n",
      "send: 'AUTH PLAIN ADg0MTc4MTA2M0BxcS5jb20AamZjYm5vbXVjYXRwYmVkYg==\\r\\n'\n",
      "reply: b'235 Authentication successful\\r\\n'\n",
      "reply: retcode (235); Msg: b'Authentication successful'\n",
      "send: 'mail FROM:<841781063@qq.com> size=390\\r\\n'\n",
      "reply: b'250 Ok\\r\\n'\n",
      "reply: retcode (250); Msg: b'Ok'\n",
      "send: 'rcpt TO:<zhaoc@ios.ac.cn>\\r\\n'\n",
      "reply: b'250 Ok\\r\\n'\n",
      "reply: retcode (250); Msg: b'Ok'\n",
      "send: 'data\\r\\n'\n",
      "reply: b'354 End data with <CR><LF>.<CR><LF>\\r\\n'\n",
      "reply: retcode (354); Msg: b'End data with <CR><LF>.<CR><LF>'\n",
      "data: (354, b'End data with <CR><LF>.<CR><LF>')\n",
      "send: b'Content-Type: text/plain; charset=\"utf-8\"\\r\\nMIME-Version: 1.0\\r\\nContent-Transfer-Encoding: base64\\r\\nSubject: =?utf-8?q?Render_Task_Done!?=\\r\\nFrom: 841781063@qq.com\\r\\nTo: zhaoc@ios.ac.cn\\r\\n\\r\\nSW5wdXQgc2NlbmU6IGZvbGlhdGlvbl9ncmFwaC9nZW51czEKT3V0cHV0IHBhdGg6IEQ6XHpoYW9j\\r\\nXGNnXEJsZW5kZXIvT3V0cHV0LwpTY2VuZU51bWJlcjogMjgKRW5kIFRpbWU6IDIwMTktMTItMTQg\\r\\nMTc6NDY6NDEuMjMzNzcwClRvdGFsIFRpbWU6IDA6MDA6MDYK\\r\\n.\\r\\n'\n",
      "reply: b'250 Ok: queued as \\r\\n'\n",
      "reply: retcode (250); Msg: b'Ok: queued as'\n",
      "data: (250, b'Ok: queued as')\n",
      "send: 'quit\\r\\n'\n",
      "reply: b'221 Bye\\r\\n'\n",
      "reply: retcode (221); Msg: b'Bye'\n"
     ]
    }
   ],
   "source": [
    "email = Email()\n",
    "email.mail_content = \"Input scene: \" + task_name + '\\n' + \"Output path: \" + path + \"/Output/\" + \"\\n\" + \"SceneNumber: \" + str(len(f_list)) + \\\n",
    "\"\\n\" + \"End Time: \" + str(datetime.datetime.now()) + \"\\n\" + \"Total Time: \" + str((cut_mode_incoherent_time - start_time)).split('.')[0] + \\\n",
    "\"\\n\" + \"Time per cell: \" + \"\\n\" + \\\n",
    "\"    wireframe_only: \" + str((wireframe_only_time - start_time)).split('.')[0] + \"\\n\" + \\\n",
    "\"    model_only: \" + str((model_only_time - wireframe_only_time)).split('.')[0] + \"\\n\" + \\\n",
    "\"    linesxy_u_only: \" + str((linesxy_u_only_time - model_only_time)).split('.')[0] + \"\\n\" + \\\n",
    "\"    linesxy_v_only: \" + str((linesxy_v_only_time - linesxy_u_only_time)).split('.')[0] + \"\\n\" + \\\n",
    "\"    linesxy_uv: \" + str((linesxy_uv_time - linesxy_v_only_time)).split('.')[0] + \"\\n\" + \\\n",
    "\"    checkerboard_u_only: \" + str((checkerboard_u_only_time - linesxy_uv_time)).split('.')[0] + \"\\n\" + \\\n",
    "\"    checkerboard_v_only: \" + str((checkerboard_v_only_time - checkerboard_u_only_time)).split('.')[0] + \"\\n\" + \\\n",
    "\"    checkerboard_uv: \" + str((checkerboard_uv_time - checkerboard_v_only_time)).split('.')[0] + \"\\n\" + \\\n",
    "\"    circle: \" + str((circle_time - checkerboard_uv_time)).split('.')[0] + \"\\n\" + \\\n",
    "\"    transparent: \" + str((transparent_time - circle_time)).split('.')[0] + \"\\n\" + \\\n",
    "\"    cut_mode_plain: \" + str((cut_mode_plain_time - transparent_time)).split('.')[0] + \"\\n\" + \\\n",
    "\"    cut_mode_segment: \" + str((cut_mode_segment_time - cut_mode_plain_time)).split('.')[0] + \"\\n\" + \\\n",
    "\"    cut_mode_zero: \" + str((cut_mode_zero_time - cut_mode_segment_time)).split('.')[0] + \"\\n\" + \\\n",
    "\"    cut_mode_incoherent: \" + str((cut_mode_incoherent_time - cut_mode_zero_time)).split('.')[0] + \"\\n\" + \"\\n\" + \"\\n\" + \\ \n",
    "\"Current Filename: \" + nb_name + \"\\n\" + \"Current IP: \" + socket.gethostbyname(socket.gethostname()) + \"\\n\"\n",
    "\n",
    "\n"
   ]
  },
  {
   "cell_type": "code",
   "execution_count": null,
   "metadata": {},
   "outputs": [],
   "source": []
  },
  {
   "cell_type": "code",
   "execution_count": null,
   "metadata": {},
   "outputs": [],
   "source": []
  },
  {
   "cell_type": "code",
   "execution_count": null,
   "metadata": {},
   "outputs": [],
   "source": []
  },
  {
   "cell_type": "code",
   "execution_count": null,
   "metadata": {},
   "outputs": [],
   "source": []
  }
 ],
 "metadata": {
  "kernelspec": {
   "display_name": "Python 3",
   "language": "python",
   "name": "python3"
  },
  "language_info": {
   "codemirror_mode": {
    "name": "ipython",
    "version": 3
   },
   "file_extension": ".py",
   "mimetype": "text/x-python",
   "name": "python",
   "nbconvert_exporter": "python",
   "pygments_lexer": "ipython3",
   "version": "3.6.5"
  }
 },
 "nbformat": 4,
 "nbformat_minor": 1
}
