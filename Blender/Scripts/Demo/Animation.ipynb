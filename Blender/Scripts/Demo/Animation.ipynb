{
 "cells": [
  {
   "cell_type": "code",
   "execution_count": 11,
   "metadata": {},
   "outputs": [],
   "source": [
    "import os\n",
    "import sys\n",
    "sys.path.append(\"..\")\n",
    "from Lib.RenderScene import RenderScene\n",
    "from Lib.ConfigClass import Config\n",
    "from Lib.ImageVideo import TaskImageVideo\n",
    "from IPython.display import display,Video\n",
    "import imageio"
   ]
  },
  {
   "cell_type": "markdown",
   "metadata": {},
   "source": [
    "Animation"
   ]
  },
  {
   "cell_type": "code",
   "execution_count": 12,
   "metadata": {},
   "outputs": [],
   "source": [
    "task = TaskImageVideo() \n",
    "task.framerate = 48\n",
    "\n",
    "\n",
    "path = os.getcwd()\n",
    "path = os.path.dirname(path)\n",
    "path = os.path.dirname(path)\n",
    "\n",
    "\n",
    "scene_name = \"eight\"\n",
    "\n",
    "config = Config()\n",
    "config.width = 200\n",
    "config.height = 150\n",
    "\n",
    "path = os.getcwd()\n",
    "path = os.path.dirname(path)\n",
    "path = os.path.dirname(path)\n",
    "\n",
    "config.show_singular_face = False\n",
    "config.show_loops = False\n",
    "config.cut_mode = \"Segment\"\n",
    "config.show_singularity = True\n",
    "config.use_envmap = True\n",
    "config.material = \"original\"\n",
    "config.material_filename = None\n",
    "config.scene = scene_name\n",
    "\n",
    "\n",
    "config.blender_path = \"D:/tools/blender_2.81/blender.exe\"\n",
    "task.ffmpegPath = 'D://FFmpeg/ffmpeg/bin/ffmpeg.exe'\n",
    "\n",
    "\n",
    "config.background_render = True\n",
    "\n",
    "# config.mode = \"predefined\"\n",
    "# config.material = None\n",
    "\n",
    "config.save_config()\n",
    "RenderScene = RenderScene()\n",
    "RenderScene.config = config\n"
   ]
  },
  {
   "cell_type": "markdown",
   "metadata": {},
   "source": [
    "rotation Z"
   ]
  },
  {
   "cell_type": "code",
   "execution_count": 3,
   "metadata": {},
   "outputs": [
    {
     "name": "stdout",
     "output_type": "stream",
     "text": [
      "start rendering...\n",
      "done!\n"
     ]
    }
   ],
   "source": [
    "config.mode = \"rotation\"\n",
    "config.rotation_start = 0\n",
    "config.rotation_end = 361\n",
    "config.rotation_step = 1\n",
    "config.rotation_axis = \"Z\"\n",
    "config.save_config()\n",
    "RenderScene.render()"
   ]
  },
  {
   "cell_type": "markdown",
   "metadata": {},
   "source": [
    "rotation Z video"
   ]
  },
  {
   "cell_type": "code",
   "execution_count": 13,
   "metadata": {},
   "outputs": [
    {
     "name": "stdout",
     "output_type": "stream",
     "text": [
      "write done\n"
     ]
    },
    {
     "data": {
      "text/html": [
       "<video src=\"../../Output/eight/Rotation/Z/video/result.mp4\" controls  width=\"600\"  height=\"600\">\n",
       "      Your browser does not support the <code>video</code> element.\n",
       "    </video>"
      ],
      "text/plain": [
       "<IPython.core.display.Video object>"
      ]
     },
     "metadata": {},
     "output_type": "display_data"
    }
   ],
   "source": [
    "output = path + \"/Output/\" + scene_name + \"/Rotation/Z/\"\n",
    "\n",
    "task.ImageInput = output\n",
    "task.PngPath = output\n",
    "task.JpgPath = output + \"Jpg/\"\n",
    "if not os.path.exists(task.JpgPath):\n",
    "    os.makedirs(task.JpgPath)\n",
    "    \n",
    "task.CropPath = output + \"Crop/\"\n",
    "if not os.path.exists(task.CropPath):\n",
    "    os.makedirs(task.CropPath)\n",
    "    \n",
    "task.input_format = config.object_name.split('.')[0]+\"_rotation_%03d.jpg\"\n",
    "\n",
    "# task.PreProcessing()\n",
    "# task.CropImage()\n",
    "task.ProduceVideo()\n",
    "\n",
    "video_path = \"../../Output/\"+ scene_name + \"/Rotation/Z/\" + \"video/result.mp4\"\n",
    "display(Video(video_path, width=600, height = 600))"
   ]
  },
  {
   "cell_type": "markdown",
   "metadata": {},
   "source": [
    "rotation Y"
   ]
  },
  {
   "cell_type": "code",
   "execution_count": null,
   "metadata": {},
   "outputs": [
    {
     "name": "stdout",
     "output_type": "stream",
     "text": [
      "start rendering...\n"
     ]
    }
   ],
   "source": [
    "config.mode = \"rotation\"\n",
    "config.rotation_start = 0\n",
    "config.rotation_end = 361\n",
    "config.rotation_step = 1\n",
    "config.rotation_axis = \"Y\"\n",
    "config.save_config()\n",
    "RenderScene.render()"
   ]
  },
  {
   "cell_type": "markdown",
   "metadata": {},
   "source": [
    "rotation Y video"
   ]
  },
  {
   "cell_type": "code",
   "execution_count": null,
   "metadata": {},
   "outputs": [],
   "source": [
    "output = path + \"/Output/\" + scene_name + \"/Rotation/Y/\"\n",
    "\n",
    "task.ImageInput = output\n",
    "task.PngPath = output\n",
    "task.JpgPath = output + \"Jpg/\"\n",
    "if not os.path.exists(task.JpgPath):\n",
    "    os.makedirs(task.JpgPath)\n",
    "    \n",
    "task.CropPath = output + \"Crop/\"\n",
    "if not os.path.exists(task.CropPath):\n",
    "    os.makedirs(task.CropPath)\n",
    "    \n",
    "task.input_format = config.object_name.split('.')[0]+\"_rotation_%03d.jpg\"\n",
    "\n",
    "# task.PreProcessing()\n",
    "# task.CropImage()\n",
    "task.ProduceVideo()\n",
    "\n",
    "video_path = \"../../Output/\"+ scene_name + \"/Rotation/Y/\" + \"video/result.mp4\"\n",
    "display(Video(video_path, width=600, height = 600))"
   ]
  },
  {
   "cell_type": "markdown",
   "metadata": {},
   "source": [
    "rotation X"
   ]
  },
  {
   "cell_type": "code",
   "execution_count": null,
   "metadata": {},
   "outputs": [
    {
     "name": "stdout",
     "output_type": "stream",
     "text": [
      "start rendering...\n"
     ]
    }
   ],
   "source": [
    "config.mode = \"rotation\"\n",
    "config.rotation_start = 0\n",
    "config.rotation_end = 361\n",
    "config.rotation_step = 1\n",
    "config.rotation_axis = \"X\"\n",
    "config.save_config()\n",
    "RenderScene.render()"
   ]
  },
  {
   "cell_type": "markdown",
   "metadata": {},
   "source": [
    "rotation X video"
   ]
  },
  {
   "cell_type": "code",
   "execution_count": null,
   "metadata": {},
   "outputs": [],
   "source": [
    "output = path + \"/Output/\" + scene_name + \"/Rotation/X/\"\n",
    "\n",
    "task.ImageInput = output\n",
    "task.PngPath = output\n",
    "task.JpgPath = output + \"Jpg/\"\n",
    "if not os.path.exists(task.JpgPath):\n",
    "    os.makedirs(task.JpgPath)\n",
    "    \n",
    "task.CropPath = output + \"Crop/\"\n",
    "if not os.path.exists(task.CropPath):\n",
    "    os.makedirs(task.CropPath)\n",
    "    \n",
    "task.input_format = config.object_name.split('.')[0]+\"_rotation_%03d.jpg\"\n",
    "\n",
    "# task.PreProcessing()\n",
    "# task.CropImage()\n",
    "task.ProduceVideo()\n",
    "\n",
    "video_path = \"../../Output/\"+ scene_name + \"/Rotation/X/\" + \"video/result.mp4\"\n",
    "display(Video(video_path, width=600, height = 600))"
   ]
  }
 ],
 "metadata": {
  "kernelspec": {
   "display_name": "Python 3",
   "language": "python",
   "name": "python3"
  },
  "language_info": {
   "codemirror_mode": {
    "name": "ipython",
    "version": 3
   },
   "file_extension": ".py",
   "mimetype": "text/x-python",
   "name": "python",
   "nbconvert_exporter": "python",
   "pygments_lexer": "ipython3",
   "version": "3.6.5"
  }
 },
 "nbformat": 4,
 "nbformat_minor": 1
}
