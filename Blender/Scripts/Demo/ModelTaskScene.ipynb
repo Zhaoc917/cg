{
 "cells": [
  {
   "cell_type": "code",
   "execution_count": 16,
   "metadata": {},
   "outputs": [],
   "source": [
    "import os\n",
    "import sys\n",
    "sys.path.append(\"..\")\n",
    "from Lib.RenderScene import RenderScene\n",
    "from Lib.ConfigClass import Config\n",
    "from Lib.ImageVideo import TaskImageVideo\n",
    "from Lib.email_sender import Email\n",
    "from IPython.display import display,Video\n",
    "import imageio\n",
    "import datetime\n",
    "import socket\n",
    "import json"
   ]
  },
  {
   "cell_type": "code",
   "execution_count": 17,
   "metadata": {},
   "outputs": [
    {
     "data": {
      "application/javascript": [
       "IPython.notebook.kernel.execute('nb_name = \"' + IPython.notebook.notebook_name + '\"')\n"
      ],
      "text/plain": [
       "<IPython.core.display.Javascript object>"
      ]
     },
     "metadata": {},
     "output_type": "display_data"
    }
   ],
   "source": [
    "%%javascript\n",
    "IPython.notebook.kernel.execute('nb_name = \"' + IPython.notebook.notebook_name + '\"')"
   ]
  },
  {
   "cell_type": "markdown",
   "metadata": {},
   "source": [
    "# Set task name"
   ]
  },
  {
   "cell_type": "code",
   "execution_count": 18,
   "metadata": {},
   "outputs": [
    {
     "name": "stdout",
     "output_type": "stream",
     "text": [
      "2019-12-14 23:55:00.549908\n"
     ]
    }
   ],
   "source": [
    "scene_name = \"foliation_graph\"\n",
    "\n",
    "start_time = datetime.datetime.now()\n",
    "print(start_time)"
   ]
  },
  {
   "cell_type": "markdown",
   "metadata": {},
   "source": [
    "## some basic settings"
   ]
  },
  {
   "cell_type": "code",
   "execution_count": 19,
   "metadata": {},
   "outputs": [],
   "source": [
    "task = TaskImageVideo() \n",
    "task.framerate = 0.5\n",
    "\n",
    "config = Config()\n",
    "config.width = 2000\n",
    "config.height = 2000\n",
    "\n",
    "email = Email()\n",
    "email.password = \"\"\n",
    "email.receiver = \"\"\n",
    "\n",
    "# path = os.getcwd()\n",
    "# path = os.path.dirname(path)\n",
    "# path = os.path.dirname(path)\n",
    "# model_dir = path + \"/Scene/Models/\" + scene_name + \"/\"\n",
    "\n",
    "\n",
    "# reset path and model_dir in new environment\n",
    "# path: path for output\n",
    "# model_dir: path for models\n",
    "path = \"/pub/data/zhaoc\"\n",
    "model_dir = \"/home/wangsd/Workspace/foliation-results/outputs/scenes/\" + scene_name + \"/\"\n",
    "\n",
    "f_list = os.listdir(model_dir)\n",
    "\n",
    "\n",
    "# reset path in new environment\n",
    "# config.blender_path = \"D:/tools/blender_2.81/blender.exe\"\n",
    "# task.ffmpegPath = 'D://FFmpeg/ffmpeg/bin/ffmpeg.exe'\n",
    "\n",
    "config.blender_path = \"/home/zhaoc/blender/blender_2.81/blender\"\n",
    "task.ffmpegPath = \"ffmpeg\"\n",
    "\n",
    "config.show_singular_face = False\n",
    "config.show_loops = False\n",
    "config.cut_mode = \"Segment\"\n",
    "config.show_singularity = True\n",
    "config.use_envmap = True\n",
    "\n",
    "config.background_render = True\n",
    "\n",
    "config.mode = \"single\"\n",
    "config.material = None\n",
    "\n",
    "config.save_config()\n",
    "RenderScene = RenderScene()\n",
    "RenderScene.config = config\n"
   ]
  },
  {
   "cell_type": "markdown",
   "metadata": {},
   "source": [
    "## cell1: wireframe + model_only"
   ]
  },
  {
   "cell_type": "code",
   "execution_count": 20,
   "metadata": {},
   "outputs": [
    {
     "name": "stdout",
     "output_type": "stream",
     "text": [
      "start rendering...\n",
      "done!\n",
      "start rendering...\n",
      "done!\n",
      "start rendering...\n",
      "done!\n"
     ]
    }
   ],
   "source": [
    "config.material = \"wireframe_only\"\n",
    "config.material_filename = None\n",
    "\n",
    "# without plane\n",
    "# config.plane = None\n",
    "\n",
    "# no cuts\n",
    "config.cut_mode = \"None\"\n",
    "\n",
    "        \n",
    "for index, dirname in enumerate(f_list):\n",
    "    output = path + \"/Output/Models/\" + scene_name + \"/\" + dirname + \"/wireframe_only/\"\n",
    "    if not os.path.exists(output):\n",
    "        os.makedirs(output)\n",
    "    file_dir = model_dir + dirname + \"/\"\n",
    "    file_list = os.listdir(file_dir)\n",
    "    for index, filename in enumerate(file_list):\n",
    "        config.scene_path = model_dir + dirname + \"/\" + filename + \"/\"\n",
    "        config.output_path = output + filename + \".png\"\n",
    "        config.save_config()\n",
    "        RenderScene.render()\n",
    "    "
   ]
  },
  {
   "cell_type": "markdown",
   "metadata": {},
   "source": [
    "### wireframe + model_only: video generator"
   ]
  },
  {
   "cell_type": "code",
   "execution_count": 21,
   "metadata": {},
   "outputs": [
    {
     "name": "stdout",
     "output_type": "stream",
     "text": [
      "write done\n",
      "write done\n"
     ]
    },
    {
     "data": {
      "text/html": [
       "<video src=\"../../Output/Models/foliation_graph/genus1/wireframe_only/video/result.mp4\" controls  width=\"600\"  height=\"600\">\n",
       "      Your browser does not support the <code>video</code> element.\n",
       "    </video>"
      ],
      "text/plain": [
       "<IPython.core.display.Video object>"
      ]
     },
     "metadata": {},
     "output_type": "display_data"
    },
    {
     "name": "stdout",
     "output_type": "stream",
     "text": [
      "write done\n",
      "write done\n"
     ]
    },
    {
     "data": {
      "text/html": [
       "<video src=\"../../Output/Models/foliation_graph/genus2/wireframe_only/video/result.mp4\" controls  width=\"600\"  height=\"600\">\n",
       "      Your browser does not support the <code>video</code> element.\n",
       "    </video>"
      ],
      "text/plain": [
       "<IPython.core.display.Video object>"
      ]
     },
     "metadata": {},
     "output_type": "display_data"
    },
    {
     "name": "stdout",
     "output_type": "stream",
     "text": [
      "write done\n",
      "write done\n"
     ]
    },
    {
     "data": {
      "text/html": [
       "<video src=\"../../Output/Models/foliation_graph/genus3/wireframe_only/video/result.mp4\" controls  width=\"600\"  height=\"600\">\n",
       "      Your browser does not support the <code>video</code> element.\n",
       "    </video>"
      ],
      "text/plain": [
       "<IPython.core.display.Video object>"
      ]
     },
     "metadata": {},
     "output_type": "display_data"
    },
    {
     "name": "stderr",
     "output_type": "stream",
     "text": [
      "send: 'ehlo smtp.qq.com\\r\\n'\n",
      "reply: b'250-smtp.qq.com\\r\\n'\n",
      "reply: b'250-PIPELINING\\r\\n'\n",
      "reply: b'250-SIZE 73400320\\r\\n'\n",
      "reply: b'250-AUTH LOGIN PLAIN\\r\\n'\n",
      "reply: b'250-AUTH=LOGIN\\r\\n'\n",
      "reply: b'250-MAILCOMPRESS\\r\\n'\n",
      "reply: b'250 8BITMIME\\r\\n'\n",
      "reply: retcode (250); Msg: b'smtp.qq.com\\nPIPELINING\\nSIZE 73400320\\nAUTH LOGIN PLAIN\\nAUTH=LOGIN\\nMAILCOMPRESS\\n8BITMIME'\n",
      "send: 'AUTH PLAIN ADg0MTc4MTA2M0BxcS5jb20AamZjYm5vbXVjYXRwYmVkYg==\\r\\n'\n",
      "reply: b'235 Authentication successful\\r\\n'\n",
      "reply: retcode (235); Msg: b'Authentication successful'\n",
      "send: 'mail FROM:<841781063@qq.com> size=3124\\r\\n'\n",
      "reply: b'250 Ok\\r\\n'\n",
      "reply: retcode (250); Msg: b'Ok'\n",
      "send: 'rcpt TO:<zhaoc@ios.ac.cn>\\r\\n'\n",
      "reply: b'250 Ok\\r\\n'\n",
      "reply: retcode (250); Msg: b'Ok'\n",
      "send: 'data\\r\\n'\n",
      "reply: b'354 End data with <CR><LF>.<CR><LF>\\r\\n'\n",
      "reply: retcode (354); Msg: b'End data with <CR><LF>.<CR><LF>'\n",
      "data: (354, b'End data with <CR><LF>.<CR><LF>')\n",
      "send: b'Content-Type: text/plain; charset=\"utf-8\"\\r\\nMIME-Version: 1.0\\r\\nContent-Transfer-Encoding: base64\\r\\nSubject: =?utf-8?q?Render_Task_Done!?=\\r\\nFrom: 841781063@qq.com\\r\\nTo: zhaoc@ios.ac.cn\\r\\n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\\r\\nICAgIDEuMAogIF0sCiAgIndpcmVmcmFtZV9zaXplIjogMC4yCn0=\\r\\n.\\r\\n'\n",
      "reply: b'250 Ok: queued as \\r\\n'\n",
      "reply: retcode (250); Msg: b'Ok: queued as'\n",
      "data: (250, b'Ok: queued as')\n",
      "send: 'quit\\r\\n'\n",
      "reply: b'221 Bye\\r\\n'\n",
      "reply: retcode (221); Msg: b'Bye'\n"
     ]
    }
   ],
   "source": [
    "for index, dirname in enumerate(f_list):\n",
    "    output = path + \"/Output/Models/\" + scene_name + \"/\" + dirname + \"/wireframe_only/\"\n",
    "    task.ImageInput = output\n",
    "    task.Rename()\n",
    "    task.PreProcessing()\n",
    "    task.CropImage()\n",
    "    task.ProduceVideo()\n",
    "    # save another video\n",
    "    task.ImageInput = \"../../Output/Models/\" + scene_name + \"/\" + dirname + \"/wireframe_only/\"\n",
    "    task.ProduceVideo()\n",
    "    \n",
    "    video_path = \"../../Output/Models/\" + scene_name + \"/\" + dirname + \"/wireframe_only/video/result.mp4\"\n",
    "    display(Video(video_path, width=600, height=600))\n",
    "    \n",
    "\n",
    "wireframe_only_time = datetime.datetime.now()\n",
    "\n",
    "\n",
    "\n",
    "email.mail_content = \"Input scene: \" + scene_name + '\\n' + \"Output path: \" + path + \"/Output/\" + \"\\n\" + \"SceneNumber: \" + str(len(f_list)) + \\\n",
    "\"\\n\" + \"End Time: \" + str(datetime.datetime.now()) + \"\\n\" + \"Time Cost: \" + str((wireframe_only_time - start_time)).split('.')[0] + \\\n",
    "\"\\n\" + \"Time per cell: \" + \"\\n\" + \"Current Filename: \" + nb_name + \"\\n\" + \"Current IP: \" + socket.gethostbyname(socket.gethostname()) + \\\n",
    "\"\\n\" + \"Config: \" + \"\\n\" + str(json.dumps(config.__dict__,  sort_keys=True, indent=2))\n",
    "email.send_email()\n"
   ]
  },
  {
   "cell_type": "markdown",
   "metadata": {},
   "source": [
    "## cell2: model_only"
   ]
  },
  {
   "cell_type": "code",
   "execution_count": 22,
   "metadata": {},
   "outputs": [
    {
     "name": "stdout",
     "output_type": "stream",
     "text": [
      "start rendering...\n",
      "done!\n",
      "start rendering...\n",
      "done!\n",
      "start rendering...\n",
      "done!\n"
     ]
    }
   ],
   "source": [
    "config.material = \"model_only\"\n",
    "config.material_filename = None\n",
    "\n",
    "# without plane\n",
    "# config.plane = None\n",
    "\n",
    "# without cuts\n",
    "config.cut_mode = \"None\"\n",
    "\n",
    "for index, dirname in enumerate(f_list):\n",
    "    output = path + \"/Output/Models/\" + scene_name + \"/\" + dirname + \"/model_only/\"\n",
    "    if not os.path.exists(output):\n",
    "        os.makedirs(output)\n",
    "    file_dir = model_dir + dirname + \"/\"\n",
    "    file_list = os.listdir(file_dir)\n",
    "    for index, filename in enumerate(file_list):\n",
    "        config.scene_path = model_dir + dirname + \"/\" + filename + \"/\"\n",
    "        config.output_path = output + filename + \".png\"\n",
    "        config.save_config()\n",
    "        RenderScene.render()"
   ]
  },
  {
   "cell_type": "markdown",
   "metadata": {},
   "source": [
    "### model_only: video generator"
   ]
  },
  {
   "cell_type": "code",
   "execution_count": 23,
   "metadata": {},
   "outputs": [
    {
     "name": "stdout",
     "output_type": "stream",
     "text": [
      "write done\n",
      "write done\n"
     ]
    },
    {
     "data": {
      "text/html": [
       "<video src=\"../../Output/Models/foliation_graph/genus1/model_only/video/result.mp4\" controls  width=\"600\"  height=\"600\">\n",
       "      Your browser does not support the <code>video</code> element.\n",
       "    </video>"
      ],
      "text/plain": [
       "<IPython.core.display.Video object>"
      ]
     },
     "metadata": {},
     "output_type": "display_data"
    },
    {
     "name": "stdout",
     "output_type": "stream",
     "text": [
      "write done\n",
      "write done\n"
     ]
    },
    {
     "data": {
      "text/html": [
       "<video src=\"../../Output/Models/foliation_graph/genus2/model_only/video/result.mp4\" controls  width=\"600\"  height=\"600\">\n",
       "      Your browser does not support the <code>video</code> element.\n",
       "    </video>"
      ],
      "text/plain": [
       "<IPython.core.display.Video object>"
      ]
     },
     "metadata": {},
     "output_type": "display_data"
    },
    {
     "name": "stdout",
     "output_type": "stream",
     "text": [
      "write done\n",
      "write done\n"
     ]
    },
    {
     "data": {
      "text/html": [
       "<video src=\"../../Output/Models/foliation_graph/genus3/model_only/video/result.mp4\" controls  width=\"600\"  height=\"600\">\n",
       "      Your browser does not support the <code>video</code> element.\n",
       "    </video>"
      ],
      "text/plain": [
       "<IPython.core.display.Video object>"
      ]
     },
     "metadata": {},
     "output_type": "display_data"
    },
    {
     "name": "stderr",
     "output_type": "stream",
     "text": [
      "send: 'ehlo smtp.qq.com\\r\\n'\n",
      "reply: b'250-smtp.qq.com\\r\\n'\n",
      "reply: b'250-PIPELINING\\r\\n'\n",
      "reply: b'250-SIZE 73400320\\r\\n'\n",
      "reply: b'250-AUTH LOGIN PLAIN\\r\\n'\n",
      "reply: b'250-AUTH=LOGIN\\r\\n'\n",
      "reply: b'250-MAILCOMPRESS\\r\\n'\n",
      "reply: b'250 8BITMIME\\r\\n'\n",
      "reply: retcode (250); Msg: b'smtp.qq.com\\nPIPELINING\\nSIZE 73400320\\nAUTH LOGIN PLAIN\\nAUTH=LOGIN\\nMAILCOMPRESS\\n8BITMIME'\n",
      "send: 'AUTH PLAIN ADg0MTc4MTA2M0BxcS5jb20AamZjYm5vbXVjYXRwYmVkYg==\\r\\n'\n",
      "reply: b'235 Authentication successful\\r\\n'\n",
      "reply: retcode (235); Msg: b'Authentication successful'\n",
      "send: 'mail FROM:<841781063@qq.com> size=3112\\r\\n'\n",
      "reply: b'250 Ok\\r\\n'\n",
      "reply: retcode (250); Msg: b'Ok'\n",
      "send: 'rcpt TO:<zhaoc@ios.ac.cn>\\r\\n'\n",
      "reply: b'250 Ok\\r\\n'\n",
      "reply: retcode (250); Msg: b'Ok'\n",
      "send: 'data\\r\\n'\n",
      "reply: b'354 End data with <CR><LF>.<CR><LF>\\r\\n'\n",
      "reply: retcode (354); Msg: b'End data with <CR><LF>.<CR><LF>'\n",
      "data: (354, b'End data with <CR><LF>.<CR><LF>')\n",
      "send: b'Content-Type: text/plain; charset=\"utf-8\"\\r\\nMIME-Version: 1.0\\r\\nContent-Transfer-Encoding: base64\\r\\nSubject: =?utf-8?q?Render_Task_Done!?=\\r\\nFrom: 841781063@qq.com\\r\\nTo: zhaoc@ios.ac.cn\\r\\n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\\r\\nICBdLAogICJ3aXJlZnJhbWVfc2l6ZSI6IDAuMgp9\\r\\n.\\r\\n'\n",
      "reply: b'250 Ok: queued as \\r\\n'\n",
      "reply: retcode (250); Msg: b'Ok: queued as'\n",
      "data: (250, b'Ok: queued as')\n",
      "send: 'quit\\r\\n'\n",
      "reply: b'221 Bye\\r\\n'\n",
      "reply: retcode (221); Msg: b'Bye'\n"
     ]
    }
   ],
   "source": [
    "for index, dirname in enumerate(f_list):\n",
    "    output = path + \"/Output/Models/\" + scene_name + \"/\" + dirname + \"/model_only/\"\n",
    "    task.ImageInput = output\n",
    "    task.Rename()\n",
    "    task.PreProcessing()\n",
    "    task.CropImage()\n",
    "    task.ProduceVideo()\n",
    "    # save another video\n",
    "    task.ImageInput = \"../../Output/Models/\" + scene_name + \"/\" + dirname + \"/model_only/\"\n",
    "    task.ProduceVideo()\n",
    "    \n",
    "    video_path = \"../../Output/Models/\" + scene_name + \"/\" + dirname + \"/model_only/video/result.mp4\"\n",
    "    display(Video(video_path, width=600, height=600))\n",
    "\n",
    "\n",
    "model_only_time = datetime.datetime.now()\n",
    "\n",
    "\n",
    "email.mail_content = \"Input scene: \" + scene_name + '\\n' + \"Output path: \" + path + \"/Output/\" + \"\\n\" + \"SceneNumber: \" + str(len(f_list)) + \\\n",
    "\"\\n\" + \"End Time: \" + str(datetime.datetime.now()) + \"\\n\" + \"Time Cost: \" + str((model_only_time - start_time)).split('.')[0] + \\\n",
    "\"\\n\" + \"Time per cell: \" + \"\\n\" + \"Current Filename: \" + nb_name + \"\\n\" + \"Current IP: \" + socket.gethostbyname(socket.gethostname()) + \\\n",
    "\"\\n\" + \"Config: \" + \"\\n\" + str(json.dumps(config.__dict__,  sort_keys=True, indent=2))\n",
    "email.send_email()"
   ]
  },
  {
   "cell_type": "markdown",
   "metadata": {},
   "source": [
    "## cell3: linesxy texture u only"
   ]
  },
  {
   "cell_type": "code",
   "execution_count": 29,
   "metadata": {},
   "outputs": [
    {
     "name": "stdout",
     "output_type": "stream",
     "text": [
      "start rendering...\n",
      "done!\n",
      "start rendering...\n",
      "done!\n",
      "start rendering...\n",
      "done!\n"
     ]
    }
   ],
   "source": [
    "config.material = \"original\"\n",
    "config.material_filename = None\n",
    "\n",
    "# set texture\n",
    "texture_path = \"/home/zhaoc/cg/Blender/Data/\" + 'Texture/linesxy_145.png'\n",
    "config.texture_path = texture_path\n",
    "\n",
    "# without plane\n",
    "# config.plane = None\n",
    "\n",
    "# without cuts\n",
    "config.cut_mode = \"None\"\n",
    "\n",
    "# set uv\n",
    "config.uv_multiply = (1, 0)\n",
    "config.uv_add = (0, 0)\n",
    "    \n",
    "for index, dirname in enumerate(f_list):\n",
    "    output = path + \"/Output/Models/\" + scene_name + \"/\" + dirname + \"/linesxy_u_only/\"\n",
    "    if not os.path.exists(output):\n",
    "        os.makedirs(output)\n",
    "    file_dir = model_dir + dirname + \"/\"\n",
    "    file_list = os.listdir(file_dir)\n",
    "    for index, filename in enumerate(file_list):\n",
    "        config.scene_path = model_dir + dirname + \"/\" + filename + \"/\"\n",
    "        config.output_path = output + filename + \".png\"\n",
    "        config.save_config()\n",
    "        RenderScene.render()"
   ]
  },
  {
   "cell_type": "markdown",
   "metadata": {},
   "source": [
    "### linesxy texture u only: video generator"
   ]
  },
  {
   "cell_type": "code",
   "execution_count": 28,
   "metadata": {},
   "outputs": [
    {
     "name": "stdout",
     "output_type": "stream",
     "text": [
      "write done\n",
      "write done\n"
     ]
    },
    {
     "ename": "ValueError",
     "evalue": "To embed videos, you must pass embed=True (this may make your notebook files huge)\nConsider passing Video(url='...')",
     "output_type": "error",
     "traceback": [
      "\u001b[1;31m---------------------------------------------------------------------------\u001b[0m",
      "\u001b[1;31mValueError\u001b[0m                                Traceback (most recent call last)",
      "\u001b[1;32m<ipython-input-28-5eab2f0677d1>\u001b[0m in \u001b[0;36m<module>\u001b[1;34m\u001b[0m\n\u001b[0;32m     11\u001b[0m \u001b[1;33m\u001b[0m\u001b[0m\n\u001b[0;32m     12\u001b[0m     \u001b[0mvideo_path\u001b[0m \u001b[1;33m=\u001b[0m \u001b[1;34m\"../../Output/Models/\"\u001b[0m \u001b[1;33m+\u001b[0m \u001b[0mscene_name\u001b[0m \u001b[1;33m+\u001b[0m \u001b[1;34m\"/\"\u001b[0m \u001b[1;33m+\u001b[0m \u001b[0mdirname\u001b[0m \u001b[1;33m+\u001b[0m \u001b[1;34m\"/linesxy_u_only/video/result.mp4\"\u001b[0m\u001b[1;33m\u001b[0m\u001b[0m\n\u001b[1;32m---> 13\u001b[1;33m     \u001b[0mdisplay\u001b[0m\u001b[1;33m(\u001b[0m\u001b[0mVideo\u001b[0m\u001b[1;33m(\u001b[0m\u001b[0mvideo_path\u001b[0m\u001b[1;33m,\u001b[0m \u001b[0mwidth\u001b[0m\u001b[1;33m=\u001b[0m\u001b[1;36m600\u001b[0m\u001b[1;33m,\u001b[0m \u001b[0mheight\u001b[0m\u001b[1;33m=\u001b[0m\u001b[1;36m600\u001b[0m\u001b[1;33m)\u001b[0m\u001b[1;33m)\u001b[0m\u001b[1;33m\u001b[0m\u001b[0m\n\u001b[0m\u001b[0;32m     14\u001b[0m \u001b[1;33m\u001b[0m\u001b[0m\n\u001b[0;32m     15\u001b[0m \u001b[0mlinesxy_u_only_time\u001b[0m \u001b[1;33m=\u001b[0m \u001b[0mdatetime\u001b[0m\u001b[1;33m.\u001b[0m\u001b[0mdatetime\u001b[0m\u001b[1;33m.\u001b[0m\u001b[0mnow\u001b[0m\u001b[1;33m(\u001b[0m\u001b[1;33m)\u001b[0m\u001b[1;33m\u001b[0m\u001b[0m\n",
      "\u001b[1;32mC:\\ProgramData\\Anaconda3\\lib\\site-packages\\IPython\\core\\display.py\u001b[0m in \u001b[0;36m__init__\u001b[1;34m(self, data, url, filename, embed, mimetype, width, height)\u001b[0m\n\u001b[0;32m   1372\u001b[0m                 \u001b[1;34m\"Consider passing Video(url='...')\"\u001b[0m\u001b[1;33m,\u001b[0m\u001b[1;33m\u001b[0m\u001b[0m\n\u001b[0;32m   1373\u001b[0m             ])\n\u001b[1;32m-> 1374\u001b[1;33m             \u001b[1;32mraise\u001b[0m \u001b[0mValueError\u001b[0m\u001b[1;33m(\u001b[0m\u001b[0mmsg\u001b[0m\u001b[1;33m)\u001b[0m\u001b[1;33m\u001b[0m\u001b[0m\n\u001b[0m\u001b[0;32m   1375\u001b[0m \u001b[1;33m\u001b[0m\u001b[0m\n\u001b[0;32m   1376\u001b[0m         \u001b[0mself\u001b[0m\u001b[1;33m.\u001b[0m\u001b[0mmimetype\u001b[0m \u001b[1;33m=\u001b[0m \u001b[0mmimetype\u001b[0m\u001b[1;33m\u001b[0m\u001b[0m\n",
      "\u001b[1;31mValueError\u001b[0m: To embed videos, you must pass embed=True (this may make your notebook files huge)\nConsider passing Video(url='...')"
     ]
    }
   ],
   "source": [
    "for index, dirname in enumerate(f_list):\n",
    "    output = path + \"/Output/Models/\" + scene_name + \"/\" + dirname + \"/linesxy_u_only/\"\n",
    "    task.ImageInput = output\n",
    "    task.Rename()\n",
    "    task.PreProcessing()\n",
    "    task.CropImage()\n",
    "    task.ProduceVideo()\n",
    "    # save another video\n",
    "    task.ImageInput = \"../../Output/Models/\" + scene_name + \"/\" + dirname + \"/linesxy_u_only/\"\n",
    "    task.ProduceVideo()\n",
    "    \n",
    "    video_path = \"../../Output/Models/\" + scene_name + \"/\" + dirname + \"/linesxy_u_only/video/result.mp4\"\n",
    "    display(Video(video_path, width=600, height=600))\n",
    "\n",
    "linesxy_u_only_time = datetime.datetime.now()\n",
    "\n",
    "\n",
    "email.mail_content = \"Input scene: \" + scene_name + '\\n' + \"Output path: \" + path + \"/Output/\" + \"\\n\" + \"SceneNumber: \" + str(len(f_list)) + \\\n",
    "\"\\n\" + \"End Time: \" + str(datetime.datetime.now()) + \"\\n\" + \"Time Cost: \" + str((linesxy_u_only_time - start_time)).split('.')[0] + \\\n",
    "\"\\n\" + \"Time per cell: \" + \"\\n\" + \"Current Filename: \" + nb_name + \"\\n\" + \"Current IP: \" + socket.gethostbyname(socket.gethostname()) + \\\n",
    "\"\\n\" + \"Config: \" + \"\\n\" + str(json.dumps(config.__dict__,  sort_keys=True, indent=2))\n",
    "email.send_email()"
   ]
  },
  {
   "cell_type": "markdown",
   "metadata": {},
   "source": [
    "## cell4: linesxy texture v only"
   ]
  },
  {
   "cell_type": "code",
   "execution_count": null,
   "metadata": {},
   "outputs": [],
   "source": [
    "config.material = \"original\"\n",
    "config.material_filename = None\n",
    "\n",
    "# set texture\n",
    "texture_path = \"/home/zhaoc/cg/Blender/Data/\" + 'Texture/linesxy_145.png'\n",
    "config.texture_path = texture_path\n",
    "\n",
    "# without plane\n",
    "# config.plane = None\n",
    "\n",
    "# without cuts\n",
    "config.cut_mode = \"None\"\n",
    "\n",
    "# set uv\n",
    "config.uv_multiply = (0, 1)\n",
    "config.uv_add = (0, 0)\n",
    "    \n",
    "for index, dirname in enumerate(f_list):\n",
    "    output = path + \"/Output/Models/\" + scene_name + \"/\" + dirname + \"/linesxy_v_only/\"\n",
    "    if not os.path.exists(output):\n",
    "        os.makedirs(output)\n",
    "    file_dir = model_dir + dirname + \"/\"\n",
    "    file_list = os.listdir(file_dir)\n",
    "    for index, filename in enumerate(file_list):\n",
    "        config.scene_path = model_dir + dirname + \"/\" + filename + \"/\"\n",
    "        config.output_path = output + filename + \".png\"\n",
    "        config.save_config()\n",
    "        RenderScene.render()"
   ]
  },
  {
   "cell_type": "markdown",
   "metadata": {},
   "source": [
    "### linesxy texture v only: video generator"
   ]
  },
  {
   "cell_type": "code",
   "execution_count": null,
   "metadata": {},
   "outputs": [],
   "source": [
    "for index, dirname in enumerate(f_list):\n",
    "    output = path + \"/Output/Models/\" + scene_name + \"/\" + dirname + \"/linesxy_v_only/\"\n",
    "    task.ImageInput = output\n",
    "    task.Rename()\n",
    "    task.PreProcessing()\n",
    "    task.CropImage()\n",
    "    task.ProduceVideo()\n",
    "    # save another video\n",
    "    task.ImageInput = \"../../Output/Models/\" + scene_name + \"/\" + dirname + \"/linesxy_v_only/\"\n",
    "    task.ProduceVideo()\n",
    "    \n",
    "    video_path = \"../../Output/Models/\" + scene_name + \"/\" + dirname + \"/linesxy_v_only/video/result.mp4\"\n",
    "    display(Video(video_path, width=600, height=600))\n",
    "\n",
    "linesxy_v_only_time = datetime.datetime.now()\n",
    "\n",
    "\n",
    "email.mail_content = \"Input scene: \" + scene_name + '\\n' + \"Output path: \" + path + \"/Output/\" + \"\\n\" + \"SceneNumber: \" + str(len(f_list)) + \\\n",
    "\"\\n\" + \"End Time: \" + str(datetime.datetime.now()) + \"\\n\" + \"Time Cost: \" + str((linesxy_v_only_time - start_time)).split('.')[0] + \\\n",
    "\"\\n\" + \"Time per cell: \" + \"\\n\" + \"Current Filename: \" + nb_name + \"\\n\" + \"Current IP: \" + socket.gethostbyname(socket.gethostname()) + \\\n",
    "\"\\n\" + \"Config: \" + \"\\n\" + str(json.dumps(config.__dict__,  sort_keys=True, indent=2))\n",
    "email.send_email()"
   ]
  },
  {
   "cell_type": "markdown",
   "metadata": {},
   "source": [
    "## cell5: linesxy texture uv"
   ]
  },
  {
   "cell_type": "code",
   "execution_count": null,
   "metadata": {},
   "outputs": [],
   "source": [
    "config.material = \"original\"\n",
    "config.material_filename = None\n",
    "\n",
    "# set texture\n",
    "texture_path = \"/home/zhaoc/cg/Blender/Data/\" + 'Texture/linesxy_145.png'\n",
    "config.texture_path = texture_path\n",
    "\n",
    "# without plane\n",
    "# config.plane = None\n",
    "\n",
    "# without cuts\n",
    "config.cut_mode = \"None\"\n",
    "\n",
    "# set uv\n",
    "config.uv_multiply = (1, 1)\n",
    "config.uv_add = (0, 0)\n",
    "\n",
    "for index, dirname in enumerate(f_list):\n",
    "    output = path + \"/Output/Models/\" + scene_name + \"/\" + dirname + \"/linesxy_uv/\"\n",
    "    if not os.path.exists(output):\n",
    "        os.makedirs(output)\n",
    "    file_dir = model_dir + dirname + \"/\"\n",
    "    file_list = os.listdir(file_dir)\n",
    "    for index, filename in enumerate(file_list):\n",
    "        config.scene_path = model_dir + dirname + \"/\" + filename + \"/\"\n",
    "        config.output_path = output + filename + \".png\"\n",
    "        config.save_config()\n",
    "        RenderScene.render()"
   ]
  },
  {
   "cell_type": "markdown",
   "metadata": {},
   "source": [
    "### linesxy texture uv: video generator"
   ]
  },
  {
   "cell_type": "code",
   "execution_count": null,
   "metadata": {},
   "outputs": [],
   "source": [
    "for index, dirname in enumerate(f_list):\n",
    "    output = path + \"/Output/Models/\" + scene_name + \"/\" + dirname + \"/linesxy_uv/\"\n",
    "    task.ImageInput = output\n",
    "    task.Rename()\n",
    "    task.PreProcessing()\n",
    "    task.CropImage()\n",
    "    task.ProduceVideo()\n",
    "    # save another video\n",
    "    task.ImageInput = \"../../Output/Models/\" + scene_name + \"/\" + dirname + \"/linesxy_uv/\"\n",
    "    task.ProduceVideo()\n",
    "    \n",
    "    video_path = \"../../Output/Models/\" + scene_name + \"/\" + dirname + \"/linesxy_uv/video/result.mp4\"\n",
    "    display(Video(video_path, width=600, height=600))\n",
    "\n",
    "linesxy_uv_time = datetime.datetime.now()\n",
    "\n",
    "\n",
    "email.mail_content = \"Input scene: \" + scene_name + '\\n' + \"Output path: \" + path + \"/Output/\" + \"\\n\" + \"SceneNumber: \" + str(len(f_list)) + \\\n",
    "\"\\n\" + \"End Time: \" + str(datetime.datetime.now()) + \"\\n\" + \"Time Cost: \" + str((linesxy_uv_time - start_time)).split('.')[0] + \\\n",
    "\"\\n\" + \"Time per cell: \" + \"\\n\" + \"Current Filename: \" + nb_name + \"\\n\" + \"Current IP: \" + socket.gethostbyname(socket.gethostname()) + \\\n",
    "\"\\n\" + \"Config: \" + \"\\n\" + str(json.dumps(config.__dict__,  sort_keys=True, indent=2))\n",
    "email.send_email()"
   ]
  },
  {
   "cell_type": "markdown",
   "metadata": {},
   "source": [
    "## cell6: checkerboard texture u only"
   ]
  },
  {
   "cell_type": "code",
   "execution_count": null,
   "metadata": {},
   "outputs": [],
   "source": [
    "config.material = \"original\"\n",
    "config.material_filename = None\n",
    "\n",
    "# set texture\n",
    "texture_path = \"/home/zhaoc/cg/Blender/Data/\" + 'Texture/checkerboard.png'\n",
    "config.texture_path = texture_path\n",
    "\n",
    "# without plane\n",
    "# config.plane = None\n",
    "\n",
    "# without cuts\n",
    "config.cut_mode = \"None\"\n",
    "\n",
    "# set uv\n",
    "config.uv_multiply = (1, 0)\n",
    "config.uv_add = (0.05, 0.05)\n",
    "\n",
    "for index, dirname in enumerate(f_list):\n",
    "    output = path + \"/Output/Models/\" + scene_name + \"/\" + dirname + \"/checkerboard_u_only/\"\n",
    "    if not os.path.exists(output):\n",
    "        os.makedirs(output)\n",
    "    file_dir = model_dir + dirname + \"/\"\n",
    "    file_list = os.listdir(file_dir)\n",
    "    for index, filename in enumerate(file_list):\n",
    "        config.scene_path = model_dir + dirname + \"/\" + filename + \"/\"\n",
    "        config.output_path = output + filename + \".png\"\n",
    "        config.save_config()\n",
    "        RenderScene.render()"
   ]
  },
  {
   "cell_type": "markdown",
   "metadata": {},
   "source": [
    "### checkerboard texture u only: video generator"
   ]
  },
  {
   "cell_type": "code",
   "execution_count": null,
   "metadata": {},
   "outputs": [],
   "source": [
    "for index, dirname in enumerate(f_list):\n",
    "    output = path + \"/Output/Models/\" + scene_name + \"/\" + dirname + \"/checkerboard_u_only/\"\n",
    "    task.ImageInput = output\n",
    "    task.Rename()\n",
    "    task.PreProcessing()\n",
    "    task.CropImage()\n",
    "    task.ProduceVideo()\n",
    "    # save another video\n",
    "    task.ImageInput = \"../../Output/Models/\" + scene_name + \"/\" + dirname + \"/checkerboard_u_only/\"\n",
    "    task.ProduceVideo()\n",
    "    \n",
    "    video_path = \"../../Output/Models/\" + scene_name + \"/\" + dirname + \"/checkerboard_u_only/video/result.mp4\"\n",
    "    display(Video(video_path, width=600, height=600))\n",
    "\n",
    "checkerboard_u_only_time = datetime.datetime.now()\n",
    "\n",
    "\n",
    "email.mail_content = \"Input scene: \" + scene_name + '\\n' + \"Output path: \" + path + \"/Output/\" + \"\\n\" + \"SceneNumber: \" + str(len(f_list)) + \\\n",
    "\"\\n\" + \"End Time: \" + str(datetime.datetime.now()) + \"\\n\" + \"Time Cost: \" + str((checkerboard_u_only_time - start_time)).split('.')[0] + \\\n",
    "\"\\n\" + \"Time per cell: \" + \"\\n\" + \"Current Filename: \" + nb_name + \"\\n\" + \"Current IP: \" + socket.gethostbyname(socket.gethostname()) + \\\n",
    "\"\\n\" + \"Config: \" + \"\\n\" + str(json.dumps(config.__dict__,  sort_keys=True, indent=2))\n",
    "email.send_email()"
   ]
  },
  {
   "cell_type": "markdown",
   "metadata": {},
   "source": [
    "## cell7: checkerboard texture v only"
   ]
  },
  {
   "cell_type": "code",
   "execution_count": null,
   "metadata": {},
   "outputs": [],
   "source": [
    "config.material = \"original\"\n",
    "config.material_filename = None\n",
    "\n",
    "# set texture\n",
    "texture_path = \"/home/zhaoc/cg/Blender/Data/\" + 'Texture/checkerboard.png'\n",
    "config.texture_path = texture_path\n",
    "\n",
    "# without plane\n",
    "# config.plane = None\n",
    "\n",
    "# without cuts\n",
    "config.cut_mode = \"None\"\n",
    "\n",
    "# set uv\n",
    "config.uv_multiply = (0, 1)\n",
    "config.uv_add = (0.05, 0.05)\n",
    "\n",
    "for index, dirname in enumerate(f_list):\n",
    "    output = path + \"/Output/Models/\" + scene_name + \"/\" + dirname + \"/checkerboard_v_only/\"\n",
    "    if not os.path.exists(output):\n",
    "        os.makedirs(output)\n",
    "    file_dir = model_dir + dirname + \"/\"\n",
    "    file_list = os.listdir(file_dir)\n",
    "    for index, filename in enumerate(file_list):\n",
    "        config.scene_path = model_dir + dirname + \"/\" + filename + \"/\"\n",
    "        config.output_path = output + filename + \".png\"\n",
    "        config.save_config()\n",
    "        RenderScene.render()"
   ]
  },
  {
   "cell_type": "markdown",
   "metadata": {},
   "source": [
    "### checkerboard texture v only: video generator"
   ]
  },
  {
   "cell_type": "code",
   "execution_count": null,
   "metadata": {},
   "outputs": [],
   "source": [
    "for index, dirname in enumerate(f_list):\n",
    "    output = path + \"/Output/Models/\" + scene_name + \"/\" + dirname + \"/checkerboard_v_only/\"\n",
    "    task.ImageInput = output\n",
    "    task.Rename()\n",
    "    task.PreProcessing()\n",
    "    task.CropImage()\n",
    "    task.ProduceVideo()\n",
    "    # save another video\n",
    "    task.ImageInput = \"../../Output/Models/\" + scene_name + \"/\" + dirname + \"/checkerboard_v_only/\"\n",
    "    task.ProduceVideo()\n",
    "    \n",
    "    video_path = \"../../Output/Models/\" + scene_name + \"/\" + dirname + \"/checkerboard_v_only/video/result.mp4\"\n",
    "    display(Video(video_path, width=600, height=600))\n",
    "\n",
    "checkerboard_v_only_time = datetime.datetime.now()\n",
    "\n",
    "\n",
    "email.mail_content = \"Input scene: \" + scene_name + '\\n' + \"Output path: \" + path + \"/Output/\" + \"\\n\" + \"SceneNumber: \" + str(len(f_list)) + \\\n",
    "\"\\n\" + \"End Time: \" + str(datetime.datetime.now()) + \"\\n\" + \"Time Cost: \" + str((checkerboard_v_only_time - start_time)).split('.')[0] + \\\n",
    "\"\\n\" + \"Time per cell: \" + \"\\n\" + \"Current Filename: \" + nb_name + \"\\n\" + \"Current IP: \" + socket.gethostbyname(socket.gethostname()) + \\\n",
    "\"\\n\" + \"Config: \" + \"\\n\" + str(json.dumps(config.__dict__,  sort_keys=True, indent=2))\n",
    "email.send_email()"
   ]
  },
  {
   "cell_type": "markdown",
   "metadata": {},
   "source": [
    "## cell8: checkerboard texture uv"
   ]
  },
  {
   "cell_type": "code",
   "execution_count": null,
   "metadata": {},
   "outputs": [],
   "source": [
    "config.material = \"original\"\n",
    "config.material_filename = None\n",
    "\n",
    "# set texture\n",
    "texture_path = \"/home/zhaoc/cg/Blender/Data/\" + 'Texture/checkerboard.png'\n",
    "config.texture_path = texture_path\n",
    "\n",
    "# without plane\n",
    "# config.plane = None\n",
    "\n",
    "# without cuts\n",
    "config.cut_mode = \"None\"\n",
    "\n",
    "# set uv\n",
    "config.uv_multiply = (1, 1)\n",
    "config.uv_add = (0.05, 0.05)\n",
    "\n",
    "for index, dirname in enumerate(f_list):\n",
    "    output = path + \"/Output/Models/\" + scene_name + \"/\" + dirname + \"/checkerboard_uv/\"\n",
    "    if not os.path.exists(output):\n",
    "        os.makedirs(output)\n",
    "    file_dir = model_dir + dirname + \"/\"\n",
    "    file_list = os.listdir(file_dir)\n",
    "    for index, filename in enumerate(file_list):\n",
    "        config.scene_path = model_dir + dirname + \"/\" + filename + \"/\"\n",
    "        config.output_path = output + filename + \".png\"\n",
    "        config.save_config()\n",
    "        RenderScene.render()"
   ]
  },
  {
   "cell_type": "markdown",
   "metadata": {},
   "source": [
    "### checkerboard texture uv: video generator"
   ]
  },
  {
   "cell_type": "code",
   "execution_count": null,
   "metadata": {},
   "outputs": [],
   "source": [
    "for index, dirname in enumerate(f_list):\n",
    "    output = path + \"/Output/Models/\" + scene_name + \"/\" + dirname + \"/checkerboard_uv/\"\n",
    "    task.ImageInput = output\n",
    "    task.Rename()\n",
    "    task.PreProcessing()\n",
    "    task.CropImage()\n",
    "    task.ProduceVideo()\n",
    "    # save another video\n",
    "    task.ImageInput = \"../../Output/Models/\" + scene_name + \"/\" + dirname + \"/checkerboard_uv/\"\n",
    "    task.ProduceVideo()\n",
    "    \n",
    "    video_path = \"../../Output/Models/\" + scene_name + \"/\" + dirname + \"/checkerboard_uv/video/result.mp4\"\n",
    "    display(Video(video_path, width=600, height=600))\n",
    "\n",
    "checkerboard_uv_time = datetime.datetime.now()\n",
    "\n",
    "\n",
    "email.mail_content = \"Input scene: \" + scene_name + '\\n' + \"Output path: \" + path + \"/Output/\" + \"\\n\" + \"SceneNumber: \" + str(len(f_list)) + \\\n",
    "\"\\n\" + \"End Time: \" + str(datetime.datetime.now()) + \"\\n\" + \"Time Cost: \" + str((checkerboard_uv_time - start_time)).split('.')[0] + \\\n",
    "\"\\n\" + \"Time per cell: \" + \"\\n\" + \"Current Filename: \" + nb_name + \"\\n\" + \"Current IP: \" + socket.gethostbyname(socket.gethostname()) + \\\n",
    "\"\\n\" + \"Config: \" + \"\\n\" + str(json.dumps(config.__dict__,  sort_keys=True, indent=2))\n",
    "email.send_email()"
   ]
  },
  {
   "cell_type": "markdown",
   "metadata": {},
   "source": [
    "## cell9: circle texture"
   ]
  },
  {
   "cell_type": "code",
   "execution_count": null,
   "metadata": {},
   "outputs": [],
   "source": [
    "config.material = \"original\"\n",
    "config.material_filename = None\n",
    "\n",
    "# set texture\n",
    "texture_path = \"/home/zhaoc/cg/Blender/Data/\" + 'Texture/circle.png'\n",
    "config.texture_path = texture_path\n",
    "\n",
    "# without plane\n",
    "# config.plane = None\n",
    "\n",
    "# without cuts\n",
    "config.cut_mode = \"None\"\n",
    "\n",
    "# set uv\n",
    "config.uv_multiply = (1, 1)\n",
    "config.uv_add = (0.05, 0.05)\n",
    "\n",
    "for index, dirname in enumerate(f_list):\n",
    "    output = path + \"/Output/Models/\" + scene_name + \"/\" + dirname + \"/circle/\"\n",
    "    if not os.path.exists(output):\n",
    "        os.makedirs(output)\n",
    "    file_dir = model_dir + dirname + \"/\"\n",
    "    file_list = os.listdir(file_dir)\n",
    "    for index, filename in enumerate(file_list):\n",
    "        config.scene_path = model_dir + dirname + \"/\" + filename + \"/\"\n",
    "        config.output_path = output + filename + \".png\"\n",
    "        config.save_config()\n",
    "        RenderScene.render()"
   ]
  },
  {
   "cell_type": "markdown",
   "metadata": {},
   "source": [
    "### circle texture: video generator"
   ]
  },
  {
   "cell_type": "code",
   "execution_count": null,
   "metadata": {},
   "outputs": [],
   "source": [
    "for index, dirname in enumerate(f_list):\n",
    "    output = path + \"/Output/Models/\" + scene_name + \"/\" + dirname + \"/circle/\"\n",
    "    task.ImageInput = output\n",
    "    task.Rename()\n",
    "    task.PreProcessing()\n",
    "    task.CropImage()\n",
    "    task.ProduceVideo()\n",
    "    # save another video\n",
    "    task.ImageInput = \"../../Output/Models/\" + scene_name + \"/\" + dirname + \"/circle/\"\n",
    "    task.ProduceVideo()\n",
    "    \n",
    "    video_path = \"../../Output/Models/\" + scene_name + \"/\" + dirname + \"/circle/video/result.mp4\"\n",
    "    display(Video(video_path, width=600, height=600))\n",
    "\n",
    "circle_time = datetime.datetime.now()\n",
    "\n",
    "email.mail_content = \"Input scene: \" + scene_name + '\\n' + \"Output path: \" + path + \"/Output/\" + \"\\n\" + \"SceneNumber: \" + str(len(f_list)) + \\\n",
    "\"\\n\" + \"End Time: \" + str(datetime.datetime.now()) + \"\\n\" + \"Time Cost: \" + str((circle_time - start_time)).split('.')[0] + \\\n",
    "\"\\n\" + \"Time per cell: \" + \"\\n\" + \"Current Filename: \" + nb_name + \"\\n\" + \"Current IP: \" + socket.gethostbyname(socket.gethostname()) + \\\n",
    "\"\\n\" + \"Config: \" + \"\\n\" + str(json.dumps(config.__dict__,  sort_keys=True, indent=2))\n",
    "email.send_email()"
   ]
  },
  {
   "cell_type": "markdown",
   "metadata": {},
   "source": [
    "## cell10: transparent material"
   ]
  },
  {
   "cell_type": "code",
   "execution_count": null,
   "metadata": {},
   "outputs": [],
   "source": [
    "config.material = None\n",
    "config.material_filename = \"55-tomato-material-transparent.blend\"\n",
    "\n",
    "# without plane\n",
    "# config.plane = None\n",
    "\n",
    "# show cuts\n",
    "config.cut_mode = \"Segment\"\n",
    "\n",
    "for index, dirname in enumerate(f_list):\n",
    "    output = path + \"/Output/Models/\" + scene_name + \"/\" + dirname + \"/transparent/\"\n",
    "    if not os.path.exists(output):\n",
    "        os.makedirs(output)\n",
    "    file_dir = model_dir + dirname + \"/\"\n",
    "    file_list = os.listdir(file_dir)\n",
    "    for index, filename in enumerate(file_list):\n",
    "            if \"singularFaces.obj\" in file_list:\n",
    "                config.show_singular_face = True\n",
    "            else:\n",
    "                config.show_singular_face = False\n",
    "\n",
    "            if \"loops.obj\" in file_list:\n",
    "                config.show_loops = True\n",
    "            else:\n",
    "                config.show_loops = False\n",
    "        config.scene_path = model_dir + dirname + \"/\" + filename + \"/\"\n",
    "        config.output_path = output + filename + \".png\"\n",
    "        config.save_config()\n",
    "        RenderScene.render()"
   ]
  },
  {
   "cell_type": "markdown",
   "metadata": {},
   "source": [
    "### circle texture: video generator"
   ]
  },
  {
   "cell_type": "code",
   "execution_count": null,
   "metadata": {},
   "outputs": [],
   "source": [
    "for index, dirname in enumerate(f_list):\n",
    "    output = path + \"/Output/Models/\" + scene_name + \"/\" + dirname + \"/transparent/\"\n",
    "    task.ImageInput = output\n",
    "    task.Rename()\n",
    "    task.PreProcessing()\n",
    "    task.CropImage()\n",
    "    task.ProduceVideo()\n",
    "    # save another video\n",
    "    task.ImageInput = \"../../Output/Models/\" + scene_name + \"/\" + dirname + \"/transparent/\"\n",
    "    task.ProduceVideo()\n",
    "    \n",
    "    video_path = \"../../Output/Models/\" + scene_name + \"/\" + dirname + \"/transparent/video/result.mp4\"\n",
    "    display(Video(video_path, width=600, height=600))\n",
    "\n",
    "transparent_time = datetime.datetime.now()\n",
    "\n",
    "\n",
    "email.mail_content = \"Input scene: \" + scene_name + '\\n' + \"Output path: \" + path + \"/Output/\" + \"\\n\" + \"SceneNumber: \" + str(len(f_list)) + \\\n",
    "\"\\n\" + \"End Time: \" + str(datetime.datetime.now()) + \"\\n\" + \"Time Cost: \" + str((transparent_time - start_time)).split('.')[0] + \\\n",
    "\"\\n\" + \"Time per cell: \" + \"\\n\" + \"Current Filename: \" + nb_name + \"\\n\" + \"Current IP: \" + socket.gethostbyname(socket.gethostname()) + \\\n",
    "\"\\n\" + \"Config: \" + \"\\n\" + str(json.dumps(config.__dict__,  sort_keys=True, indent=2))\n",
    "email.send_email()"
   ]
  },
  {
   "cell_type": "markdown",
   "metadata": {},
   "source": [
    "## cell11: cut_mode_plain"
   ]
  },
  {
   "cell_type": "code",
   "execution_count": null,
   "metadata": {},
   "outputs": [],
   "source": [
    "config.material = \"model_only\"\n",
    "config.material_filename = None\n",
    "\n",
    "# without plane\n",
    "# config.plane = None\n",
    "\n",
    "config.show_loops = False\n",
    "config.show_singular_face = False\n",
    "\n",
    "config.cut_mode = \"Plain\"\n",
    "\n",
    "for index, dirname in enumerate(f_list):\n",
    "    output = path + \"/Output/Models/\" + scene_name + \"/\" + dirname + \"/cut_mode_plain/\"\n",
    "    if not os.path.exists(output):\n",
    "        os.makedirs(output)\n",
    "    file_dir = model_dir + dirname + \"/\"\n",
    "    file_list = os.listdir(file_dir)\n",
    "    for index, filename in enumerate(file_list):\n",
    "        config.scene_path = model_dir + dirname + \"/\" + filename + \"/\"\n",
    "        config.output_path = output + filename + \".png\"\n",
    "        config.save_config()\n",
    "        RenderScene.render()"
   ]
  },
  {
   "cell_type": "markdown",
   "metadata": {},
   "source": [
    "### cut_mode_plain: video generator"
   ]
  },
  {
   "cell_type": "code",
   "execution_count": null,
   "metadata": {},
   "outputs": [],
   "source": [
    "for index, dirname in enumerate(f_list):\n",
    "    output = path + \"/Output/Models/\" + scene_name + \"/\" + dirname + \"/cut_mode_plain/\"\n",
    "    task.ImageInput = output\n",
    "    task.Rename()\n",
    "    task.PreProcessing()\n",
    "    task.CropImage()\n",
    "    task.ProduceVideo()\n",
    "    # save another video\n",
    "    task.ImageInput = \"../../Output/Models/\" + scene_name + \"/\" + dirname + \"/cut_mode_plain/\"\n",
    "    task.ProduceVideo()\n",
    "    \n",
    "    video_path = \"../../Output/Models/\" + scene_name + \"/\" + dirname + \"/cut_mode_plain/video/result.mp4\"\n",
    "    display(Video(video_path, width=600, height=600))\n",
    "\n",
    "\n",
    "cut_mode_plain_time = datetime.datetime.now()\n",
    "\n",
    "\n",
    "email.mail_content = \"Input scene: \" + scene_name + '\\n' + \"Output path: \" + path + \"/Output/\" + \"\\n\" + \"SceneNumber: \" + str(len(f_list)) + \\\n",
    "\"\\n\" + \"End Time: \" + str(datetime.datetime.now()) + \"\\n\" + \"Time Cost: \" + str((cut_mode_plain_time - start_time)).split('.')[0] + \\\n",
    "\"\\n\" + \"Time per cell: \" + \"\\n\" + \"Current Filename: \" + nb_name + \"\\n\" + \"Current IP: \" + socket.gethostbyname(socket.gethostname()) + \\\n",
    "\"\\n\" + \"Config: \" + \"\\n\" + str(json.dumps(config.__dict__,  sort_keys=True, indent=2))\n",
    "email.send_email()"
   ]
  },
  {
   "cell_type": "markdown",
   "metadata": {},
   "source": [
    "## cell12: cut_mode_segment"
   ]
  },
  {
   "cell_type": "code",
   "execution_count": null,
   "metadata": {},
   "outputs": [],
   "source": [
    "config.material = \"model_only\"\n",
    "config.material_filename = None\n",
    "\n",
    "# without plane\n",
    "# config.plane = None\n",
    "\n",
    "config.show_loops = False\n",
    "config.show_singular_face = False\n",
    "\n",
    "config.cut_mode = \"Segment\"\n",
    "\n",
    "for index, dirname in enumerate(f_list):\n",
    "    output = path + \"/Output/Models/\" + scene_name + \"/\" + dirname + \"/cut_mode_segment/\"\n",
    "    if not os.path.exists(output):\n",
    "        os.makedirs(output)\n",
    "    file_dir = model_dir + dirname + \"/\"\n",
    "    file_list = os.listdir(file_dir)\n",
    "    for index, filename in enumerate(file_list):\n",
    "        config.scene_path = model_dir + dirname + \"/\" + filename + \"/\"\n",
    "        config.output_path = output + filename + \".png\"\n",
    "        config.save_config()\n",
    "        RenderScene.render()"
   ]
  },
  {
   "cell_type": "markdown",
   "metadata": {},
   "source": [
    "### cut_mode_segment: video generator"
   ]
  },
  {
   "cell_type": "code",
   "execution_count": null,
   "metadata": {},
   "outputs": [],
   "source": [
    "for index, dirname in enumerate(f_list):\n",
    "    output = path + \"/Output/Models/\" + scene_name + \"/\" + dirname + \"/cut_mode_segment/\"\n",
    "    task.ImageInput = output\n",
    "    task.Rename()\n",
    "    task.PreProcessing()\n",
    "    task.CropImage()\n",
    "    task.ProduceVideo()\n",
    "    # save another video\n",
    "    task.ImageInput = \"../../Output/Models/\" + scene_name + \"/\" + dirname + \"/cut_mode_segment/\"\n",
    "    task.ProduceVideo()\n",
    "    \n",
    "    video_path = \"../../Output/Models/\" + scene_name + \"/\" + dirname + \"/cut_mode_segment/video/result.mp4\"\n",
    "    display(Video(video_path, width=600, height=600))\n",
    "\n",
    "cut_mode_segment_time = datetime.datetime.now()\n",
    "\n",
    "\n",
    "email.mail_content = \"Input scene: \" + scene_name + '\\n' + \"Output path: \" + path + \"/Output/\" + \"\\n\" + \"SceneNumber: \" + str(len(f_list)) + \\\n",
    "\"\\n\" + \"End Time: \" + str(datetime.datetime.now()) + \"\\n\" + \"Time Cost: \" + str((cut_mode_segment_time - start_time)).split('.')[0] + \\\n",
    "\"\\n\" + \"Time per cell: \" + \"\\n\" + \"Current Filename: \" + nb_name + \"\\n\" + \"Current IP: \" + socket.gethostbyname(socket.gethostname()) + \\\n",
    "\"\\n\" + \"Config: \" + \"\\n\" + str(json.dumps(config.__dict__,  sort_keys=True, indent=2))\n",
    "email.send_email()"
   ]
  },
  {
   "cell_type": "markdown",
   "metadata": {},
   "source": [
    "## cell13: cut_mode_zero"
   ]
  },
  {
   "cell_type": "code",
   "execution_count": null,
   "metadata": {},
   "outputs": [],
   "source": [
    "config.material = \"model_only\"\n",
    "config.material_filename = None\n",
    "\n",
    "# without plane\n",
    "# config.plane = None\n",
    "\n",
    "config.show_loops = False\n",
    "config.show_singular_face = False\n",
    "\n",
    "config.cut_mode = \"zero_mode\"\n",
    "\n",
    "for index, dirname in enumerate(f_list):\n",
    "    output = path + \"/Output/Models/\" + scene_name + \"/\" + dirname + \"/cut_mode_zero/\"\n",
    "    if not os.path.exists(output):\n",
    "        os.makedirs(output)\n",
    "    file_dir = model_dir + dirname + \"/\"\n",
    "    file_list = os.listdir(file_dir)\n",
    "    for index, filename in enumerate(file_list):\n",
    "        config.scene_path = model_dir + dirname + \"/\" + filename + \"/\"\n",
    "        config.output_path = output + filename + \".png\"\n",
    "        config.save_config()\n",
    "        RenderScene.render()"
   ]
  },
  {
   "cell_type": "markdown",
   "metadata": {},
   "source": [
    "### cut_mode_zero: video generator"
   ]
  },
  {
   "cell_type": "code",
   "execution_count": null,
   "metadata": {},
   "outputs": [],
   "source": [
    "for index, dirname in enumerate(f_list):\n",
    "    output = path + \"/Output/Models/\" + scene_name + \"/\" + dirname + \"/cut_mode_zero/\"\n",
    "    task.ImageInput = output\n",
    "    task.Rename()\n",
    "    task.PreProcessing()\n",
    "    task.CropImage()\n",
    "    task.ProduceVideo()\n",
    "    # save another video\n",
    "    task.ImageInput = \"../../Output/Models/\" + scene_name + \"/\" + dirname + \"/cut_mode_zero/\"\n",
    "    task.ProduceVideo()\n",
    "    \n",
    "    video_path = \"../../Output/Models/\" + scene_name + \"/\" + dirname + \"/cut_mode_zero/video/result.mp4\"\n",
    "    display(Video(video_path, width=600, height=600))\n",
    "\n",
    "cut_mode_zero_time = datetime.datetime.now()\n",
    "\n",
    "\n",
    "email.mail_content = \"Input scene: \" + scene_name + '\\n' + \"Output path: \" + path + \"/Output/\" + \"\\n\" + \"SceneNumber: \" + str(len(f_list)) + \\\n",
    "\"\\n\" + \"End Time: \" + str(datetime.datetime.now()) + \"\\n\" + \"Time Cost: \" + str((cut_mode_zero_time - start_time)).split('.')[0] + \\\n",
    "\"\\n\" + \"Time per cell: \" + \"\\n\" + \"Current Filename: \" + nb_name + \"\\n\" + \"Current IP: \" + socket.gethostbyname(socket.gethostname()) + \\\n",
    "\"\\n\" + \"Config: \" + \"\\n\" + str(json.dumps(config.__dict__,  sort_keys=True, indent=2))\n",
    "email.send_email()"
   ]
  },
  {
   "cell_type": "markdown",
   "metadata": {},
   "source": [
    "## cell14: cut_mode_incoherent"
   ]
  },
  {
   "cell_type": "code",
   "execution_count": null,
   "metadata": {},
   "outputs": [],
   "source": [
    "config.material = \"model_only\"\n",
    "config.material_filename = None\n",
    "\n",
    "# without plane\n",
    "# config.plane = None\n",
    "\n",
    "config.show_loops = False\n",
    "config.show_singular_face = False\n",
    "\n",
    "config.cut_mode = \"incoherent\"\n",
    "\n",
    "for index, dirname in enumerate(f_list):\n",
    "    output = path + \"/Output/Models/\" + scene_name + \"/\" + dirname + \"/cut_mode_incoherent/\"\n",
    "    if not os.path.exists(output):\n",
    "        os.makedirs(output)\n",
    "    file_dir = model_dir + dirname + \"/\"\n",
    "    file_list = os.listdir(file_dir)\n",
    "    for index, filename in enumerate(file_list):\n",
    "        config.scene_path = model_dir + dirname + \"/\" + filename + \"/\"\n",
    "        config.output_path = output + filename + \".png\"\n",
    "        config.save_config()\n",
    "        RenderScene.render()"
   ]
  },
  {
   "cell_type": "markdown",
   "metadata": {},
   "source": [
    "### cut_mode_incoherent: video generator"
   ]
  },
  {
   "cell_type": "code",
   "execution_count": null,
   "metadata": {},
   "outputs": [],
   "source": [
    "for index, dirname in enumerate(f_list):\n",
    "    output = path + \"/Output/Models/\" + scene_name + \"/\" + dirname + \"/cut_mode_incoherent/\"\n",
    "    task.ImageInput = output\n",
    "    task.Rename()\n",
    "    task.PreProcessing()\n",
    "    task.CropImage()\n",
    "    task.ProduceVideo()\n",
    "    # save another video\n",
    "    task.ImageInput = \"../../Output/Models/\" + scene_name + \"/\" + dirname + \"/cut_mode_incoherent/\"\n",
    "    task.ProduceVideo()\n",
    "    \n",
    "    video_path = \"../../Output/Models/\" + scene_name + \"/\" + dirname + \"/cut_mode_incoherent/video/result.mp4\"\n",
    "    display(Video(video_path, width=600, height=600))\n",
    "    \n",
    "cut_mode_incoherent_time = datetime.datetime.now()\n",
    "\n",
    "\n",
    "email.mail_content = \"Input scene: \" + scene_name + '\\n' + \"Output path: \" + path + \"/Output/\" + \"\\n\" + \"SceneNumber: \" + str(len(f_list)) + \\\n",
    "\"\\n\" + \"End Time: \" + str(datetime.datetime.now()) + \"\\n\" + \"Time Cost: \" + str((cut_mode_incoherent_time - start_time)).split('.')[0] + \\\n",
    "\"\\n\" + \"Time per cell: \" + \"\\n\" + \"Current Filename: \" + nb_name + \"\\n\" + \"Current IP: \" + socket.gethostbyname(socket.gethostname()) + \\\n",
    "\"\\n\" + \"Config: \" + \"\\n\" + str(json.dumps(config.__dict__,  sort_keys=True, indent=2))\n",
    "email.send_email()"
   ]
  },
  {
   "cell_type": "code",
   "execution_count": null,
   "metadata": {},
   "outputs": [],
   "source": []
  },
  {
   "cell_type": "code",
   "execution_count": null,
   "metadata": {},
   "outputs": [],
   "source": []
  },
  {
   "cell_type": "code",
   "execution_count": null,
   "metadata": {},
   "outputs": [],
   "source": []
  },
  {
   "cell_type": "code",
   "execution_count": null,
   "metadata": {},
   "outputs": [],
   "source": []
  }
 ],
 "metadata": {
  "kernelspec": {
   "display_name": "Python 3",
   "language": "python",
   "name": "python3"
  },
  "language_info": {
   "codemirror_mode": {
    "name": "ipython",
    "version": 3
   },
   "file_extension": ".py",
   "mimetype": "text/x-python",
   "name": "python",
   "nbconvert_exporter": "python",
   "pygments_lexer": "ipython3",
   "version": "3.6.5"
  }
 },
 "nbformat": 4,
 "nbformat_minor": 1
}
