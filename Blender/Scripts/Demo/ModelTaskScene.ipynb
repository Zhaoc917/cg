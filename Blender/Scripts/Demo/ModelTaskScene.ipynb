{
 "cells": [
  {
   "cell_type": "code",
   "execution_count": 21,
   "metadata": {},
   "outputs": [],
   "source": [
    "import os\n",
    "import sys\n",
    "sys.path.append(\"..\")\n",
    "from Lib.RenderScene import RenderScene\n",
    "from Lib.ConfigClass import Config\n",
    "from Lib.ImageVideo import TaskImageVideo\n",
    "from Lib.email_sender import Email\n",
    "from IPython.display import display,Video\n",
    "import imageio\n",
    "import datetime\n",
    "import socket\n",
    "import json\n",
    "import getpass"
   ]
  },
  {
   "cell_type": "code",
   "execution_count": 22,
   "metadata": {},
   "outputs": [
    {
     "data": {
      "application/javascript": [
       "IPython.notebook.kernel.execute('nb_name = \"' + IPython.notebook.notebook_name + '\"')\n"
      ],
      "text/plain": [
       "<IPython.core.display.Javascript object>"
      ]
     },
     "metadata": {},
     "output_type": "display_data"
    }
   ],
   "source": [
    "%%javascript\n",
    "IPython.notebook.kernel.execute('nb_name = \"' + IPython.notebook.notebook_name + '\"')"
   ]
  },
  {
   "cell_type": "markdown",
   "metadata": {},
   "source": [
    "# Set task name"
   ]
  },
  {
   "cell_type": "code",
   "execution_count": 24,
   "metadata": {},
   "outputs": [
    {
     "name": "stdout",
     "output_type": "stream",
     "text": [
      "2019-12-16 17:04:23.995286\n"
     ]
    }
   ],
   "source": [
    "scene_name = \"foliation_graph\"\n",
    "\n",
    "start_time = datetime.datetime.now()\n",
    "print(start_time)"
   ]
  },
  {
   "cell_type": "markdown",
   "metadata": {},
   "source": [
    "## some basic settings"
   ]
  },
  {
   "cell_type": "code",
   "execution_count": 25,
   "metadata": {},
   "outputs": [],
   "source": [
    "task = TaskImageVideo() \n",
    "task.framerate = 0.5\n",
    "\n",
    "config = Config()\n",
    "config.width = 2000\n",
    "config.height = 2000\n",
    "\n",
    "email = Email()\n",
    "email.password = \"\"\n",
    "email.receiver = \"\"\n",
    "\n",
    "# path = os.getcwd()\n",
    "# path = os.path.dirname(path)\n",
    "# path = os.path.dirname(path)\n",
    "# model_dir = path + \"/Scene/Models/\" + scene_name + \"/\"\n",
    "\n",
    "\n",
    "# reset path and model_dir in new environment\n",
    "# path: path for output\n",
    "# model_dir: path for models\n",
    "path = \"/pub/data/zhaoc\"\n",
    "model_dir = \"/home/wangsd/Workspace/foliation-results/outputs/scenes/\" + scene_name + \"/\"\n",
    "\n",
    "f_list = os.listdir(model_dir)\n",
    "\n",
    "\n",
    "# reset path in new environment\n",
    "# config.blender_path = \"D:/tools/blender_2.81/blender.exe\"\n",
    "# task.ffmpegPath = 'D://FFmpeg/ffmpeg/bin/ffmpeg.exe'\n",
    "\n",
    "config.blender_path = \"/home/zhaoc/blender/blender_2.81/blender\"\n",
    "task.ffmpegPath = \"ffmpeg\"\n",
    "\n",
    "config.show_singular_face = False\n",
    "config.show_loops = False\n",
    "config.cut_mode = \"Segment\"\n",
    "config.show_singularity = True\n",
    "config.use_envmap = True\n",
    "\n",
    "config.background_render = True\n",
    "\n",
    "config.mode = \"single\"\n",
    "config.material = None\n",
    "\n",
    "config.save_config()\n",
    "RenderScene = RenderScene()\n",
    "RenderScene.config = config\n"
   ]
  },
  {
   "cell_type": "code",
   "execution_count": 23,
   "metadata": {},
   "outputs": [],
   "source": [
    "# this function is used for building emails\n",
    "\n",
    "def generate_email_content(email, name, time):\n",
    "    email.mail_content = \"Current User: \" + getpass.getuser() + \"\\n\" + \\\n",
    "    \"Input scene: \" + model_dir + '\\n' + \"Output path: \" + path + \\\n",
    "    \"/Output/Models/\" + name + \"/\" + scene_name + \"/\" + \"\\n\" + \"GenusNumber: \" + str(len(f_list)) + \\\n",
    "    \"\\n\" + \"SceneNumber: \" + str(scene_number) + \"\\n\" + \"Start Time: \" + str(start_time) + \\ \n",
    "    \"\\n\" + \"End Time: \" + str(datetime.datetime.now()) + \\\n",
    "    \"\\n\" + \"Time Cost: \" + str((time - start_time)).split('.')[0] + \\\n",
    "    \"\\n\" + \"Time Cost Cell: \" + str((time - cell_start_time)).split('.')[0] + \"\\n\" + \\\n",
    "    \"Current Filename: \" + nb_name + \"\\n\" + \"Current IP: \" + socket.gethostbyname(socket.gethostname()) + \\\n",
    "    \"\\n\" + \"Config: \" + \"\\n\" + str(json.dumps(config.__dict__,  sort_keys=True, indent=2)) + \\\n",
    "    \"\\n\" + \"Model Name: \" + '\\n\\t\\t\\t'.join(scene_name_list)\n",
    "\n",
    "    email.image_path = path + \"/Output/Models/\" + name + \"/\" + scene_name + \"/\" + dirname + \"/Jpg/image_000.jpg\" \n",
    "    email.video_path = \"../../Output/Models/\" + name + \"/\" + scene_name + \"/\" + dirname + \"/video/result.mp4\"\n",
    "    return email\n"
   ]
  },
  {
   "cell_type": "markdown",
   "metadata": {},
   "source": [
    "## cell1: wireframe + model_only"
   ]
  },
  {
   "cell_type": "code",
   "execution_count": 26,
   "metadata": {},
   "outputs": [
    {
     "name": "stdout",
     "output_type": "stream",
     "text": [
      "start rendering...\n",
      "done!\n",
      "start rendering...\n",
      "done!\n",
      "start rendering...\n",
      "done!\n",
      "start rendering...\n",
      "done!\n"
     ]
    }
   ],
   "source": [
    "config.material = \"wireframe_only\"\n",
    "config.material_filename = None\n",
    "\n",
    "# without plane\n",
    "# config.plane = None\n",
    "\n",
    "# no cuts\n",
    "config.cut_mode = \"None\"\n",
    "\n",
    "scene_number = 0\n",
    "scene_name_list = []\n",
    "cell_start_time = datetime.datetime.now()\n",
    "for index, dirname in enumerate(f_list):\n",
    "    output = path + \"/Output/Models/\" + \"wireframe_only/\" + scene_name + \"/\" + dirname + \"/\"\n",
    "    if not os.path.exists(output):\n",
    "        os.makedirs(output)\n",
    "    file_dir = model_dir + dirname + \"/\"\n",
    "    file_list = os.listdir(file_dir)\n",
    "    scene_number += len(file_list)\n",
    "    scene_name_list += file_list\n",
    "    for index, filename in enumerate(file_list):\n",
    "        config.scene_path = model_dir + dirname + \"/\" + filename + \"/\"\n",
    "        config.output_path = output + filename + \".png\"\n",
    "        config.save_config()\n",
    "        RenderScene.render()"
   ]
  },
  {
   "cell_type": "markdown",
   "metadata": {},
   "source": [
    "### wireframe + model_only: video generator"
   ]
  },
  {
   "cell_type": "code",
   "execution_count": 28,
   "metadata": {},
   "outputs": [
    {
     "name": "stdout",
     "output_type": "stream",
     "text": [
      "write done\n",
      "write done\n"
     ]
    },
    {
     "data": {
      "text/html": [
       "<video src=\"../../Output/Models/wireframe_only/foliation_graph/genus1/video/result.mp4\" controls  width=\"600\"  height=\"600\">\n",
       "      Your browser does not support the <code>video</code> element.\n",
       "    </video>"
      ],
      "text/plain": [
       "<IPython.core.display.Video object>"
      ]
     },
     "metadata": {},
     "output_type": "display_data"
    },
    {
     "name": "stdout",
     "output_type": "stream",
     "text": [
      "write done\n",
      "write done\n"
     ]
    },
    {
     "data": {
      "text/html": [
       "<video src=\"../../Output/Models/wireframe_only/foliation_graph/genus2/video/result.mp4\" controls  width=\"600\"  height=\"600\">\n",
       "      Your browser does not support the <code>video</code> element.\n",
       "    </video>"
      ],
      "text/plain": [
       "<IPython.core.display.Video object>"
      ]
     },
     "metadata": {},
     "output_type": "display_data"
    },
    {
     "name": "stdout",
     "output_type": "stream",
     "text": [
      "write done\n",
      "write done\n"
     ]
    },
    {
     "data": {
      "text/html": [
       "<video src=\"../../Output/Models/wireframe_only/foliation_graph/genus3/video/result.mp4\" controls  width=\"600\"  height=\"600\">\n",
       "      Your browser does not support the <code>video</code> element.\n",
       "    </video>"
      ],
      "text/plain": [
       "<IPython.core.display.Video object>"
      ]
     },
     "metadata": {},
     "output_type": "display_data"
    },
    {
     "name": "stderr",
     "output_type": "stream",
     "text": [
      "send: 'ehlo smtp.qq.com\\r\\n'\n",
      "reply: b'250-smtp.qq.com\\r\\n'\n",
      "reply: b'250-PIPELINING\\r\\n'\n",
      "reply: b'250-SIZE 73400320\\r\\n'\n",
      "reply: b'250-AUTH LOGIN PLAIN\\r\\n'\n",
      "reply: b'250-AUTH=LOGIN\\r\\n'\n",
      "reply: b'250-MAILCOMPRESS\\r\\n'\n",
      "reply: b'250 8BITMIME\\r\\n'\n",
      "reply: retcode (250); Msg: b'smtp.qq.com\\nPIPELINING\\nSIZE 73400320\\nAUTH LOGIN PLAIN\\nAUTH=LOGIN\\nMAILCOMPRESS\\n8BITMIME'\n",
      "send: 'AUTH PLAIN ADg0MTc4MTA2M0BxcS5jb20AamZjYm5vbXVjYXRwYmVkYg==\\r\\n'\n",
      "reply: b'235 Authentication successful\\r\\n'\n",
      "reply: retcode (235); Msg: b'Authentication successful'\n",
      "send: 'mail FROM:<841781063@qq.com> size=7950\\r\\n'\n",
      "reply: b'250 Ok\\r\\n'\n",
      "reply: retcode (250); Msg: b'Ok'\n",
      "send: 'rcpt TO:<zhaoc@ios.ac.cn>\\r\\n'\n",
      "reply: b'250 Ok\\r\\n'\n",
      "reply: retcode (250); Msg: b'Ok'\n",
      "send: 'data\\r\\n'\n",
      "reply: b'354 End data with <CR><LF>.<CR><LF>\\r\\n'\n",
      "reply: retcode (354); Msg: b'End data with <CR><LF>.<CR><LF>'\n",
      "data: (354, b'End data with <CR><LF>.<CR><LF>')\n",
      "send: b'Content-Type: multipart/mixed; boundary=\"===============1369301202697516770==\"\\r\\nMIME-Version: 1.0\\r\\nFrom: 841781063@qq.com\\r\\nTo: zhaoc@ios.ac.cn\\r\\nSubject: =?utf-8?q?Render_Task_Done!?=\\r\\n\\r\\n--===============1369301202697516770==\\r\\nContent-Type: text/plain; charset=\"utf-8\"\\r\\nMIME-Version: 1.0\\r\\nContent-Transfer-Encoding: base64\\r\\n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\\r\\nMC0x\\r\\n\\r\\n--===============1369301202697516770==\\r\\nContent-Type: text/base64; charset=\"utf-8\"\\r\\nMIME-Version: 1.0\\r\\nContent-Transfer-Encoding: base64\\r\\nContent-Type: video/mp4\\r\\nContent-Disposition: attachment;filename=video.mp4\\r\\n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\\r\\nbHN0AAAAJal0b28AAAAdZGF0YQAAAAEAAAAATGF2ZjU4LjMwLjEwMA==\\r\\n\\r\\n--===============1369301202697516770==\\r\\nContent-Type: image/jpeg\\r\\nMIME-Version: 1.0\\r\\nContent-Transfer-Encoding: base64\\r\\nContent-ID: <image1>\\r\\n\\r\\n/9j/4AAQSkZJRgABAQAAAQABAAD/2wBDAAgGBgcGBQgHBwcJCQgKDBQNDAsLDBkSEw8UHRofHh0a\\r\\nHBwgJC4nICIsIxwcKDcpLDAxNDQ0Hyc5PTgyPC4zNDL/2wBDAQkJCQwLDBgNDRgyIRwhMjIyMjIy\\r\\nMjIyMjIyMjIyMjIyMjIyMjIyMjIyMjIyMjIyMjIyMjIyMjIyMjIyMjIyMjL/wAARCABAAEADASIA\\r\\nAhEBAxEB/8QAHwAAAQUBAQEBAQEAAAAAAAAAAAECAwQFBgcICQoL/8QAtRAAAgEDAwIEAwUFBAQA\\r\\nAAF9AQIDAAQRBRIhMUEGE1FhByJxFDKBkaEII0KxwRVS0fAkM2JyggkKFhcYGRolJicoKSo0NTY3\\r\\nODk6Q0RFRkdISUpTVFVWV1hZWmNkZWZnaGlqc3R1dnd4eXqDhIWGh4iJipKTlJWWl5iZmqKjpKWm\\r\\np6ipqrKztLW2t7i5usLDxMXGx8jJytLT1NXW19jZ2uHi4+Tl5ufo6erx8vP09fb3+Pn6/8QAHwEA\\r\\nAwEBAQEBAQEBAQAAAAAAAAECAwQFBgcICQoL/8QAtREAAgECBAQDBAcFBAQAAQJ3AAECAxEEBSEx\\r\\nBhJBUQdhcRMiMoEIFEKRobHBCSMzUvAVYnLRChYkNOEl8RcYGRomJygpKjU2Nzg5OkNERUZHSElK\\r\\nU1RVVldYWVpjZGVmZ2hpanN0dXZ3eHl6goOEhYaHiImKkpOUlZaXmJmaoqOkpaanqKmqsrO0tba3\\r\\nuLm6wsPExcbHyMnK0tPU1dbX2Nna4uPk5ebn6Onq8vP09fb3+Pn6/9oADAMBAAIRAxEAPwDRApQD\\r\\n/wDXqTZ3xz9aXZzzz6UAR/yox7VJsI5xz6Uuz8fTigCLHFLtqTb+fpRtoAj20m2pCuPTJoIIFAE+\\r\\nznIApQnOBmpgg5GMCrdisYmJbBKjjNAFMWkpGRGx98UwxlTypB9K6DywxBEhxnpSSWsUxyQCaAOf\\r\\n2Y6n6Zo8vvjmtptMRvull/Wqsunyx5O3co6EUAZuzvzSbMnPHsaslMnuMdeKRk9MH60AO3ZwVI/n\\r\\nUqsR0z+FHlKGKDGfQULCVGMk/WgCUSuo5cAeppRJOvQhh9agBcfeAH604ShsqSc/lQBbW9ZPvIc/\\r\\nSpRqajqD+VUjKAMfzpokJHOM+1AF6W7gkiLLEJGH8Peqcgifa8UZTI5BHNR4WQ9DkfhTtpxxQBf2\\r\\nAcnFNaEFgckY7DpUqlXGRzTscUAVXhP8IB+pprQAAk8CrYU9Cc0nU4wfyoAzmtQ5Dqc/Q0wwSDoP\\r\\nzrU2e1MEWGJ3Eg9jQBUWNgvNAjVjuHUfhVpgUxhCw9qUrQB//9k=\\r\\n\\r\\n--===============1369301202697516770==--\\r\\n.\\r\\n'\n"
     ]
    },
    {
     "name": "stderr",
     "output_type": "stream",
     "text": [
      "reply: b'250 Ok: queued as \\r\\n'\n",
      "reply: retcode (250); Msg: b'Ok: queued as'\n",
      "data: (250, b'Ok: queued as')\n",
      "send: 'quit\\r\\n'\n",
      "reply: b'221 Bye\\r\\n'\n",
      "reply: retcode (221); Msg: b'Bye'\n"
     ]
    }
   ],
   "source": [
    "for index, dirname in enumerate(f_list):\n",
    "    output = path + \"/Output/Models/\" + \"wireframe_only/\" + scene_name + \"/\" + dirname + \"/\"\n",
    "    task.ImageInput = output\n",
    "    task.Rename()\n",
    "    task.PreProcessing()\n",
    "    task.CropImage()\n",
    "    task.ProduceVideo()\n",
    "    # save another video\n",
    "    task.ImageInput = \"../../Output/Models/\" + \"wireframe_only/\" + scene_name + \"/\" + dirname + \"/\"\n",
    "    task.ProduceVideo()\n",
    "    \n",
    "    video_path = \"../../Output/Models/\" + \"wireframe_only/\" + scene_name + \"/\" + dirname + \"/video/result.mp4\"\n",
    "    display(Video(video_path, width=600, height=600))\n",
    "    \n",
    "\n",
    "wireframe_only_time = datetime.datetime.now()\n",
    "\n",
    "\n",
    "email = generate_email_content(email, \"wireframe_only\", wireframe_only_time)\n",
    "email.send_email()\n"
   ]
  },
  {
   "cell_type": "markdown",
   "metadata": {},
   "source": [
    "## cell2: model_only"
   ]
  },
  {
   "cell_type": "code",
   "execution_count": 29,
   "metadata": {},
   "outputs": [
    {
     "name": "stdout",
     "output_type": "stream",
     "text": [
      "start rendering...\n",
      "done!\n",
      "start rendering...\n",
      "done!\n",
      "start rendering...\n",
      "done!\n",
      "start rendering...\n",
      "done!\n"
     ]
    }
   ],
   "source": [
    "config.material = \"model_only\"\n",
    "config.material_filename = None\n",
    "\n",
    "# without plane\n",
    "# config.plane = None\n",
    "\n",
    "# without cuts\n",
    "config.cut_mode = \"None\"\n",
    "        \n",
    "scene_number = 0\n",
    "scene_name_list = []\n",
    "cell_start_time = datetime.datetime.now()\n",
    "for index, dirname in enumerate(f_list):\n",
    "    output = path + \"/Output/Models/\" + \"model_only/\" + scene_name + \"/\" + dirname + \"/\"\n",
    "    if not os.path.exists(output):\n",
    "        os.makedirs(output)\n",
    "    file_dir = model_dir + dirname + \"/\"\n",
    "    file_list = os.listdir(file_dir)\n",
    "    scene_number += len(file_list)\n",
    "    scene_name_list += file_list\n",
    "    for index, filename in enumerate(file_list):\n",
    "        config.scene_path = model_dir + dirname + \"/\" + filename + \"/\"\n",
    "        config.output_path = output + filename + \".png\"\n",
    "        config.save_config()\n",
    "        RenderScene.render()"
   ]
  },
  {
   "cell_type": "markdown",
   "metadata": {},
   "source": [
    "### model_only: video generator"
   ]
  },
  {
   "cell_type": "code",
   "execution_count": 30,
   "metadata": {},
   "outputs": [
    {
     "name": "stdout",
     "output_type": "stream",
     "text": [
      "write done\n",
      "write done\n"
     ]
    },
    {
     "data": {
      "text/html": [
       "<video src=\"../../Output/Models/model_only/foliation_graph/genus1/video/result.mp4\" controls  width=\"600\"  height=\"600\">\n",
       "      Your browser does not support the <code>video</code> element.\n",
       "    </video>"
      ],
      "text/plain": [
       "<IPython.core.display.Video object>"
      ]
     },
     "metadata": {},
     "output_type": "display_data"
    },
    {
     "name": "stdout",
     "output_type": "stream",
     "text": [
      "write done\n",
      "write done\n"
     ]
    },
    {
     "data": {
      "text/html": [
       "<video src=\"../../Output/Models/model_only/foliation_graph/genus2/video/result.mp4\" controls  width=\"600\"  height=\"600\">\n",
       "      Your browser does not support the <code>video</code> element.\n",
       "    </video>"
      ],
      "text/plain": [
       "<IPython.core.display.Video object>"
      ]
     },
     "metadata": {},
     "output_type": "display_data"
    },
    {
     "name": "stdout",
     "output_type": "stream",
     "text": [
      "write done\n",
      "write done\n"
     ]
    },
    {
     "data": {
      "text/html": [
       "<video src=\"../../Output/Models/model_only/foliation_graph/genus3/video/result.mp4\" controls  width=\"600\"  height=\"600\">\n",
       "      Your browser does not support the <code>video</code> element.\n",
       "    </video>"
      ],
      "text/plain": [
       "<IPython.core.display.Video object>"
      ]
     },
     "metadata": {},
     "output_type": "display_data"
    },
    {
     "name": "stderr",
     "output_type": "stream",
     "text": [
      "send: 'ehlo smtp.qq.com\\r\\n'\n",
      "reply: b'250-smtp.qq.com\\r\\n'\n",
      "reply: b'250-PIPELINING\\r\\n'\n",
      "reply: b'250-SIZE 73400320\\r\\n'\n",
      "reply: b'250-AUTH LOGIN PLAIN\\r\\n'\n",
      "reply: b'250-AUTH=LOGIN\\r\\n'\n",
      "reply: b'250-MAILCOMPRESS\\r\\n'\n",
      "reply: b'250 8BITMIME\\r\\n'\n",
      "reply: retcode (250); Msg: b'smtp.qq.com\\nPIPELINING\\nSIZE 73400320\\nAUTH LOGIN PLAIN\\nAUTH=LOGIN\\nMAILCOMPRESS\\n8BITMIME'\n",
      "send: 'AUTH PLAIN ADg0MTc4MTA2M0BxcS5jb20AamZjYm5vbXVjYXRwYmVkYg==\\r\\n'\n",
      "reply: b'235 Authentication successful\\r\\n'\n",
      "reply: retcode (235); Msg: b'Authentication successful'\n",
      "send: 'mail FROM:<841781063@qq.com> size=8294\\r\\n'\n",
      "reply: b'250 Ok\\r\\n'\n",
      "reply: retcode (250); Msg: b'Ok'\n",
      "send: 'rcpt TO:<zhaoc@ios.ac.cn>\\r\\n'\n",
      "reply: b'250 Ok\\r\\n'\n",
      "reply: retcode (250); Msg: b'Ok'\n",
      "send: 'data\\r\\n'\n",
      "reply: b'354 End data with <CR><LF>.<CR><LF>\\r\\n'\n",
      "reply: retcode (354); Msg: b'End data with <CR><LF>.<CR><LF>'\n",
      "data: (354, b'End data with <CR><LF>.<CR><LF>')\n",
      "send: b'Content-Type: multipart/mixed; boundary=\"===============2020617861624083978==\"\\r\\nMIME-Version: 1.0\\r\\nFrom: 841781063@qq.com\\r\\nTo: zhaoc@ios.ac.cn\\r\\nSubject: =?utf-8?q?Render_Task_Done!?=\\r\\n\\r\\n--===============2020617861624083978==\\r\\nContent-Type: text/plain; charset=\"utf-8\"\\r\\nMIME-Version: 1.0\\r\\nContent-Transfer-Encoding: base64\\r\\n\\r\\nQ3VycmVudCBVc2VyOiB4dXBwCklucHV0IHNjZW5lOiBEOlx6aGFvY1xjZ1xCbGVuZGVyL1NjZW5l\\r\\nL01vZGVscy9mb2xpYXRpb25fZ3JhcGgvLwpPdXRwdXQgcGF0aDogRDpcemhhb2NcY2dcQmxlbmRl\\r\\nci9PdXRwdXQvTW9kZWxzL21vZGVsX29ubHkvZm9saWF0aW9uX2dyYXBoLwpHZW51c051bWJlcjog\\r\\nMwpTY2VuZU51bWJlcjogNApFbmQgVGltZTogMjAxOS0xMi0xNiAxNzowNTowNi4zOTQ1MDIKVGlt\\r\\nZSBDb3N0OiAwOjAwOjQyClRpbWUgQ29zdCBDZWxsOiAwOjAwOjE5CkN1cnJlbnQgRmlsZW5hbWU6\\r\\nIE1vZGVsVGFza1NjZW5lLmlweW5iCkN1cnJlbnQgSVA6IDE5Mi4xNjguOC40MgpDb25maWc6IAp7\\r\\nCiAgImJhY2tncm91bmRfcmVuZGVyIjogdHJ1ZSwKICAiYmxlbmRlcl9wYXRoIjogIkQ6L3Rvb2xz\\r\\nL2JsZW5kZXJfMi44MS9ibGVuZGVyLmV4ZSIsCiAgImNvbmZpZ19wYXRoIjogIi4vY29uZmlnLmpz\\r\\nb24iLAogICJjdXRfanNvbl9uYW1lIjogImN1dHMuanNvbiIsCiAgImN1dF9tb2RlIjogIk5vbmUi\\r\\nLAogICJkYXRhX3BhdGgiOiAiRDpcXHpoYW9jXFxjZ1xcQmxlbmRlclxcU2NyaXB0c1xcTGliLy4u\\r\\nLy4uL0RhdGEvIiwKICAiZWRnZV9tYXRlcmlhbCI6IG51bGwsCiAgImVkZ2Vfc2NhbGUiOiAwLjAw\\r\\nMiwKICAiZW52bWFwX3BhdGgiOiAiRDpcXHpoYW9jXFxjZ1xcQmxlbmRlclxcU2NyaXB0c1xcTGli\\r\\nLy4uLy4uL0RhdGEvSERSL2dsLWhkci0wMi5oZHIiLAogICJoZWlnaHQiOiA2NCwKICAibG9vcF9t\\r\\nYXRlcmlhbCI6IG51bGwsCiAgIm1hdGVyaWFsIjogIm1vZGVsX29ubHkiLAogICJtYXRlcmlhbF9m\\r\\naWxlbmFtZSI6IG51bGwsCiAgIm1vZGUiOiAic2luZ2xlIiwKICAibW9kZWxfY29sb3IiOiBbCiAg\\r\\nICAxLjAsCiAgICAxLjAsCiAgICAxLjAsCiAgICAxLjAKICBdLAogICJvYmplY3RfbmFtZSI6ICJt\\r\\nZXNoLm9iaiIsCiAgIm91dHB1dF9wYXRoIjogIkQ6XFx6aGFvY1xcY2dcXEJsZW5kZXIvT3V0cHV0\\r\\nL01vZGVscy9tb2RlbF9vbmx5L2ZvbGlhdGlvbl9ncmFwaC9nZW51czMvcm9kXzQwMDAuYS4wLTAt\\r\\nMS5wbmciLAogICJwbGFuZSI6ICJwcmVkZWZpbmVkIiwKICAicm90YXRpb25fYXhpcyI6ICJaIiwK\\r\\nICAicm90YXRpb25fZW5kIjogMzYwLAogICJyb3RhdGlvbl9zdGFydCI6IDAsCiAgInJvdGF0aW9u\\r\\nX3N0ZXAiOiAxLAogICJyb3VnaG5lc3MiOiAwLjAsCiAgInNjZW5lIjogImVpZ2h0IiwKICAic2Nl\\r\\nbmVfbmFtZSI6ICJzY2VuZS5qc29uIiwKICAic2NlbmVfcGF0aCI6ICJEOlxcemhhb2NcXGNnXFxC\\r\\nbGVuZGVyL1NjZW5lL01vZGVscy9mb2xpYXRpb25fZ3JhcGgvZ2VudXMzL3JvZF80MDAwLmEuMC0w\\r\\nLTEvIiwKICAic2VnbWVudF9jb2xvcnMiOiBbCiAgICA4Mzg4NjA4LAogICAgMTM3ODk0NzAsCiAg\\r\\nICA4NDIxMzc2LAogICAgMzI4OTYsCiAgICAxMjgsCiAgICAxNjcxMTY4MCwKICAgIDE2NzUzOTIw\\r\\nLAogICAgMTY3NzY5NjAsCiAgICA2NTI4MCwKICAgIDMyNzY4LAogICAgNjU1MzUsCiAgICAyNTUs\\r\\nCiAgICA4Mzg4NzM2LAogICAgMTY3MTE5MzUsCiAgICA4NDIxNTA0LAogICAgMTY3NjEwMzUsCiAg\\r\\nICAxNjc2NzYyNSwKICAgIDE2MTE5MjYwLAogICAgMTYxMjE4NTAsCiAgICAxNTEzMjQxMAogIF0s\\r\\nCiAgInNob3dfbG9vcHMiOiBmYWxzZSwKICAic2hvd19zaW5ndWxhcl9mYWNlIjogZmFsc2UsCiAg\\r\\nInNob3dfc2luZ3VsYXJpdHkiOiB0cnVlLAogICJzaW5ndWxhcl9jb2xvcnMiOiB7CiAgICAiLTEi\\r\\nOiA2MjQ2MywKICAgICItMiI6IDI5OTUxLAogICAgIi0zIjogMjU1LAogICAgIjEiOiAxNjc1OTgw\\r\\nOCwKICAgICIyIjogMTY3MzM0NDAKICB9LAogICJzaW5ndWxhcl9mYWNlX21hdGVyaWFsIjogbnVs\\r\\nbCwKICAic2luZ3VsYXJpdHlfanNvbl9uYW1lIjogInNpbmd1bGFyaXRpZXMuanNvbiIsCiAgInNp\\r\\nbmd1bGFyaXR5X21hdGVyaWFsIjogIjc1LXBob25lLXNjcmVlbi5ibGVuZCIsCiAgInNpbmd1bGFy\\r\\naXR5X3NjYWxlIjogMC4wMTUsCiAgInRleHR1cmVfcGF0aCI6ICJEOlxcemhhb2NcXGNnXFxCbGVu\\r\\nZGVyXFxTY3JpcHRzXFxMaWIvLi4vLi4vRGF0YS9UZXh0dXJlL2xpbmVzeHlfMTQ1LnBuZyIsCiAg\\r\\nInVzZV9lbnZtYXAiOiB0cnVlLAogICJ1dl9hZGQiOiBbCiAgICAwLjA1LAogICAgMC4wNQogIF0s\\r\\nCiAgInV2X211bHRpcGx5IjogWwogICAgMS41LAogICAgMS41CiAgXSwKICAid2lkdGgiOiA2NCwK\\r\\nICAid2lyZWZyYW1lX2NvbG9yIjogWwogICAgMCwKICAgIDAsCiAgICAwLAogICAgMS4wCiAgXSwK\\r\\nICAid2lyZWZyYW1lX3NpemUiOiAwLjIKfQpNb2RlbCBOYW1lOiBjdXBfNTAwMC5hLjAtMC0xCgkJ\\r\\nCWR0b3J1c18yNTIxLmEuMS0wLTAKCQkJdGVzdAoJCQlyb2RfNDAwMC5hLjAtMC0x\\r\\n\\r\\n--===============2020617861624083978==\\r\\nContent-Type: text/base64; charset=\"utf-8\"\\r\\nMIME-Version: 1.0\\r\\nContent-Transfer-Encoding: base64\\r\\nContent-Type: video/mp4\\r\\nContent-Disposition: attachment;filename=video.mp4\\r\\n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\\r\\n\\r\\n--===============2020617861624083978==\\r\\nContent-Type: image/jpeg\\r\\nMIME-Version: 1.0\\r\\nContent-Transfer-Encoding: base64\\r\\nContent-ID: <image1>\\r\\n\\r\\n/9j/4AAQSkZJRgABAQAAAQABAAD/2wBDAAgGBgcGBQgHBwcJCQgKDBQNDAsLDBkSEw8UHRofHh0a\\r\\nHBwgJC4nICIsIxwcKDcpLDAxNDQ0Hyc5PTgyPC4zNDL/2wBDAQkJCQwLDBgNDRgyIRwhMjIyMjIy\\r\\nMjIyMjIyMjIyMjIyMjIyMjIyMjIyMjIyMjIyMjIyMjIyMjIyMjIyMjIyMjL/wAARCABAAEADASIA\\r\\nAhEBAxEB/8QAHwAAAQUBAQEBAQEAAAAAAAAAAAECAwQFBgcICQoL/8QAtRAAAgEDAwIEAwUFBAQA\\r\\nAAF9AQIDAAQRBRIhMUEGE1FhByJxFDKBkaEII0KxwRVS0fAkM2JyggkKFhcYGRolJicoKSo0NTY3\\r\\nODk6Q0RFRkdISUpTVFVWV1hZWmNkZWZnaGlqc3R1dnd4eXqDhIWGh4iJipKTlJWWl5iZmqKjpKWm\\r\\np6ipqrKztLW2t7i5usLDxMXGx8jJytLT1NXW19jZ2uHi4+Tl5ufo6erx8vP09fb3+Pn6/8QAHwEA\\r\\nAwEBAQEBAQEBAQAAAAAAAAECAwQFBgcICQoL/8QAtREAAgECBAQDBAcFBAQAAQJ3AAECAxEEBSEx\\r\\nBhJBUQdhcRMiMoEIFEKRobHBCSMzUvAVYnLRChYkNOEl8RcYGRomJygpKjU2Nzg5OkNERUZHSElK\\r\\nU1RVVldYWVpjZGVmZ2hpanN0dXZ3eHl6goOEhYaHiImKkpOUlZaXmJmaoqOkpaanqKmqsrO0tba3\\r\\nuLm6wsPExcbHyMnK0tPU1dbX2Nna4uPk5ebn6Onq8vP09fb3+Pn6/9oADAMBAAIRAxEAPwDRApQD\\r\\n/wDXqTZ3xz9aXZzzz6cUAR/yox7VJsI5xz6Uuz8fTigCLHFLipNv5+lG3FAEe2k21IVx6ZNBBAoA\\r\\nn2c5AFKE7c1MEHTbgUkgjwqO+0E4z6VM5csWyZy5YtkGUH8S5+tPCDqOc+lRtZSCXalzwvOM4FAS\\r\\naP7pXHsa5Fi3f3onGsY7+9Ek2Y6n6Zo8vvjmkEsg+9GD9KkR1f7ylT2zW8MRTlombwxFOeiZFsxz\\r\\nzSbMnPHsaslMngkY9qQp6YP1rY3Hbs4KkfzpZY1nj2MCQfTtUnlKGKDGfQUgiKDGSfrSavoxNJqz\\r\\nKX9mlf8AluAPUihtPuUHyOrj8quguPvAfhzSiYMSpJz+VZOhTfQxeHpvoZ2LuE4MT/gM0onm6NGx\\r\\n9ihrT84Yx/OmiQsOcZ9qz+qx6Mz+qR6MzTdlImOwlh/CM5/KrVtKtwpkUfjjmpiqTfeXOPUUqxLG\\r\\npCKF5zwKqnRcHvoVSoSpy30NHYBycU1oQWDZIx2HQ1KpVxkc07HGBxXQdJUkhP8ACAT7nFMaAAEn\\r\\nirgUgcnNHU4waAMxrUOd6tn6Gm+RIOg/OtTYPSmiLDE7iQexpAVEjYLzQI1Y7gOR+FWmBXGELDvi\\r\\nlK0wP//Z\\r\\n\\r\\n--===============2020617861624083978==--\\r\\n.\\r\\n'\n"
     ]
    },
    {
     "name": "stderr",
     "output_type": "stream",
     "text": [
      "reply: b'250 Ok: queued as \\r\\n'\n",
      "reply: retcode (250); Msg: b'Ok: queued as'\n",
      "data: (250, b'Ok: queued as')\n",
      "send: 'quit\\r\\n'\n",
      "reply: b'221 Bye\\r\\n'\n",
      "reply: retcode (221); Msg: b'Bye'\n"
     ]
    }
   ],
   "source": [
    "for index, dirname in enumerate(f_list):\n",
    "    output = path + \"/Output/Models/\" + \"model_only/\" + scene_name + \"/\" + dirname + \"/\"\n",
    "    task.ImageInput = output\n",
    "    task.Rename()\n",
    "    task.PreProcessing()\n",
    "    task.CropImage()\n",
    "    task.ProduceVideo()\n",
    "    # save another video\n",
    "    task.ImageInput = \"../../Output/Models/\" + \"model_only/\" + scene_name + \"/\" + dirname + \"/\"\n",
    "    task.ProduceVideo()\n",
    "    \n",
    "    video_path = \"../../Output/Models/\" + \"model_only/\" + scene_name + \"/\" + dirname + \"/video/result.mp4\"\n",
    "    display(Video(video_path, width=600, height=600))\n",
    "\n",
    "\n",
    "model_only_time = datetime.datetime.now()\n",
    "\n",
    "\n",
    "email = generate_email_content(email, \"model_only\", model_only_time)\n",
    "email.send_email()"
   ]
  },
  {
   "cell_type": "markdown",
   "metadata": {},
   "source": [
    "## cell3: linesxy texture u only"
   ]
  },
  {
   "cell_type": "code",
   "execution_count": 31,
   "metadata": {},
   "outputs": [
    {
     "name": "stdout",
     "output_type": "stream",
     "text": [
      "start rendering...\n",
      "done!\n",
      "start rendering...\n",
      "done!\n",
      "start rendering...\n",
      "done!\n",
      "start rendering...\n",
      "done!\n"
     ]
    }
   ],
   "source": [
    "config.material = \"original\"\n",
    "config.material_filename = None\n",
    "\n",
    "# set texture\n",
    "texture_path = \"/home/zhaoc/cg/Blender/Data/\" + 'Texture/linesxy_145.png'\n",
    "\n",
    "config.texture_path = texture_path\n",
    "\n",
    "# without plane\n",
    "# config.plane = None\n",
    "\n",
    "# without cuts\n",
    "config.cut_mode = \"None\"\n",
    "\n",
    "# set uv\n",
    "config.uv_multiply = (1, 0)\n",
    "config.uv_add = (0, 0.05)\n",
    "            \n",
    "scene_number = 0\n",
    "scene_name_list = []\n",
    "cell_start_time = datetime.datetime.now()\n",
    "for index, dirname in enumerate(f_list):\n",
    "    output = path + \"/Output/Models/\" + \"linesxy_u_only/\" + scene_name + \"/\" + dirname + \"/\"\n",
    "    if not os.path.exists(output):\n",
    "        os.makedirs(output)\n",
    "    file_dir = model_dir + dirname + \"/\"\n",
    "    file_list = os.listdir(file_dir)\n",
    "    scene_number += len(file_list)\n",
    "    scene_name_list += file_list\n",
    "    for index, filename in enumerate(file_list):\n",
    "        config.scene_path = model_dir + dirname + \"/\" + filename + \"/\"\n",
    "        config.output_path = output + filename + \".png\"\n",
    "        config.save_config()\n",
    "        RenderScene.render()"
   ]
  },
  {
   "cell_type": "markdown",
   "metadata": {},
   "source": [
    "### linesxy texture u only: video generator"
   ]
  },
  {
   "cell_type": "code",
   "execution_count": 32,
   "metadata": {},
   "outputs": [
    {
     "name": "stdout",
     "output_type": "stream",
     "text": [
      "write done\n",
      "write done\n"
     ]
    },
    {
     "data": {
      "text/html": [
       "<video src=\"../../Output/Models/linesxy_u_only/foliation_graph/genus1/video/result.mp4\" controls  width=\"600\"  height=\"600\">\n",
       "      Your browser does not support the <code>video</code> element.\n",
       "    </video>"
      ],
      "text/plain": [
       "<IPython.core.display.Video object>"
      ]
     },
     "metadata": {},
     "output_type": "display_data"
    },
    {
     "name": "stdout",
     "output_type": "stream",
     "text": [
      "write done\n",
      "write done\n"
     ]
    },
    {
     "data": {
      "text/html": [
       "<video src=\"../../Output/Models/linesxy_u_only/foliation_graph/genus2/video/result.mp4\" controls  width=\"600\"  height=\"600\">\n",
       "      Your browser does not support the <code>video</code> element.\n",
       "    </video>"
      ],
      "text/plain": [
       "<IPython.core.display.Video object>"
      ]
     },
     "metadata": {},
     "output_type": "display_data"
    },
    {
     "name": "stdout",
     "output_type": "stream",
     "text": [
      "write done\n",
      "write done\n"
     ]
    },
    {
     "data": {
      "text/html": [
       "<video src=\"../../Output/Models/linesxy_u_only/foliation_graph/genus3/video/result.mp4\" controls  width=\"600\"  height=\"600\">\n",
       "      Your browser does not support the <code>video</code> element.\n",
       "    </video>"
      ],
      "text/plain": [
       "<IPython.core.display.Video object>"
      ]
     },
     "metadata": {},
     "output_type": "display_data"
    },
    {
     "name": "stderr",
     "output_type": "stream",
     "text": [
      "send: 'ehlo smtp.qq.com\\r\\n'\n",
      "reply: b'250-smtp.qq.com\\r\\n'\n",
      "reply: b'250-PIPELINING\\r\\n'\n",
      "reply: b'250-SIZE 73400320\\r\\n'\n",
      "reply: b'250-AUTH LOGIN PLAIN\\r\\n'\n",
      "reply: b'250-AUTH=LOGIN\\r\\n'\n",
      "reply: b'250-MAILCOMPRESS\\r\\n'\n",
      "reply: b'250 8BITMIME\\r\\n'\n",
      "reply: retcode (250); Msg: b'smtp.qq.com\\nPIPELINING\\nSIZE 73400320\\nAUTH LOGIN PLAIN\\nAUTH=LOGIN\\nMAILCOMPRESS\\n8BITMIME'\n",
      "send: 'AUTH PLAIN ADg0MTc4MTA2M0BxcS5jb20AamZjYm5vbXVjYXRwYmVkYg==\\r\\n'\n",
      "reply: b'235 Authentication successful\\r\\n'\n",
      "reply: retcode (235); Msg: b'Authentication successful'\n",
      "send: 'mail FROM:<841781063@qq.com> size=7930\\r\\n'\n",
      "reply: b'250 Ok\\r\\n'\n",
      "reply: retcode (250); Msg: b'Ok'\n",
      "send: 'rcpt TO:<zhaoc@ios.ac.cn>\\r\\n'\n",
      "reply: b'250 Ok\\r\\n'\n",
      "reply: retcode (250); Msg: b'Ok'\n",
      "send: 'data\\r\\n'\n",
      "reply: b'354 End data with <CR><LF>.<CR><LF>\\r\\n'\n",
      "reply: retcode (354); Msg: b'End data with <CR><LF>.<CR><LF>'\n",
      "data: (354, b'End data with <CR><LF>.<CR><LF>')\n",
      "send: b'Content-Type: multipart/mixed; boundary=\"===============5422933197813389219==\"\\r\\nMIME-Version: 1.0\\r\\nFrom: 841781063@qq.com\\r\\nTo: zhaoc@ios.ac.cn\\r\\nSubject: =?utf-8?q?Render_Task_Done!?=\\r\\n\\r\\n--===============5422933197813389219==\\r\\nContent-Type: text/plain; charset=\"utf-8\"\\r\\nMIME-Version: 1.0\\r\\nContent-Transfer-Encoding: base64\\r\\n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\\r\\ndGVzdAoJCQlyb2RfNDAwMC5hLjAtMC0x\\r\\n\\r\\n--===============5422933197813389219==\\r\\nContent-Type: text/base64; charset=\"utf-8\"\\r\\nMIME-Version: 1.0\\r\\nContent-Transfer-Encoding: base64\\r\\nContent-Type: video/mp4\\r\\nContent-Disposition: attachment;filename=video.mp4\\r\\n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\\r\\nLjEwMA==\\r\\n\\r\\n--===============5422933197813389219==\\r\\nContent-Type: image/jpeg\\r\\nMIME-Version: 1.0\\r\\nContent-Transfer-Encoding: base64\\r\\nContent-ID: <image1>\\r\\n\\r\\n/9j/4AAQSkZJRgABAQAAAQABAAD/2wBDAAgGBgcGBQgHBwcJCQgKDBQNDAsLDBkSEw8UHRofHh0a\\r\\nHBwgJC4nICIsIxwcKDcpLDAxNDQ0Hyc5PTgyPC4zNDL/2wBDAQkJCQwLDBgNDRgyIRwhMjIyMjIy\\r\\nMjIyMjIyMjIyMjIyMjIyMjIyMjIyMjIyMjIyMjIyMjIyMjIyMjIyMjIyMjL/wAARCABAAEADASIA\\r\\nAhEBAxEB/8QAHwAAAQUBAQEBAQEAAAAAAAAAAAECAwQFBgcICQoL/8QAtRAAAgEDAwIEAwUFBAQA\\r\\nAAF9AQIDAAQRBRIhMUEGE1FhByJxFDKBkaEII0KxwRVS0fAkM2JyggkKFhcYGRolJicoKSo0NTY3\\r\\nODk6Q0RFRkdISUpTVFVWV1hZWmNkZWZnaGlqc3R1dnd4eXqDhIWGh4iJipKTlJWWl5iZmqKjpKWm\\r\\np6ipqrKztLW2t7i5usLDxMXGx8jJytLT1NXW19jZ2uHi4+Tl5ufo6erx8vP09fb3+Pn6/8QAHwEA\\r\\nAwEBAQEBAQEBAQAAAAAAAAECAwQFBgcICQoL/8QAtREAAgECBAQDBAcFBAQAAQJ3AAECAxEEBSEx\\r\\nBhJBUQdhcRMiMoEIFEKRobHBCSMzUvAVYnLRChYkNOEl8RcYGRomJygpKjU2Nzg5OkNERUZHSElK\\r\\nU1RVVldYWVpjZGVmZ2hpanN0dXZ3eHl6goOEhYaHiImKkpOUlZaXmJmaoqOkpaanqKmqsrO0tba3\\r\\nuLm6wsPExcbHyMnK0tPU1dbX2Nna4uPk5ebn6Onq8vP09fb3+Pn6/9oADAMBAAIRAxEAPwDRApQD\\r\\n/wDXqTZ3xz7Gl2c88+nFAEf8qMVJsI5xz6Uuz8fTigCLHFLipNv5+lG2gCPbSbakK49MmgggUAT7\\r\\nOcgClCc4ANTBO2MCtDS0j89i2CVHGe1AFAWNwV3CFz74qIxFDgqQe4rrcA9HwKjltIJ+XUMfXvQB\\r\\nyuzHU/TNHl98c10L6NE33WZf1qjcaVNFkhd6joR1oAytnfmk2ZOePY1aKc45GOvFNZPTB+tADt2c\\r\\nFSP51NHIUIK5pPKXcUGM+goWEqMZJ+tAFsXbKOSAPXNPS7lHvVFS4+8AP1pwkBypPP5UAaiagR94\\r\\nGpRqcY61kGUAY/nTRIWHOM+1AGxJNbyoziJJD3GOazbuOHcjQxeXuHOetQA7z/ECPqKcxZh15HrQ\\r\\nBe2AcnFIYQWDZIx2HSpVKuMjmlxxQBWeE/wqD9TTWgABJ4FWwCOCc0nU4wfyoAzmtQ53qc/Q0wwS\\r\\nD7oGfetTZTBHhidxIPY0AVFjYLzSCNWO4dRVtspjCFh3xQVoA//Z\\r\\n\\r\\n--===============5422933197813389219==--\\r\\n.\\r\\n'\n"
     ]
    },
    {
     "name": "stderr",
     "output_type": "stream",
     "text": [
      "reply: b'250 Ok: queued as \\r\\n'\n",
      "reply: retcode (250); Msg: b'Ok: queued as'\n",
      "data: (250, b'Ok: queued as')\n",
      "send: 'quit\\r\\n'\n",
      "reply: b'221 Bye\\r\\n'\n",
      "reply: retcode (221); Msg: b'Bye'\n"
     ]
    }
   ],
   "source": [
    "for index, dirname in enumerate(f_list):\n",
    "    output = path + \"/Output/Models/\" + \"linesxy_u_only/\" + scene_name + \"/\" + dirname + \"/\"\n",
    "    task.ImageInput = output\n",
    "    task.Rename()\n",
    "    task.PreProcessing()\n",
    "    task.CropImage()\n",
    "    task.ProduceVideo()\n",
    "    # save another video\n",
    "    task.ImageInput = \"../../Output/Models/\" + \"linesxy_u_only/\" + scene_name + \"/\" + dirname + \"/\"\n",
    "    task.ProduceVideo()\n",
    "    \n",
    "    video_path = \"../../Output/Models/\" + \"linesxy_u_only/\" + scene_name + \"/\" + dirname + \"/video/result.mp4\"\n",
    "    display(Video(video_path, width=600, height=600))\n",
    "\n",
    "linesxy_u_only_time = datetime.datetime.now()\n",
    "\n",
    "\n",
    "email = generate_email_content(email, \"linesxy_u_only\", linesxy_u_only_time)\n",
    "email.send_email()"
   ]
  },
  {
   "cell_type": "markdown",
   "metadata": {},
   "source": [
    "## cell4: linesxy texture v only"
   ]
  },
  {
   "cell_type": "code",
   "execution_count": null,
   "metadata": {},
   "outputs": [],
   "source": [
    "config.material = \"original\"\n",
    "config.material_filename = None\n",
    "\n",
    "# set texture\n",
    "texture_path = \"/home/zhaoc/cg/Blender/Data/\" + 'Texture/linesxy_145.png'\n",
    "config.texture_path = texture_path\n",
    "\n",
    "# without plane\n",
    "# config.plane = None\n",
    "\n",
    "# without cuts\n",
    "config.cut_mode = \"None\"\n",
    "\n",
    "# set uv\n",
    "config.uv_multiply = (0, 1)\n",
    "config.uv_add = (0.05, 0)\n",
    "    \n",
    "scene_number = 0\n",
    "scene_name_list = []\n",
    "cell_start_time = datetime.datetime.now()\n",
    "for index, dirname in enumerate(f_list):\n",
    "    output = path + \"/Output/Models/\" + \"linesxy_v_only/\" + scene_name + \"/\" + dirname + \"/\"\n",
    "    if not os.path.exists(output):\n",
    "        os.makedirs(output)\n",
    "    file_dir = model_dir + dirname + \"/\"\n",
    "    file_list = os.listdir(file_dir)\n",
    "    scene_number += len(file_list)\n",
    "    scene_name_list += file_list\n",
    "    for index, filename in enumerate(file_list):\n",
    "        config.scene_path = model_dir + dirname + \"/\" + filename + \"/\"\n",
    "        config.output_path = output + filename + \".png\"\n",
    "        config.save_config()\n",
    "        RenderScene.render()"
   ]
  },
  {
   "cell_type": "markdown",
   "metadata": {},
   "source": [
    "### linesxy texture v only: video generator"
   ]
  },
  {
   "cell_type": "code",
   "execution_count": null,
   "metadata": {},
   "outputs": [],
   "source": [
    "for index, dirname in enumerate(f_list):\n",
    "    output = path + \"/Output/Models/\" + \"linesxy_v_only/\" + scene_name + \"/\" + dirname + \"/\"\n",
    "    task.ImageInput = output\n",
    "    task.Rename()\n",
    "    task.PreProcessing()\n",
    "    task.CropImage()\n",
    "    task.ProduceVideo()\n",
    "    # save another video\n",
    "    task.ImageInput = \"../../Output/Models/\" + \"linesxy_v_only/\" + scene_name + \"/\" + dirname + \"/\"\n",
    "    task.ProduceVideo()\n",
    "    \n",
    "    video_path = \"../../Output/Models/\" + \"linesxy_v_only/\" + scene_name + \"/\" + dirname + \"/video/result.mp4\"\n",
    "    display(Video(video_path, width=600, height=600))\n",
    "\n",
    "linesxy_v_only_time = datetime.datetime.now()\n",
    "\n",
    "\n",
    "email = generate_email_content(email, \"linesxy_v_only\", linesxy_v_only_time)\n",
    "email.send_email()"
   ]
  },
  {
   "cell_type": "markdown",
   "metadata": {},
   "source": [
    "## cell5: linesxy texture uv"
   ]
  },
  {
   "cell_type": "code",
   "execution_count": null,
   "metadata": {},
   "outputs": [],
   "source": [
    "config.material = \"original\"\n",
    "config.material_filename = None\n",
    "\n",
    "# set texture\n",
    "texture_path = \"/home/zhaoc/cg/Blender/Data/\" + 'Texture/linesxy_145.png'\n",
    "config.texture_path = texture_path\n",
    "\n",
    "# without plane\n",
    "# config.plane = None\n",
    "\n",
    "# without cuts\n",
    "config.cut_mode = \"None\"\n",
    "\n",
    "# set uv\n",
    "config.uv_multiply = (1, 1)\n",
    "config.uv_add = (0, 0)\n",
    "        \n",
    "scene_number = 0\n",
    "scene_name_list = []\n",
    "cell_start_time = datetime.datetime.now()\n",
    "for index, dirname in enumerate(f_list):\n",
    "    output = path + \"/Output/Models/\" + \"linesxy_uv/\" + scene_name + \"/\" + dirname + \"/\"\n",
    "    if not os.path.exists(output):\n",
    "        os.makedirs(output)\n",
    "    file_dir = model_dir + dirname + \"/\"\n",
    "    file_list = os.listdir(file_dir)\n",
    "    scene_number += len(file_list)\n",
    "    scene_name_list += file_list\n",
    "    for index, filename in enumerate(file_list):\n",
    "        config.scene_path = model_dir + dirname + \"/\" + filename + \"/\"\n",
    "        config.output_path = output + filename + \".png\"\n",
    "        config.save_config()\n",
    "        RenderScene.render()"
   ]
  },
  {
   "cell_type": "markdown",
   "metadata": {},
   "source": [
    "### linesxy texture uv: video generator"
   ]
  },
  {
   "cell_type": "code",
   "execution_count": null,
   "metadata": {},
   "outputs": [],
   "source": [
    "for index, dirname in enumerate(f_list):\n",
    "    output = path + \"/Output/Models/\" + \"linesxy_uv/\" + scene_name + \"/\" + dirname + \"/\"\n",
    "    task.ImageInput = output\n",
    "    task.Rename()\n",
    "    task.PreProcessing()\n",
    "    task.CropImage()\n",
    "    task.ProduceVideo()\n",
    "    # save another video\n",
    "    task.ImageInput = \"../../Output/Models/\" + \"linesxy_uv/\" + scene_name + \"/\" + dirname + \"/\"\n",
    "    task.ProduceVideo()\n",
    "    \n",
    "    video_path = \"../../Output/Models/\" + scene_name + \"/\" + dirname + \"/linesxy_uv/video/result.mp4\"\n",
    "    display(Video(video_path, width=600, height=600))\n",
    "\n",
    "linesxy_uv_time = datetime.datetime.now()\n",
    "\n",
    "\n",
    "email = generate_email_content(email, \"linesxy_uv\", linesxy_uv_time)\n",
    "email.send_email()"
   ]
  },
  {
   "cell_type": "markdown",
   "metadata": {},
   "source": [
    "## cell6: checkerboard texture u only"
   ]
  },
  {
   "cell_type": "code",
   "execution_count": null,
   "metadata": {},
   "outputs": [],
   "source": [
    "config.material = \"original\"\n",
    "config.material_filename = None\n",
    "\n",
    "# set texture\n",
    "texture_path = \"/home/zhaoc/cg/Blender/Data/\" + 'Texture/checkerboard.png'\n",
    "config.texture_path = texture_path\n",
    "\n",
    "# without plane\n",
    "# config.plane = None\n",
    "\n",
    "# without cuts\n",
    "config.cut_mode = \"None\"\n",
    "\n",
    "# set uv\n",
    "config.uv_multiply = (1, 0)\n",
    "config.uv_add = (0.05, 0.05)\n",
    "\n",
    "scene_number = 0\n",
    "scene_name_list = []\n",
    "cell_start_time = datetime.datetime.now()\n",
    "for index, dirname in enumerate(f_list):\n",
    "    output = path + \"/Output/Models/\" + \"checkerboard_u_only/\" + scene_name + \"/\" + dirname + \"/\"\n",
    "    if not os.path.exists(output):\n",
    "        os.makedirs(output)\n",
    "    file_dir = model_dir + dirname + \"/\"\n",
    "    file_list = os.listdir(file_dir)\n",
    "    scene_number += len(file_list)\n",
    "    scene_name_list += file_list\n",
    "    for index, filename in enumerate(file_list):\n",
    "        config.scene_path = model_dir + dirname + \"/\" + filename + \"/\"\n",
    "        config.output_path = output + filename + \".png\"\n",
    "        config.save_config()\n",
    "        RenderScene.render()"
   ]
  },
  {
   "cell_type": "markdown",
   "metadata": {},
   "source": [
    "### checkerboard texture u only: video generator"
   ]
  },
  {
   "cell_type": "code",
   "execution_count": null,
   "metadata": {},
   "outputs": [],
   "source": [
    "for index, dirname in enumerate(f_list):\n",
    "    output = path + \"/Output/Models/\" + \"checkerboard_u_only/\" + scene_name + \"/\" + dirname + \"/\"\n",
    "    task.ImageInput = output\n",
    "    task.Rename()\n",
    "    task.PreProcessing()\n",
    "    task.CropImage()\n",
    "    task.ProduceVideo()\n",
    "    # save another video\n",
    "    task.ImageInput = \"../../Output/Models/\" + \"checkerboard_u_only/\" + scene_name + \"/\" + dirname + \"/\"\n",
    "    task.ProduceVideo()\n",
    "    \n",
    "    video_path = \"../../Output/Models/\" + \"checkerboard_u_only/\" + scene_name + \"/\" + dirname + \"/video/result.mp4\"\n",
    "    display(Video(video_path, width=600, height=600))\n",
    "\n",
    "checkerboard_u_only_time = datetime.datetime.now()\n",
    "\n",
    "\n",
    "email = generate_email_content(email, \"checkerboard_u_only\", checkerboard_u_only_time)\n",
    "email.send_email()"
   ]
  },
  {
   "cell_type": "markdown",
   "metadata": {},
   "source": [
    "## cell7: checkerboard texture v only"
   ]
  },
  {
   "cell_type": "code",
   "execution_count": null,
   "metadata": {},
   "outputs": [],
   "source": [
    "config.material = \"original\"\n",
    "config.material_filename = None\n",
    "\n",
    "# set texture\n",
    "texture_path = \"/home/zhaoc/cg/Blender/Data/\" + 'Texture/checkerboard.png'\n",
    "config.texture_path = texture_path\n",
    "\n",
    "# without plane\n",
    "# config.plane = None\n",
    "\n",
    "# without cuts\n",
    "config.cut_mode = \"None\"\n",
    "\n",
    "# set uv\n",
    "config.uv_multiply = (0, 1)\n",
    "config.uv_add = (0.05, 0.05)\n",
    "\n",
    "scene_number = 0\n",
    "scene_name_list = []\n",
    "cell_start_time = datetime.datetime.now()\n",
    "for index, dirname in enumerate(f_list):\n",
    "    output = path + \"/Output/Models/\" + \"checkerboard_v_only/\" + scene_name + \"/\" + dirname + \"/\"\n",
    "    if not os.path.exists(output):\n",
    "        os.makedirs(output)\n",
    "    file_dir = model_dir + dirname + \"/\"\n",
    "    file_list = os.listdir(file_dir)\n",
    "    scene_number += len(file_list)\n",
    "    scene_name_list += file_list\n",
    "    for index, filename in enumerate(file_list):\n",
    "        config.scene_path = model_dir + dirname + \"/\" + filename + \"/\"\n",
    "        config.output_path = output + filename + \".png\"\n",
    "        config.save_config()\n",
    "        RenderScene.render()"
   ]
  },
  {
   "cell_type": "markdown",
   "metadata": {},
   "source": [
    "### checkerboard texture v only: video generator"
   ]
  },
  {
   "cell_type": "code",
   "execution_count": null,
   "metadata": {},
   "outputs": [],
   "source": [
    "for index, dirname in enumerate(f_list):\n",
    "    output = path + \"/Output/Models/\" + \"checkerboard_v_only/\" + scene_name + \"/\" + dirname + \"/\"\n",
    "    task.ImageInput = output\n",
    "    task.Rename()\n",
    "    task.PreProcessing()\n",
    "    task.CropImage()\n",
    "    task.ProduceVideo()\n",
    "    # save another video\n",
    "    task.ImageInput = \"../../Output/Models/\" + \"checkerboard_v_only/\" + scene_name + \"/\" + dirname + \"/\"\n",
    "    task.ProduceVideo()\n",
    "    \n",
    "    video_path = \"../../Output/Models/\" + \"checkerboard_v_only/\" + scene_name + \"/\" + dirname + \"/video/result.mp4\"\n",
    "    display(Video(video_path, width=600, height=600))\n",
    "\n",
    "checkerboard_v_only_time = datetime.datetime.now()\n",
    "\n",
    "\n",
    "email = generate_email_content(email, \"checkerboard_v_only\", checkerboard_v_only_time)\n",
    "email.send_email()"
   ]
  },
  {
   "cell_type": "markdown",
   "metadata": {},
   "source": [
    "## cell8: checkerboard texture uv"
   ]
  },
  {
   "cell_type": "code",
   "execution_count": null,
   "metadata": {},
   "outputs": [],
   "source": [
    "config.material = \"original\"\n",
    "config.material_filename = None\n",
    "\n",
    "# set texture\n",
    "texture_path = \"/home/zhaoc/cg/Blender/Data/\" + 'Texture/checkerboard.png'\n",
    "config.texture_path = texture_path\n",
    "\n",
    "# without plane\n",
    "# config.plane = None\n",
    "\n",
    "# without cuts\n",
    "config.cut_mode = \"None\"\n",
    "\n",
    "# set uv\n",
    "config.uv_multiply = (1, 1)\n",
    "config.uv_add = (0.05, 0.05)\n",
    "\n",
    "scene_number = 0\n",
    "scene_name_list = []\n",
    "cell_start_time = datetime.datetime.now()\n",
    "for index, dirname in enumerate(f_list):\n",
    "    output = path + \"/Output/Models/\" + \"checkerboard_uv/\" + scene_name + \"/\" + dirname + \"/\"\n",
    "    if not os.path.exists(output):\n",
    "        os.makedirs(output)\n",
    "    file_dir = model_dir + dirname + \"/\"\n",
    "    file_list = os.listdir(file_dir)\n",
    "    scene_number += len(file_list)\n",
    "    scene_name_list += file_list\n",
    "    for index, filename in enumerate(file_list):\n",
    "        config.scene_path = model_dir + dirname + \"/\" + filename + \"/\"\n",
    "        config.output_path = output + filename + \".png\"\n",
    "        config.save_config()\n",
    "        RenderScene.render()"
   ]
  },
  {
   "cell_type": "markdown",
   "metadata": {},
   "source": [
    "### checkerboard texture uv: video generator"
   ]
  },
  {
   "cell_type": "code",
   "execution_count": null,
   "metadata": {},
   "outputs": [],
   "source": [
    "for index, dirname in enumerate(f_list):\n",
    "    output = path + \"/Output/Models/\" + \"checkerboard_uv/\" + scene_name + \"/\" + dirname + \"/\"\n",
    "    task.ImageInput = output\n",
    "    task.Rename()\n",
    "    task.PreProcessing()\n",
    "    task.CropImage()\n",
    "    task.ProduceVideo()\n",
    "    # save another video\n",
    "    task.ImageInput = \"../../Output/Models/\" + \"checkerboard_uv/\" + scene_name + \"/\" + dirname + \"/\"\n",
    "    task.ProduceVideo()\n",
    "    \n",
    "    video_path = \"../../Output/Models/\" + \"checkerboard_uv/\" + scene_name + \"/\" + dirname + \"/video/result.mp4\"\n",
    "    display(Video(video_path, width=600, height=600))\n",
    "\n",
    "checkerboard_uv_time = datetime.datetime.now()\n",
    "\n",
    "\n",
    "email = generate_email_content(email, \"checkerboard_uv\", checkerboard_uv_time)\n",
    "email.send_email()"
   ]
  },
  {
   "cell_type": "markdown",
   "metadata": {},
   "source": [
    "## cell9: circle texture"
   ]
  },
  {
   "cell_type": "code",
   "execution_count": null,
   "metadata": {},
   "outputs": [],
   "source": [
    "config.material = \"original\"\n",
    "config.material_filename = None\n",
    "\n",
    "# set texture\n",
    "texture_path = \"/home/zhaoc/cg/Blender/Data/\" + 'Texture/circle.png'\n",
    "config.texture_path = texture_path\n",
    "\n",
    "# without plane\n",
    "# config.plane = None\n",
    "\n",
    "# without cuts\n",
    "config.cut_mode = \"None\"\n",
    "\n",
    "# set uv\n",
    "config.uv_multiply = (1, 1)\n",
    "config.uv_add = (0.05, 0.05)\n",
    "\n",
    "scene_number = 0\n",
    "scene_name_list = []\n",
    "cell_start_time = datetime.datetime.now()\n",
    "for index, dirname in enumerate(f_list):\n",
    "    output = path + \"/Output/Models/\" + \"circle/\" + scene_name + \"/\" + dirname + \"/\"\n",
    "    if not os.path.exists(output):\n",
    "        os.makedirs(output)\n",
    "    file_dir = model_dir + dirname + \"/\"\n",
    "    file_list = os.listdir(file_dir)\n",
    "    scene_number += len(file_list)\n",
    "    scene_name_list += file_list\n",
    "    for index, filename in enumerate(file_list):\n",
    "        config.scene_path = model_dir + dirname + \"/\" + filename + \"/\"\n",
    "        config.output_path = output + filename + \".png\"\n",
    "        config.save_config()\n",
    "        RenderScene.render()"
   ]
  },
  {
   "cell_type": "markdown",
   "metadata": {},
   "source": [
    "### circle texture: video generator"
   ]
  },
  {
   "cell_type": "code",
   "execution_count": null,
   "metadata": {},
   "outputs": [],
   "source": [
    "for index, dirname in enumerate(f_list):\n",
    "    output = path + \"/Output/Models/\" + \"circle/\" + scene_name + \"/\" + dirname + \"/\"\n",
    "    task.ImageInput = output\n",
    "    task.Rename()\n",
    "    task.PreProcessing()\n",
    "    task.CropImage()\n",
    "    task.ProduceVideo()\n",
    "    # save another video\n",
    "    task.ImageInput = \"../../Output/Models/\" + \"circle/\" + scene_name + \"/\" + dirname + \"/\"\n",
    "    task.ProduceVideo()\n",
    "    \n",
    "    video_path = \"../../Output/Models/\" + \"circle/\" + scene_name + \"/\" + dirname + \"/video/result.mp4\"\n",
    "    display(Video(video_path, width=600, height=600))\n",
    "\n",
    "circle_time = datetime.datetime.now()\n",
    "\n",
    "\n",
    "email = generate_email_content(email, \"circle\", circle_time)\n",
    "email.send_email()"
   ]
  },
  {
   "cell_type": "markdown",
   "metadata": {},
   "source": [
    "## cell10: transparent material"
   ]
  },
  {
   "cell_type": "code",
   "execution_count": 14,
   "metadata": {},
   "outputs": [
    {
     "ename": "IndentationError",
     "evalue": "unindent does not match any outer indentation level (<tokenize>, line 26)",
     "output_type": "error",
     "traceback": [
      "\u001b[1;36m  File \u001b[1;32m\"<tokenize>\"\u001b[1;36m, line \u001b[1;32m26\u001b[0m\n\u001b[1;33m    config.scene_path = model_dir + dirname + \"/\" + filename + \"/\"\u001b[0m\n\u001b[1;37m    ^\u001b[0m\n\u001b[1;31mIndentationError\u001b[0m\u001b[1;31m:\u001b[0m unindent does not match any outer indentation level\n"
     ]
    }
   ],
   "source": [
    "config.material = None\n",
    "config.material_filename = \"55-tomato-material-transparent.blend\"\n",
    "\n",
    "# without plane\n",
    "# config.plane = None\n",
    "\n",
    "# show cuts\n",
    "config.cut_mode = \"Segment\"\n",
    "\n",
    "        \n",
    "scene_number = 0\n",
    "scene_name_list = []\n",
    "cell_start_time = datetime.datetime.now()\n",
    "for index, dirname in enumerate(f_list):\n",
    "    output = path + \"/Output/Models/\" + \"transparent/\" + scene_name + \"/\" + dirname + \"/\"\n",
    "    if not os.path.exists(output):\n",
    "        os.makedirs(output)\n",
    "    file_dir = model_dir + dirname + \"/\"\n",
    "    file_list = os.listdir(file_dir)\n",
    "    scene_number += len(file_list)\n",
    "    scene_name_list += file_list\n",
    "    for index, filename in enumerate(file_list):\n",
    "        if \"singularFaces.obj\" in file_list:\n",
    "            config.show_singular_face = True\n",
    "        else:\n",
    "            config.show_singular_face = False\n",
    "\n",
    "        if \"loops.obj\" in file_list:\n",
    "            config.show_loops = True\n",
    "        else:\n",
    "            config.show_loops = False   \n",
    "        config.scene_path = model_dir + dirname + \"/\" + filename + \"/\"\n",
    "        config.output_path = output + filename + \".png\"\n",
    "        config.save_config()\n",
    "        RenderScene.render()"
   ]
  },
  {
   "cell_type": "markdown",
   "metadata": {},
   "source": [
    "### circle texture: video generator"
   ]
  },
  {
   "cell_type": "code",
   "execution_count": null,
   "metadata": {},
   "outputs": [],
   "source": [
    "for index, dirname in enumerate(f_list):\n",
    "    output = path + \"/Output/Models/\" + \"transparent/\" + scene_name + \"/\" + dirname + \"/\"\n",
    "    task.ImageInput = output\n",
    "    task.Rename()\n",
    "    task.PreProcessing()\n",
    "    task.CropImage()\n",
    "    task.ProduceVideo()\n",
    "    # save another video\n",
    "    task.ImageInput = \"../../Output/Models/\" + \"transparent/\" + scene_name + \"/\" + dirname + \"/\"\n",
    "    task.ProduceVideo()\n",
    "    \n",
    "    video_path = \"../../Output/Models/\" + \"transparent/\" + scene_name + \"/\" + dirname + \"/video/result.mp4\"\n",
    "    display(Video(video_path, width=600, height=600))\n",
    "\n",
    "transparent_time = datetime.datetime.now()\n",
    "\n",
    "\n",
    "email = generate_email_content(email, \"transparent\", transparent_time)\n",
    "email.send_email()"
   ]
  },
  {
   "cell_type": "markdown",
   "metadata": {},
   "source": [
    "## cell11: cut_mode_plain"
   ]
  },
  {
   "cell_type": "code",
   "execution_count": null,
   "metadata": {},
   "outputs": [],
   "source": [
    "config.material = \"model_only\"\n",
    "config.material_filename = None\n",
    "\n",
    "# without plane\n",
    "# config.plane = None\n",
    "\n",
    "config.show_loops = False\n",
    "config.show_singular_face = False\n",
    "\n",
    "config.cut_mode = \"Plain\"\n",
    "\n",
    "scene_number = 0\n",
    "scene_name_list = []\n",
    "cell_start_time = datetime.datetime.now()\n",
    "for index, dirname in enumerate(f_list):\n",
    "    output = path + \"/Output/Models/\" + \"cut_mode_plain/\" + scene_name + \"/\" + dirname + \"/\"\n",
    "    if not os.path.exists(output):\n",
    "        os.makedirs(output)\n",
    "    file_dir = model_dir + dirname + \"/\"\n",
    "    file_list = os.listdir(file_dir)\n",
    "    scene_number += len(file_list)\n",
    "    scene_name_list += file_list\n",
    "    for index, filename in enumerate(file_list):\n",
    "        config.scene_path = model_dir + dirname + \"/\" + filename + \"/\"\n",
    "        config.output_path = output + filename + \".png\"\n",
    "        config.save_config()\n",
    "        RenderScene.render()"
   ]
  },
  {
   "cell_type": "markdown",
   "metadata": {},
   "source": [
    "### cut_mode_plain: video generator"
   ]
  },
  {
   "cell_type": "code",
   "execution_count": null,
   "metadata": {},
   "outputs": [],
   "source": [
    "for index, dirname in enumerate(f_list):\n",
    "    output = path + \"/Output/Models/\" + \"cut_mode_plain/\" + scene_name + \"/\" + dirname + \"/\"\n",
    "    task.ImageInput = output\n",
    "    task.Rename()\n",
    "    task.PreProcessing()\n",
    "    task.CropImage()\n",
    "    task.ProduceVideo()\n",
    "    # save another video\n",
    "    task.ImageInput = \"../../Output/Models/\" + \"cut_mode_plain/\" + scene_name + \"/\" + dirname + \"/\"\n",
    "    task.ProduceVideo()\n",
    "    \n",
    "    video_path = \"../../Output/Models/\" + \"cut_mode_plain/\" + scene_name + \"/\" + dirname + \"/video/result.mp4\"\n",
    "    display(Video(video_path, width=600, height=600))\n",
    "\n",
    "\n",
    "cut_mode_plain_time = datetime.datetime.now()\n",
    "\n",
    "\n",
    "email = generate_email_content(email, \"cut_mode_plain\", cut_mode_plain_time)\n",
    "email.send_email()"
   ]
  },
  {
   "cell_type": "markdown",
   "metadata": {},
   "source": [
    "## cell12: cut_mode_segment"
   ]
  },
  {
   "cell_type": "code",
   "execution_count": null,
   "metadata": {},
   "outputs": [],
   "source": [
    "config.material = \"model_only\"\n",
    "config.material_filename = None\n",
    "\n",
    "# without plane\n",
    "# config.plane = None\n",
    "\n",
    "config.show_loops = False\n",
    "config.show_singular_face = False\n",
    "\n",
    "config.cut_mode = \"Segment\"\n",
    "\n",
    "scene_number = 0\n",
    "scene_name_list = []\n",
    "cell_start_time = datetime.datetime.now()\n",
    "for index, dirname in enumerate(f_list):\n",
    "    output = path + \"/Output/Models/\" + \"cut_mode_segment/\" + scene_name + \"/\" + dirname + \"/\"\n",
    "    if not os.path.exists(output):\n",
    "        os.makedirs(output)\n",
    "    file_dir = model_dir + dirname + \"/\"\n",
    "    file_list = os.listdir(file_dir)\n",
    "    scene_number += len(file_list)\n",
    "    scene_name_list += file_list\n",
    "    for index, filename in enumerate(file_list):\n",
    "        config.scene_path = model_dir + dirname + \"/\" + filename + \"/\"\n",
    "        config.output_path = output + filename + \".png\"\n",
    "        config.save_config()\n",
    "        RenderScene.render()"
   ]
  },
  {
   "cell_type": "markdown",
   "metadata": {},
   "source": [
    "### cut_mode_segment: video generator"
   ]
  },
  {
   "cell_type": "code",
   "execution_count": null,
   "metadata": {},
   "outputs": [],
   "source": [
    "for index, dirname in enumerate(f_list):\n",
    "    output = path + \"/Output/Models/\" + \"cut_mode_segment/\" + scene_name + \"/\" + dirname + \"/\"\n",
    "    task.ImageInput = output\n",
    "    task.Rename()\n",
    "    task.PreProcessing()\n",
    "    task.CropImage()\n",
    "    task.ProduceVideo()\n",
    "    # save another video\n",
    "    task.ImageInput = \"../../Output/Models/\" + \"cut_mode_segment/\" + scene_name + \"/\" + dirname + \"/\"\n",
    "    task.ProduceVideo()\n",
    "    \n",
    "    video_path = \"../../Output/Models/\" + \"cut_mode_segment/\" + scene_name + \"/\" + dirname + \"/video/result.mp4\"\n",
    "    display(Video(video_path, width=600, height=600))\n",
    "\n",
    "cut_mode_segment_time = datetime.datetime.now()\n",
    "\n",
    "\n",
    "email = generate_email_content(email, \"cut_mode_segment\", cut_mode_segment_time)\n",
    "email.send_email()"
   ]
  },
  {
   "cell_type": "markdown",
   "metadata": {},
   "source": [
    "## cell13: cut_mode_zero"
   ]
  },
  {
   "cell_type": "code",
   "execution_count": null,
   "metadata": {},
   "outputs": [],
   "source": [
    "config.material = \"model_only\"\n",
    "config.material_filename = None\n",
    "\n",
    "# without plane\n",
    "# config.plane = None\n",
    "\n",
    "config.show_loops = False\n",
    "config.show_singular_face = False\n",
    "\n",
    "config.cut_mode = \"zero_mode\"\n",
    "\n",
    "scene_number = 0\n",
    "scene_name_list = []\n",
    "cell_start_time = datetime.datetime.now()\n",
    "for index, dirname in enumerate(f_list):\n",
    "    output = path + \"/Output/Models/\" + \"cut_mode_zero/\" + scene_name + \"/\" + dirname + \"/\"\n",
    "    if not os.path.exists(output):\n",
    "        os.makedirs(output)\n",
    "    file_dir = model_dir + dirname + \"/\"\n",
    "    file_list = os.listdir(file_dir)\n",
    "    scene_number += len(file_list)\n",
    "    scene_name_list += file_list\n",
    "    for index, filename in enumerate(file_list):\n",
    "        config.scene_path = model_dir + dirname + \"/\" + filename + \"/\"\n",
    "        config.output_path = output + filename + \".png\"\n",
    "        config.save_config()\n",
    "        RenderScene.render()"
   ]
  },
  {
   "cell_type": "markdown",
   "metadata": {},
   "source": [
    "### cut_mode_zero: video generator"
   ]
  },
  {
   "cell_type": "code",
   "execution_count": null,
   "metadata": {},
   "outputs": [],
   "source": [
    "for index, dirname in enumerate(f_list):\n",
    "    output = path + \"/Output/Models/\" + \"cut_mode_zero/\" + scene_name + \"/\" + dirname + \"/\"\n",
    "    task.ImageInput = output\n",
    "    task.Rename()\n",
    "    task.PreProcessing()\n",
    "    task.CropImage()\n",
    "    task.ProduceVideo()\n",
    "    # save another video\n",
    "    task.ImageInput = \"../../Output/Models/\" + \"cut_mode_zero/\" + scene_name + \"/\" + dirname + \"/\"\n",
    "    task.ProduceVideo()\n",
    "    \n",
    "    video_path = \"../../Output/Models/\" + \"cut_mode_zero/\" + scene_name + \"/\" + dirname + \"/video/result.mp4\"\n",
    "    display(Video(video_path, width=600, height=600))\n",
    "\n",
    "cut_mode_zero_time = datetime.datetime.now()\n",
    "\n",
    "\n",
    "email = generate_email_content(email, \"cut_mode_zero\", cut_mode_zero_time)\n",
    "email.send_email()"
   ]
  },
  {
   "cell_type": "markdown",
   "metadata": {},
   "source": [
    "## cell14: cut_mode_incoherent"
   ]
  },
  {
   "cell_type": "code",
   "execution_count": null,
   "metadata": {},
   "outputs": [],
   "source": [
    "config.material = \"model_only\"\n",
    "config.material_filename = None\n",
    "\n",
    "# without plane\n",
    "# config.plane = None\n",
    "\n",
    "config.show_loops = False\n",
    "config.show_singular_face = False\n",
    "\n",
    "config.cut_mode = \"incoherent\"\n",
    "\n",
    "scene_number = 0\n",
    "scene_name_list = []\n",
    "cell_start_time = datetime.datetime.now()\n",
    "for index, dirname in enumerate(f_list):\n",
    "    output = path + \"/Output/Models/\" + \"cut_mode_incoherent/\" + scene_name + \"/\" + dirname + \"/\"\n",
    "    if not os.path.exists(output):\n",
    "        os.makedirs(output)\n",
    "    file_dir = model_dir + dirname + \"/\"\n",
    "    file_list = os.listdir(file_dir)\n",
    "    scene_number += len(file_list)\n",
    "    scene_name_list += file_list\n",
    "    for index, filename in enumerate(file_list):\n",
    "        config.scene_path = model_dir + dirname + \"/\" + filename + \"/\"\n",
    "        config.output_path = output + filename + \".png\"\n",
    "        config.save_config()\n",
    "        RenderScene.render()"
   ]
  },
  {
   "cell_type": "markdown",
   "metadata": {},
   "source": [
    "### cut_mode_incoherent: video generator"
   ]
  },
  {
   "cell_type": "code",
   "execution_count": null,
   "metadata": {},
   "outputs": [],
   "source": [
    "for index, dirname in enumerate(f_list):\n",
    "    output = path + \"/Output/Models/\" + \"cut_mode_incoherent/\" + scene_name + \"/\" + dirname + \"/\"\n",
    "    task.ImageInput = output\n",
    "    task.Rename()\n",
    "    task.PreProcessing()\n",
    "    task.CropImage()\n",
    "    task.ProduceVideo()\n",
    "    # save another video\n",
    "    task.ImageInput = \"../../Output/Models/\" + \"cut_mode_incoherent/\" + scene_name + \"/\" + dirname + \"/\"\n",
    "    task.ProduceVideo()\n",
    "    \n",
    "    video_path = \"../../Output/Models/\" + \"cut_mode_incoherent/\" + scene_name + \"/\" + dirname + \"/video/result.mp4\"\n",
    "    display(Video(video_path, width=600, height=600))\n",
    "    \n",
    "cut_mode_incoherent_time = datetime.datetime.now()\n",
    "\n",
    "\n",
    "email = generate_email_content(email, \"cut_mode_incoherent\", cut_mode_incoherent)\n",
    "email.send_email()"
   ]
  },
  {
   "cell_type": "code",
   "execution_count": null,
   "metadata": {},
   "outputs": [],
   "source": []
  },
  {
   "cell_type": "code",
   "execution_count": null,
   "metadata": {},
   "outputs": [],
   "source": []
  },
  {
   "cell_type": "code",
   "execution_count": null,
   "metadata": {},
   "outputs": [],
   "source": []
  },
  {
   "cell_type": "code",
   "execution_count": null,
   "metadata": {},
   "outputs": [],
   "source": []
  }
 ],
 "metadata": {
  "kernelspec": {
   "display_name": "Python 3",
   "language": "python",
   "name": "python3"
  },
  "language_info": {
   "codemirror_mode": {
    "name": "ipython",
    "version": 3
   },
   "file_extension": ".py",
   "mimetype": "text/x-python",
   "name": "python",
   "nbconvert_exporter": "python",
   "pygments_lexer": "ipython3",
   "version": "3.6.5"
  }
 },
 "nbformat": 4,
 "nbformat_minor": 1
}
