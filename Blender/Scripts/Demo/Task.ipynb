{
 "cells": [
  {
   "cell_type": "code",
   "execution_count": 1,
   "metadata": {},
   "outputs": [],
   "source": [
    "import os\n",
    "import sys\n",
    "sys.path.append(\"..\")\n",
    "from Lib.RenderScene import RenderScene\n",
    "from Lib.ConfigClass import Config\n",
    "from Lib.ImageVideo import TaskImageVideo\n",
    "from IPython.display import display,Video"
   ]
  },
  {
   "cell_type": "code",
   "execution_count": 2,
   "metadata": {},
   "outputs": [],
   "source": [
    "task = TaskImageVideo() \n",
    "task.framerate = 0.5\n",
    "\n",
    "\n",
    "path = os.getcwd()\n",
    "path = os.path.dirname(path)\n",
    "path = os.path.dirname(path)\n",
    "model_dir = path + \"/Scene/Models/\"\n",
    "f_list = os.listdir(model_dir)\n",
    "\n",
    "config = Config()\n",
    "config.width = 200\n",
    "config.height = 150\n",
    "\n",
    "path = os.getcwd()\n",
    "path = os.path.dirname(path)\n",
    "path = os.path.dirname(path)\n",
    "\n",
    "config.blender_path = \"D:/tools/blender_2.81/blender.exe\"\n",
    "task.ffmpegPath = 'D://FFmpeg/ffmpeg/bin/ffmpeg.exe'\n",
    "\n",
    "config.show_singular_face = False\n",
    "config.show_loops = False\n",
    "config.cut_mode = \"Segment\"\n",
    "config.show_singularity = True\n",
    "config.use_envmap = True\n",
    "\n",
    "config.background_render = True\n",
    "\n",
    "config.mode = \"predefined\"\n",
    "config.material = None\n",
    "\n",
    "config.save_config()\n",
    "RenderScene = RenderScene()\n",
    "RenderScene.config = config\n",
    "\n",
    "\n",
    "\n"
   ]
  },
  {
   "cell_type": "markdown",
   "metadata": {},
   "source": [
    "all models"
   ]
  },
  {
   "cell_type": "code",
   "execution_count": null,
   "metadata": {},
   "outputs": [
    {
     "name": "stdout",
     "output_type": "stream",
     "text": [
      "start rendering...\n"
     ]
    }
   ],
   "source": [
    "config.material = \"color_only\"\n",
    "config.material_filename = None\n",
    "\n",
    "output = path + \"/Output/Models/color_only/\"\n",
    "if not os.path.exists(output):\n",
    "    os.makedirs(output)\n",
    "for index, filename in enumerate(f_list):\n",
    "    config.scene_path = model_dir + filename + \"/\"\n",
    "    config.output_path = output + filename + \".png\"\n",
    "    config.save_config()\n",
    "    RenderScene.render()"
   ]
  },
  {
   "cell_type": "markdown",
   "metadata": {},
   "source": [
    "model video"
   ]
  },
  {
   "cell_type": "code",
   "execution_count": 3,
   "metadata": {
    "scrolled": true
   },
   "outputs": [
    {
     "name": "stdout",
     "output_type": "stream",
     "text": [
      "write done\n"
     ]
    },
    {
     "data": {
      "text/html": [
       "<video src=\"../../Output/Models/color_only/video/result.mp4\" controls  >\n",
       "      Your browser does not support the <code>video</code> element.\n",
       "    </video>"
      ],
      "text/plain": [
       "<IPython.core.display.Video object>"
      ]
     },
     "metadata": {},
     "output_type": "display_data"
    }
   ],
   "source": [
    "output = path + \"/Output/Models/color_only/\"\n",
    "\n",
    "task.ImageInput = output\n",
    "task.Rename()\n",
    "task.PreProcessing()\n",
    "task.CropImage()\n",
    "task.ProduceVideo()\n",
    "\n",
    "video_path = \"../../Output/Models/\" + \"color_only/video/result.mp4\"\n",
    "display(Video(video_path))"
   ]
  },
  {
   "cell_type": "markdown",
   "metadata": {},
   "source": [
    "models with checkerboard"
   ]
  },
  {
   "cell_type": "code",
   "execution_count": 7,
   "metadata": {},
   "outputs": [
    {
     "name": "stdout",
     "output_type": "stream",
     "text": [
      "start rendering...\n",
      "done!\n",
      "start rendering...\n",
      "done!\n",
      "start rendering...\n",
      "done!\n",
      "start rendering...\n",
      "done!\n",
      "start rendering...\n",
      "done!\n"
     ]
    }
   ],
   "source": [
    "config.material = \"original\"\n",
    "config.material_filename = None\n",
    "\n",
    "output = path + \"/Output/Models/checkerboard/\"\n",
    "if not os.path.exists(output):\n",
    "    os.makedirs(output)\n",
    "for index, filename in enumerate(f_list):\n",
    "    config.scene_path = model_dir + filename + \"/\"\n",
    "    config.output_path = output + filename + \".png\"\n",
    "    config.save_config()\n",
    "    RenderScene.render()"
   ]
  },
  {
   "cell_type": "markdown",
   "metadata": {},
   "source": [
    "checkerboard model video"
   ]
  },
  {
   "cell_type": "code",
   "execution_count": 4,
   "metadata": {},
   "outputs": [
    {
     "name": "stdout",
     "output_type": "stream",
     "text": [
      "write done\n"
     ]
    },
    {
     "data": {
      "text/html": [
       "<video src=\"../../Output/Models/checkerboard/video/result.mp4\" controls  >\n",
       "      Your browser does not support the <code>video</code> element.\n",
       "    </video>"
      ],
      "text/plain": [
       "<IPython.core.display.Video object>"
      ]
     },
     "metadata": {},
     "output_type": "display_data"
    }
   ],
   "source": [
    "output = path + \"/Output/Models/checkerboard/\"\n",
    "\n",
    "task.ImageInput = output\n",
    "task.Rename()\n",
    "task.PreProcessing()\n",
    "task.CropImage()\n",
    "task.ProduceVideo()\n",
    "\n",
    "video_path = \"../../Output/Models/\" + \"checkerboard/video/result.mp4\"\n",
    "display(Video(video_path))"
   ]
  },
  {
   "cell_type": "markdown",
   "metadata": {},
   "source": [
    "models with wireframe"
   ]
  },
  {
   "cell_type": "code",
   "execution_count": 8,
   "metadata": {},
   "outputs": [
    {
     "name": "stdout",
     "output_type": "stream",
     "text": [
      "start rendering...\n",
      "done!\n",
      "start rendering...\n",
      "done!\n",
      "start rendering...\n",
      "done!\n",
      "start rendering...\n",
      "done!\n",
      "start rendering...\n",
      "done!\n"
     ]
    }
   ],
   "source": [
    "config.material = \"wireframe\"\n",
    "config.material_filename = None\n",
    "\n",
    "output = path + \"/Output/Models/wireframe/\"\n",
    "if not os.path.exists(output):\n",
    "    os.makedirs(output)\n",
    "for index, filename in enumerate(f_list):\n",
    "    config.scene_path = model_dir + filename + \"/\"\n",
    "    config.output_path = output + filename + \".png\"\n",
    "    config.save_config()\n",
    "    RenderScene.render()"
   ]
  },
  {
   "cell_type": "markdown",
   "metadata": {},
   "source": [
    "wireframe model video"
   ]
  },
  {
   "cell_type": "code",
   "execution_count": 5,
   "metadata": {},
   "outputs": [
    {
     "name": "stdout",
     "output_type": "stream",
     "text": [
      "write done\n"
     ]
    },
    {
     "data": {
      "text/html": [
       "<video src=\"../../Output/Models/wireframe/video/result.mp4\" controls  >\n",
       "      Your browser does not support the <code>video</code> element.\n",
       "    </video>"
      ],
      "text/plain": [
       "<IPython.core.display.Video object>"
      ]
     },
     "metadata": {},
     "output_type": "display_data"
    }
   ],
   "source": [
    "output = path + \"/Output/Models/wireframe/\"\n",
    "\n",
    "task.ImageInput = output\n",
    "task.Rename()\n",
    "task.PreProcessing()\n",
    "task.CropImage()\n",
    "task.ProduceVideo()\n",
    "\n",
    "video_path = \"../../Output/Models/\" + \"wireframe/video/result.mp4\"\n",
    "display(Video(video_path))"
   ]
  },
  {
   "cell_type": "markdown",
   "metadata": {},
   "source": [
    "models only with wireframe"
   ]
  },
  {
   "cell_type": "code",
   "execution_count": 9,
   "metadata": {},
   "outputs": [
    {
     "name": "stdout",
     "output_type": "stream",
     "text": [
      "start rendering...\n",
      "done!\n",
      "start rendering...\n",
      "done!\n",
      "start rendering...\n",
      "done!\n",
      "start rendering...\n",
      "done!\n",
      "start rendering...\n",
      "done!\n"
     ]
    }
   ],
   "source": [
    "config.material = \"wireframe_only\"\n",
    "config.material_filename = None\n",
    "\n",
    "output = path + \"/Output/Models/wireframe_only/\"\n",
    "if not os.path.exists(output):\n",
    "    os.makedirs(output)\n",
    "for index, filename in enumerate(f_list):\n",
    "    config.scene_path = model_dir + filename + \"/\"\n",
    "    config.output_path = output + filename + \".png\"\n",
    "    config.save_config()\n",
    "    RenderScene.render()"
   ]
  },
  {
   "cell_type": "markdown",
   "metadata": {},
   "source": [
    "wireframe_only model video"
   ]
  },
  {
   "cell_type": "code",
   "execution_count": 6,
   "metadata": {},
   "outputs": [
    {
     "name": "stdout",
     "output_type": "stream",
     "text": [
      "write done\n"
     ]
    },
    {
     "data": {
      "text/html": [
       "<video src=\"../../Output/Models/wireframe_only/video/result.mp4\" controls  >\n",
       "      Your browser does not support the <code>video</code> element.\n",
       "    </video>"
      ],
      "text/plain": [
       "<IPython.core.display.Video object>"
      ]
     },
     "metadata": {},
     "output_type": "display_data"
    }
   ],
   "source": [
    "output = path + \"/Output/Models/wireframe_only/\"\n",
    "\n",
    "task.ImageInput = output\n",
    "task.Rename()\n",
    "task.PreProcessing()\n",
    "task.CropImage()\n",
    "task.ProduceVideo()\n",
    "\n",
    "video_path = \"../../Output/Models/\" + \"wireframe_only/video/result.mp4\"\n",
    "display(Video(video_path))"
   ]
  },
  {
   "cell_type": "markdown",
   "metadata": {},
   "source": [
    "model with loop"
   ]
  },
  {
   "cell_type": "code",
   "execution_count": 22,
   "metadata": {},
   "outputs": [
    {
     "name": "stdout",
     "output_type": "stream",
     "text": [
      "start rendering...\n",
      "done!\n",
      "start rendering...\n",
      "done!\n",
      "start rendering...\n",
      "done!\n",
      "start rendering...\n",
      "done!\n",
      "start rendering...\n",
      "done!\n"
     ]
    }
   ],
   "source": [
    "config.material = \"original\"\n",
    "config.material_filename = None\n",
    "\n",
    "output = path + \"/Output/Models/with_loop/\"\n",
    "if not os.path.exists(output):\n",
    "    os.makedirs(output)\n",
    "for index, filename in enumerate(f_list):\n",
    "    scene_file_list = os.listdir(model_dir + filename + \"/\")\n",
    "    if \"loops.obj\" in scene_file_list:\n",
    "        config.show_loops = True\n",
    "    else:\n",
    "        config.show_loops = False\n",
    "    config.scene_path = model_dir + filename + \"/\"\n",
    "    config.output_path = output + filename + \".png\"\n",
    "    config.save_config()\n",
    "    RenderScene.render()"
   ]
  },
  {
   "cell_type": "markdown",
   "metadata": {},
   "source": [
    "model with loop video"
   ]
  },
  {
   "cell_type": "code",
   "execution_count": 7,
   "metadata": {},
   "outputs": [
    {
     "name": "stdout",
     "output_type": "stream",
     "text": [
      "write done\n"
     ]
    },
    {
     "data": {
      "text/html": [
       "<video src=\"../../Output/Models/with_loop/video/result.mp4\" controls  >\n",
       "      Your browser does not support the <code>video</code> element.\n",
       "    </video>"
      ],
      "text/plain": [
       "<IPython.core.display.Video object>"
      ]
     },
     "metadata": {},
     "output_type": "display_data"
    }
   ],
   "source": [
    "output = path + \"/Output/Models/with_loop/\"\n",
    "\n",
    "task.ImageInput = output\n",
    "task.Rename()\n",
    "task.PreProcessing()\n",
    "task.CropImage()\n",
    "task.ProduceVideo()\n",
    "\n",
    "video_path = \"../../Output/Models/\" + \"with_loop/video/result.mp4\"\n",
    "display(Video(video_path))"
   ]
  },
  {
   "cell_type": "markdown",
   "metadata": {},
   "source": [
    "model with singularFace"
   ]
  },
  {
   "cell_type": "code",
   "execution_count": 24,
   "metadata": {},
   "outputs": [
    {
     "name": "stdout",
     "output_type": "stream",
     "text": [
      "start rendering...\n",
      "done!\n",
      "start rendering...\n",
      "done!\n",
      "start rendering...\n",
      "done!\n",
      "start rendering...\n",
      "done!\n",
      "start rendering...\n",
      "done!\n"
     ]
    }
   ],
   "source": [
    "config.material = \"original\"\n",
    "config.material_filename = None\n",
    "\n",
    "output = path + \"/Output/Models/with_singularFace/\"\n",
    "if not os.path.exists(output):\n",
    "    os.makedirs(output)\n",
    "for index, filename in enumerate(f_list):\n",
    "    scene_file_list = os.listdir(model_dir + filename + \"/\")\n",
    "    if \"singularFaces.obj\" in scene_file_list:\n",
    "        config.show_loops = True\n",
    "    else:\n",
    "        config.show_loops = False\n",
    "    config.scene_path = model_dir + filename + \"/\"\n",
    "    config.output_path = output + filename + \".png\"\n",
    "    config.save_config()\n",
    "    RenderScene.render()"
   ]
  },
  {
   "cell_type": "code",
   "execution_count": 8,
   "metadata": {},
   "outputs": [
    {
     "name": "stdout",
     "output_type": "stream",
     "text": [
      "write done\n"
     ]
    },
    {
     "data": {
      "text/html": [
       "<video src=\"../../Output/Models/with_singularFace/video/result.mp4\" controls  >\n",
       "      Your browser does not support the <code>video</code> element.\n",
       "    </video>"
      ],
      "text/plain": [
       "<IPython.core.display.Video object>"
      ]
     },
     "metadata": {},
     "output_type": "display_data"
    }
   ],
   "source": [
    "output = path + \"/Output/Models/with_singularFace/\"\n",
    "\n",
    "task.ImageInput = output\n",
    "task.Rename()\n",
    "task.PreProcessing()\n",
    "task.CropImage()\n",
    "task.ProduceVideo()\n",
    "\n",
    "video_path = \"../../Output/Models/\" + \"with_singularFace/video/result.mp4\"\n",
    "display(Video(video_path))"
   ]
  },
  {
   "cell_type": "code",
   "execution_count": null,
   "metadata": {},
   "outputs": [],
   "source": []
  }
 ],
 "metadata": {
  "kernelspec": {
   "display_name": "Python 3",
   "language": "python",
   "name": "python3"
  },
  "language_info": {
   "codemirror_mode": {
    "name": "ipython",
    "version": 3
   },
   "file_extension": ".py",
   "mimetype": "text/x-python",
   "name": "python",
   "nbconvert_exporter": "python",
   "pygments_lexer": "ipython3",
   "version": "3.6.5"
  }
 },
 "nbformat": 4,
 "nbformat_minor": 1
}
