{
 "cells": [
  {
   "cell_type": "code",
   "execution_count": 7,
   "metadata": {},
   "outputs": [],
   "source": [
    "import os\n",
    "import sys\n",
    "sys.path.append(\"..\")\n",
    "from Lib.RenderScene import RenderScene\n",
    "from Lib.ConfigClass import Config\n",
    "from Lib.ImageVideo import TaskImageVideo\n",
    "from IPython.display import display,Video\n",
    "import imageio"
   ]
  },
  {
   "cell_type": "markdown",
   "metadata": {},
   "source": [
    "# Set task name"
   ]
  },
  {
   "cell_type": "code",
   "execution_count": null,
   "metadata": {},
   "outputs": [],
   "source": [
    "task_name = \"task1\""
   ]
  },
  {
   "cell_type": "markdown",
   "metadata": {},
   "source": [
    "## some basic settings"
   ]
  },
  {
   "cell_type": "code",
   "execution_count": 8,
   "metadata": {},
   "outputs": [],
   "source": [
    "task = TaskImageVideo() \n",
    "task.framerate = 0.5\n",
    "\n",
    "\n",
    "path = os.getcwd()\n",
    "path = os.path.dirname(path)\n",
    "path = os.path.dirname(path)\n",
    "model_dir = path + \"/Scene/Models/\"\n",
    "f_list = os.listdir(model_dir)\n",
    "\n",
    "config = Config()\n",
    "config.width = 2000\n",
    "config.height = 2000\n",
    "\n",
    "# reset path in new environment\n",
    "# config.blender_path = \"D:/tools/blender_2.81/blender.exe\"\n",
    "# task.ffmpegPath = 'D://FFmpeg/ffmpeg/bin/ffmpeg.exe'\n",
    "\n",
    "config.blender_path = \"/home/zhaoc/blender/blender_2.81/blender\"\n",
    "task.ffmpegPath = \"ffmpeg\"\n",
    "\n",
    "config.show_singular_face = False\n",
    "config.show_loops = False\n",
    "config.cut_mode = \"Segment\"\n",
    "config.show_singularity = True\n",
    "config.use_envmap = True\n",
    "\n",
    "config.background_render = True\n",
    "\n",
    "config.mode = \"single\"\n",
    "config.material = None\n",
    "\n",
    "config.save_config()\n",
    "RenderScene = RenderScene()\n",
    "RenderScene.config = config\n",
    "\n",
    "\n",
    "\n"
   ]
  },
  {
   "cell_type": "markdown",
   "metadata": {},
   "source": [
    "## cell1: wireframe + model_only"
   ]
  },
  {
   "cell_type": "code",
   "execution_count": null,
   "metadata": {},
   "outputs": [],
   "source": [
    "config.material = \"wireframe_only\"\n",
    "config.material_filename = None\n",
    "\n",
    "# without plane\n",
    "# config.plane = None\n",
    "\n",
    "# no cuts\n",
    "config.cut_mode = \"None\"\n",
    "\n",
    "output = path + \"/Output/Models/\" + task_name + \"/wireframe_only/\"\n",
    "if not os.path.exists(output):\n",
    "    os.makedirs(output)\n",
    "for index, filename in enumerate(f_list):\n",
    "    config.scene_path = model_dir + filename + \"/\"\n",
    "    config.output_path = output + filename + \".png\"\n",
    "    config.save_config()\n",
    "    RenderScene.render()"
   ]
  },
  {
   "cell_type": "markdown",
   "metadata": {},
   "source": [
    "### wireframe + model_only: video generator"
   ]
  },
  {
   "cell_type": "code",
   "execution_count": null,
   "metadata": {},
   "outputs": [],
   "source": [
    "output = path + \"/Output/Models/\" + task_name + \"/wireframe_only/\"\n",
    "\n",
    "task.ImageInput = output\n",
    "task.Rename()\n",
    "task.PreProcessing()\n",
    "task.CropImage()\n",
    "task.ProduceVideo()\n",
    "\n",
    "video_path = \"../../Output/Models/\" + task_name + \"/wireframe_only/video/result.mp4\"\n",
    "display(Video(video_path, width=600, height=600))"
   ]
  },
  {
   "cell_type": "markdown",
   "metadata": {},
   "source": [
    "## cell2: model_only"
   ]
  },
  {
   "cell_type": "code",
   "execution_count": null,
   "metadata": {},
   "outputs": [],
   "source": [
    "config.material = \"model_only\"\n",
    "config.material_filename = None\n",
    "\n",
    "# without plane\n",
    "# config.plane = None\n",
    "\n",
    "# without cuts\n",
    "config.cut_mode = \"None\"\n",
    "\n",
    "output = path + \"/Output/Models/\" + task_name + \"/model_only/\"\n",
    "if not os.path.exists(output):\n",
    "    os.makedirs(output)\n",
    "for index, filename in enumerate(f_list):\n",
    "    config.scene_path = model_dir + filename + \"/\"\n",
    "    config.output_path = output + filename + \".png\"\n",
    "    config.save_config()\n",
    "    RenderScene.render()"
   ]
  },
  {
   "cell_type": "markdown",
   "metadata": {},
   "source": [
    "### model_only: video generator"
   ]
  },
  {
   "cell_type": "code",
   "execution_count": null,
   "metadata": {},
   "outputs": [],
   "source": [
    "output = path + \"/Output/Models/\" + task_name + \"/model_only/\"\n",
    "\n",
    "task.ImageInput = output\n",
    "task.Rename()\n",
    "task.PreProcessing()\n",
    "task.CropImage()\n",
    "task.ProduceVideo()\n",
    "\n",
    "video_path = \"../../Output/Models/\" + task_name + \"/model_only/video/result.mp4\"\n",
    "display(Video(video_path, width=600, height=600))"
   ]
  },
  {
   "cell_type": "markdown",
   "metadata": {},
   "source": [
    "## cell3: linesxy texture u only"
   ]
  },
  {
   "cell_type": "code",
   "execution_count": null,
   "metadata": {},
   "outputs": [],
   "source": [
    "config.material = \"original\"\n",
    "config.material_filename = None\n",
    "\n",
    "# set texture\n",
    "texture_path = path + \"/Data/\" + 'Texture/linesxy_145.png'\n",
    "config.texture_path = texture_path\n",
    "\n",
    "# without plane\n",
    "# config.plane = None\n",
    "\n",
    "# without cuts\n",
    "config.cut_mode = \"None\"\n",
    "\n",
    "# set uv\n",
    "config.uv_multiply = (1, 0)\n",
    "config.uv_add = (0, 0.05)\n",
    "\n",
    "output = path + \"/Output/Models/\" + task_name + \"/linesxy_u_only/\"\n",
    "if not os.path.exists(output):\n",
    "    os.makedirs(output)\n",
    "for index, filename in enumerate(f_list):\n",
    "    config.scene_path = model_dir + filename + \"/\"\n",
    "    config.output_path = output + filename + \".png\"\n",
    "    config.save_config()\n",
    "    RenderScene.render()"
   ]
  },
  {
   "cell_type": "markdown",
   "metadata": {},
   "source": [
    "### linesxy texture u only: video generator"
   ]
  },
  {
   "cell_type": "code",
   "execution_count": null,
   "metadata": {},
   "outputs": [],
   "source": [
    "output = path + \"/Output/Models/\" + task_name + \"/linesxy_u_only/\"\n",
    "\n",
    "task.ImageInput = output\n",
    "task.Rename()\n",
    "task.PreProcessing()\n",
    "task.CropImage()\n",
    "task.ProduceVideo()\n",
    "\n",
    "video_path = \"../../Output/Models/\" + task_name + \"/linesxy_u_only/video/result.mp4\"\n",
    "display(Video(video_path, width=600, height=600))"
   ]
  },
  {
   "cell_type": "markdown",
   "metadata": {},
   "source": [
    "## cell4: linesxy texture v only"
   ]
  },
  {
   "cell_type": "code",
   "execution_count": null,
   "metadata": {},
   "outputs": [],
   "source": [
    "config.material = \"original\"\n",
    "config.material_filename = None\n",
    "\n",
    "# set texture\n",
    "texture_path = path + \"/Data/\" + 'Texture/linesxy_145.png'\n",
    "config.texture_path = texture_path\n",
    "\n",
    "# without plane\n",
    "# config.plane = None\n",
    "\n",
    "# without cuts\n",
    "config.cut_mode = \"None\"\n",
    "\n",
    "# set uv\n",
    "config.uv_multiply = (0, 1)\n",
    "config.uv_add = (0.05, 0)\n",
    "\n",
    "output = path + \"/Output/Models/\" + task_name + \"/linesxy_v_only/\"\n",
    "if not os.path.exists(output):\n",
    "    os.makedirs(output)\n",
    "for index, filename in enumerate(f_list):\n",
    "    config.scene_path = model_dir + filename + \"/\"\n",
    "    config.output_path = output + filename + \".png\"\n",
    "    config.save_config()\n",
    "    RenderScene.render()"
   ]
  },
  {
   "cell_type": "markdown",
   "metadata": {},
   "source": [
    "### linesxy texture v only: video generator"
   ]
  },
  {
   "cell_type": "code",
   "execution_count": null,
   "metadata": {},
   "outputs": [],
   "source": [
    "output = path + \"/Output/Models/\" + task_name + \"/linesxy_v_only/\"\n",
    "\n",
    "task.ImageInput = output\n",
    "task.Rename()\n",
    "task.PreProcessing()\n",
    "task.CropImage()\n",
    "task.ProduceVideo()\n",
    "\n",
    "video_path = \"../../Output/Models/\" + task_name + \"/linesxy_v_only/video/result.mp4\"\n",
    "display(Video(video_path, width=600, height=600))"
   ]
  },
  {
   "cell_type": "markdown",
   "metadata": {},
   "source": [
    "## cell5: linesxy texture uv"
   ]
  },
  {
   "cell_type": "code",
   "execution_count": null,
   "metadata": {},
   "outputs": [],
   "source": [
    "config.material = \"original\"\n",
    "config.material_filename = None\n",
    "\n",
    "# set texture\n",
    "texture_path = path + \"/Data/\" + 'Texture/linesxy_145.png'\n",
    "config.texture_path = texture_path\n",
    "\n",
    "# without plane\n",
    "# config.plane = None\n",
    "\n",
    "# without cuts\n",
    "config.cut_mode = \"None\"\n",
    "\n",
    "# set uv\n",
    "config.uv_multiply = (1, 1)\n",
    "config.uv_add = (0, 0)\n",
    "\n",
    "output = path + \"/Output/Models/\" + task_name + \"/linesxy_uv/\"\n",
    "if not os.path.exists(output):\n",
    "    os.makedirs(output)\n",
    "for index, filename in enumerate(f_list):\n",
    "    config.scene_path = model_dir + filename + \"/\"\n",
    "    config.output_path = output + filename + \".png\"\n",
    "    config.save_config()\n",
    "    RenderScene.render()"
   ]
  },
  {
   "cell_type": "markdown",
   "metadata": {},
   "source": [
    "### linesxy texture uv: video generator"
   ]
  },
  {
   "cell_type": "code",
   "execution_count": null,
   "metadata": {},
   "outputs": [],
   "source": [
    "output = path + \"/Output/Models/\" + task_name + \"/linesxy_uv/\"\n",
    "\n",
    "task.ImageInput = output\n",
    "task.Rename()\n",
    "task.PreProcessing()\n",
    "task.CropImage()\n",
    "task.ProduceVideo()\n",
    "\n",
    "video_path = \"../../Output/Models/\" + task_name + \"/linesxy_uv/video/result.mp4\"\n",
    "display(Video(video_path, width=600, height=600))"
   ]
  },
  {
   "cell_type": "markdown",
   "metadata": {},
   "source": [
    "## cell6: checkerboard texture u only"
   ]
  },
  {
   "cell_type": "code",
   "execution_count": null,
   "metadata": {},
   "outputs": [],
   "source": [
    "config.material = \"original\"\n",
    "config.material_filename = None\n",
    "\n",
    "# set texture\n",
    "texture_path = path + \"/Data/\" + 'Texture/checkerboard.png'\n",
    "config.texture_path = texture_path\n",
    "\n",
    "# without plane\n",
    "# config.plane = None\n",
    "\n",
    "# without cuts\n",
    "config.cut_mode = \"None\"\n",
    "\n",
    "# set uv\n",
    "config.uv_multiply = (1, 0)\n",
    "config.uv_add = (0, 0.05)\n",
    "\n",
    "output = path + \"/Output/Models/\" + task_name + \"/checkerboard_u_only/\"\n",
    "if not os.path.exists(output):\n",
    "    os.makedirs(output)\n",
    "for index, filename in enumerate(f_list):\n",
    "    config.scene_path = model_dir + filename + \"/\"\n",
    "    config.output_path = output + filename + \".png\"\n",
    "    config.save_config()\n",
    "    RenderScene.render()"
   ]
  },
  {
   "cell_type": "markdown",
   "metadata": {},
   "source": [
    "### checkerboard texture u only: video generator"
   ]
  },
  {
   "cell_type": "code",
   "execution_count": null,
   "metadata": {},
   "outputs": [],
   "source": [
    "output = path + \"/Output/Models/\" + task_name + \"/checkerboard_u_only/\"\n",
    "\n",
    "task.ImageInput = output\n",
    "task.Rename()\n",
    "task.PreProcessing()\n",
    "task.CropImage()\n",
    "task.ProduceVideo()\n",
    "\n",
    "video_path = \"../../Output/Models/\" + task_name + \"/checkerboard_u_only/video/result.mp4\"\n",
    "display(Video(video_path, width=600, height=600))"
   ]
  },
  {
   "cell_type": "markdown",
   "metadata": {},
   "source": [
    "## cell7: checkerboard texture v only"
   ]
  },
  {
   "cell_type": "code",
   "execution_count": null,
   "metadata": {},
   "outputs": [],
   "source": [
    "config.material = \"original\"\n",
    "config.material_filename = None\n",
    "\n",
    "# set texture\n",
    "texture_path = path + \"/Data/\" + 'Texture/checkerboard.png'\n",
    "config.texture_path = texture_path\n",
    "\n",
    "# without plane\n",
    "# config.plane = None\n",
    "\n",
    "# without cuts\n",
    "config.cut_mode = \"None\"\n",
    "\n",
    "# set uv\n",
    "config.uv_multiply = (0, 1)\n",
    "config.uv_add = (0.05, 0)\n",
    "\n",
    "output = path + \"/Output/Models/\" + task_name + \"/checkerboard_v_only/\"\n",
    "if not os.path.exists(output):\n",
    "    os.makedirs(output)\n",
    "for index, filename in enumerate(f_list):\n",
    "    config.scene_path = model_dir + filename + \"/\"\n",
    "    config.output_path = output + filename + \".png\"\n",
    "    config.save_config()\n",
    "    RenderScene.render()"
   ]
  },
  {
   "cell_type": "markdown",
   "metadata": {},
   "source": [
    "### checkerboard texture v only: video generator"
   ]
  },
  {
   "cell_type": "code",
   "execution_count": null,
   "metadata": {},
   "outputs": [],
   "source": [
    "output = path + \"/Output/Models/\" + task_name + \"/checkerboard_v_only/\"\n",
    "\n",
    "task.ImageInput = output\n",
    "task.Rename()\n",
    "task.PreProcessing()\n",
    "task.CropImage()\n",
    "task.ProduceVideo()\n",
    "\n",
    "video_path = \"../../Output/Models/\" + task_name + \"/checkerboard_v_only/video/result.mp4\"\n",
    "display(Video(video_path, width=600, height=600))"
   ]
  },
  {
   "cell_type": "markdown",
   "metadata": {},
   "source": [
    "## cell8: checkerboard texture uv"
   ]
  },
  {
   "cell_type": "code",
   "execution_count": null,
   "metadata": {},
   "outputs": [],
   "source": [
    "config.material = \"original\"\n",
    "config.material_filename = None\n",
    "\n",
    "# set texture\n",
    "texture_path = path + \"/Data/\" + 'Texture/checkerboard.png'\n",
    "config.texture_path = texture_path\n",
    "\n",
    "# without plane\n",
    "# config.plane = None\n",
    "\n",
    "# without cuts\n",
    "config.cut_mode = \"None\"\n",
    "\n",
    "# set uv\n",
    "config.uv_multiply = (1, 1)\n",
    "config.uv_add = (0, 0)\n",
    "\n",
    "output = path + \"/Output/Models/\" + task_name + \"/checkerboard_uv/\"\n",
    "if not os.path.exists(output):\n",
    "    os.makedirs(output)\n",
    "for index, filename in enumerate(f_list):\n",
    "    config.scene_path = model_dir + filename + \"/\"\n",
    "    config.output_path = output + filename + \".png\"\n",
    "    config.save_config()\n",
    "    RenderScene.render()"
   ]
  },
  {
   "cell_type": "markdown",
   "metadata": {},
   "source": [
    "### checkerboard texture uv: video generator"
   ]
  },
  {
   "cell_type": "code",
   "execution_count": null,
   "metadata": {},
   "outputs": [],
   "source": [
    "output = path + \"/Output/Models/\" + task_name + \"/checkerboard_uv/\"\n",
    "\n",
    "task.ImageInput = output\n",
    "task.Rename()\n",
    "task.PreProcessing()\n",
    "task.CropImage()\n",
    "task.ProduceVideo()\n",
    "\n",
    "video_path = \"../../Output/Models/\" + task_name + \"/checkerboard_uv/video/result.mp4\"\n",
    "display(Video(video_path, width=600, height=600))"
   ]
  },
  {
   "cell_type": "markdown",
   "metadata": {},
   "source": [
    "## cell9: circle texture"
   ]
  },
  {
   "cell_type": "code",
   "execution_count": null,
   "metadata": {},
   "outputs": [],
   "source": [
    "config.material = \"original\"\n",
    "config.material_filename = None\n",
    "\n",
    "# set texture\n",
    "texture_path = path + \"/Data/\" + 'Texture/circle.png'\n",
    "config.texture_path = texture_path\n",
    "\n",
    "# without plane\n",
    "# config.plane = None\n",
    "\n",
    "# without cuts\n",
    "config.cut_mode = \"None\"\n",
    "\n",
    "# set uv\n",
    "config.uv_multiply = (1, 1)\n",
    "config.uv_add = (0, 0)\n",
    "\n",
    "output = path + \"/Output/Models/\" + task_name + \"/circle/\"\n",
    "if not os.path.exists(output):\n",
    "    os.makedirs(output)\n",
    "for index, filename in enumerate(f_list):\n",
    "    config.scene_path = model_dir + filename + \"/\"\n",
    "    config.output_path = output + filename + \".png\"\n",
    "    config.save_config()\n",
    "    RenderScene.render()"
   ]
  },
  {
   "cell_type": "markdown",
   "metadata": {},
   "source": [
    "### circle texture: video generator"
   ]
  },
  {
   "cell_type": "code",
   "execution_count": null,
   "metadata": {},
   "outputs": [],
   "source": [
    "output = path + \"/Output/Models/\" + task_name + \"/circle/\"\n",
    "\n",
    "task.ImageInput = output\n",
    "task.Rename()\n",
    "task.PreProcessing()\n",
    "task.CropImage()\n",
    "task.ProduceVideo()\n",
    "\n",
    "video_path = \"../../Output/Models/\" + task_name + \"/circle/video/result.mp4\"\n",
    "display(Video(video_path, width=600, height=600))"
   ]
  },
  {
   "cell_type": "markdown",
   "metadata": {},
   "source": [
    "## cell10: transparent material"
   ]
  },
  {
   "cell_type": "code",
   "execution_count": null,
   "metadata": {},
   "outputs": [],
   "source": [
    "config.material = None\n",
    "config.material_filename = \"55-tomato-material-transparent.blend\"\n",
    "\n",
    "output = path + \"/Output/Models/\" + task_name + \"/transparent/\"\n",
    "\n",
    "# without plane\n",
    "# config.plane = None\n",
    "\n",
    "# show cuts\n",
    "config.cut_mode = \"Segment\"\n",
    "\n",
    "if not os.path.exists(output):\n",
    "    os.makedirs(output)\n",
    "for index, filename in enumerate(f_list):\n",
    "    scene_file_list = os.listdir(model_dir + filename + \"/\")\n",
    "    if \"singularFaces.obj\" in scene_file_list:\n",
    "        config.show_singular_face = True\n",
    "    else:\n",
    "        config.show_singular_face = False\n",
    "        \n",
    "    if \"loops.obj\" in scene_file_list:\n",
    "        config.show_loops = True\n",
    "    else:\n",
    "        config.show_loops = False\n",
    "        \n",
    "    config.scene_path = model_dir + filename + \"/\"\n",
    "    config.output_path = output + filename + \".png\"\n",
    "    config.save_config()\n",
    "    RenderScene.render()"
   ]
  },
  {
   "cell_type": "markdown",
   "metadata": {},
   "source": [
    "### circle texture: video generator"
   ]
  },
  {
   "cell_type": "code",
   "execution_count": null,
   "metadata": {},
   "outputs": [],
   "source": [
    "output = path + \"/Output/Models/\" + task_name + \"/transparent/\"\n",
    "\n",
    "task.ImageInput = output\n",
    "task.Rename()\n",
    "task.PreProcessing()\n",
    "task.CropImage()\n",
    "task.ProduceVideo()\n",
    "\n",
    "video_path = \"../../Output/Models/\" + task_name + \"/transparent/video/result.mp4\"\n",
    "display(Video(video_path, width=600, height=600))"
   ]
  },
  {
   "cell_type": "markdown",
   "metadata": {},
   "source": [
    "## cell11: cut_mode_plain"
   ]
  },
  {
   "cell_type": "code",
   "execution_count": null,
   "metadata": {},
   "outputs": [],
   "source": [
    "config.material = \"model_only\"\n",
    "config.material_filename = None\n",
    "\n",
    "# without plane\n",
    "# config.plane = None\n",
    "\n",
    "config.show_loops = False\n",
    "config.show_singular_face = False\n",
    "\n",
    "config.cut_mode = \"Plain\"\n",
    "\n",
    "output = path + \"/Output/Models/\" + task_name + \"/cut_mode_plain/\"\n",
    "if not os.path.exists(output):\n",
    "    os.makedirs(output)\n",
    "for index, filename in enumerate(f_list):\n",
    "    config.scene_path = model_dir + filename + \"/\"\n",
    "    config.output_path = output + filename + \".png\"\n",
    "    config.save_config()\n",
    "    RenderScene.render()"
   ]
  },
  {
   "cell_type": "markdown",
   "metadata": {},
   "source": [
    "### cut_mode_plain: video generator"
   ]
  },
  {
   "cell_type": "code",
   "execution_count": null,
   "metadata": {},
   "outputs": [],
   "source": [
    "output = path + \"/Output/Models/\" + task_name + \"/cut_mode_plain/\"\n",
    "\n",
    "task.ImageInput = output\n",
    "task.Rename()\n",
    "task.PreProcessing()\n",
    "task.CropImage()\n",
    "task.ProduceVideo()\n",
    "\n",
    "video_path = \"../../Output/Models/\" + task_name + \"/cut_mode_plain/video/result.mp4\"\n",
    "display(Video(video_path, width=600, height=600))"
   ]
  },
  {
   "cell_type": "markdown",
   "metadata": {},
   "source": [
    "## cell12: cut_mode_segment"
   ]
  },
  {
   "cell_type": "code",
   "execution_count": null,
   "metadata": {},
   "outputs": [],
   "source": [
    "config.material = \"model_only\"\n",
    "config.material_filename = None\n",
    "\n",
    "# without plane\n",
    "# config.plane = None\n",
    "\n",
    "config.show_loops = False\n",
    "config.show_singular_face = False\n",
    "\n",
    "config.cut_mode = \"Segment\"\n",
    "\n",
    "output = path + \"/Output/Models/\" + task_name + \"/cut_mode_segment/\"\n",
    "if not os.path.exists(output):\n",
    "    os.makedirs(output)\n",
    "for index, filename in enumerate(f_list):\n",
    "    config.scene_path = model_dir + filename + \"/\"\n",
    "    config.output_path = output + filename + \".png\"\n",
    "    config.save_config()\n",
    "    RenderScene.render()"
   ]
  },
  {
   "cell_type": "markdown",
   "metadata": {},
   "source": [
    "### cut_mode_segment: video generator"
   ]
  },
  {
   "cell_type": "code",
   "execution_count": null,
   "metadata": {},
   "outputs": [],
   "source": [
    "output = path + \"/Output/Models/\" + task_name + \"/cut_mode_segment/\"\n",
    "\n",
    "task.ImageInput = output\n",
    "task.Rename()\n",
    "task.PreProcessing()\n",
    "task.CropImage()\n",
    "task.ProduceVideo()\n",
    "\n",
    "video_path = \"../../Output/Models/\" + task_name + \"/cut_mode_segment/video/result.mp4\"\n",
    "display(Video(video_path, width=600, height=600))"
   ]
  },
  {
   "cell_type": "markdown",
   "metadata": {},
   "source": [
    "## cell13: cut_mode_zero"
   ]
  },
  {
   "cell_type": "code",
   "execution_count": null,
   "metadata": {},
   "outputs": [],
   "source": [
    "config.material = \"model_only\"\n",
    "config.material_filename = None\n",
    "\n",
    "# without plane\n",
    "# config.plane = None\n",
    "\n",
    "config.show_loops = False\n",
    "config.show_singular_face = False\n",
    "\n",
    "config.cut_mode = \"zero_mode\"\n",
    "\n",
    "output = path + \"/Output/Models/\" + task_name + \"/cut_mode_zero/\"\n",
    "if not os.path.exists(output):\n",
    "    os.makedirs(output)\n",
    "for index, filename in enumerate(f_list):\n",
    "    config.scene_path = model_dir + filename + \"/\"\n",
    "    config.output_path = output + filename + \".png\"\n",
    "    config.save_config()\n",
    "    RenderScene.render()"
   ]
  },
  {
   "cell_type": "markdown",
   "metadata": {},
   "source": [
    "### cut_mode_zero: video generator"
   ]
  },
  {
   "cell_type": "code",
   "execution_count": null,
   "metadata": {},
   "outputs": [],
   "source": [
    "output = path + \"/Output/Models/\" + task_name + \"/cut_mode_zero/\"\n",
    "\n",
    "task.ImageInput = output\n",
    "task.Rename()\n",
    "task.PreProcessing()\n",
    "task.CropImage()\n",
    "task.ProduceVideo()\n",
    "\n",
    "video_path = \"../../Output/Models/\" + task_name + \"/cut_mode_zero/video/result.mp4\"\n",
    "display(Video(video_path, width=600, height=600))"
   ]
  },
  {
   "cell_type": "markdown",
   "metadata": {},
   "source": [
    "## cell14: cut_mode_incoherent"
   ]
  },
  {
   "cell_type": "code",
   "execution_count": null,
   "metadata": {},
   "outputs": [],
   "source": [
    "config.material = \"model_only\"\n",
    "config.material_filename = None\n",
    "\n",
    "# without plane\n",
    "# config.plane = None\n",
    "\n",
    "config.show_loops = False\n",
    "config.show_singular_face = False\n",
    "\n",
    "config.cut_mode = \"incoherent\"\n",
    "\n",
    "output = path + \"/Output/Models/\" + task_name + \"/cut_mode_incoherent/\"\n",
    "if not os.path.exists(output):\n",
    "    os.makedirs(output)\n",
    "for index, filename in enumerate(f_list):\n",
    "    config.scene_path = model_dir + filename + \"/\"\n",
    "    config.output_path = output + filename + \".png\"\n",
    "    config.save_config()\n",
    "    RenderScene.render()"
   ]
  },
  {
   "cell_type": "markdown",
   "metadata": {},
   "source": [
    "### cut_mode_incoherent: video generator"
   ]
  },
  {
   "cell_type": "code",
   "execution_count": null,
   "metadata": {},
   "outputs": [],
   "source": [
    "output = path + \"/Output/Models/\" + task_name + \"/cut_mode_incoherent/\"\n",
    "\n",
    "task.ImageInput = output\n",
    "task.Rename()\n",
    "task.PreProcessing()\n",
    "task.CropImage()\n",
    "task.ProduceVideo()\n",
    "\n",
    "video_path = \"../../Output/Models/\" + task_name + \"/cut_mode_incoherent/video/result.mp4\"\n",
    "display(Video(video_path, width=600, height=600))"
   ]
  },
  {
   "cell_type": "code",
   "execution_count": null,
   "metadata": {},
   "outputs": [],
   "source": []
  },
  {
   "cell_type": "code",
   "execution_count": null,
   "metadata": {},
   "outputs": [],
   "source": []
  },
  {
   "cell_type": "code",
   "execution_count": null,
   "metadata": {},
   "outputs": [],
   "source": []
  },
  {
   "cell_type": "code",
   "execution_count": null,
   "metadata": {},
   "outputs": [],
   "source": []
  }
 ],
 "metadata": {
  "kernelspec": {
   "display_name": "Python 3",
   "language": "python",
   "name": "python3"
  },
  "language_info": {
   "codemirror_mode": {
    "name": "ipython",
    "version": 3
   },
   "file_extension": ".py",
   "mimetype": "text/x-python",
   "name": "python",
   "nbconvert_exporter": "python",
   "pygments_lexer": "ipython3",
   "version": "3.6.5"
  }
 },
 "nbformat": 4,
 "nbformat_minor": 1
}
