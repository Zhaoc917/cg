{
 "cells": [
  {
   "cell_type": "code",
   "execution_count": 7,
   "metadata": {},
   "outputs": [],
   "source": [
    "import os\n",
    "import sys\n",
    "sys.path.append(\"..\")\n",
    "from Lib.RenderScene import RenderScene\n",
    "from Lib.ConfigClass import Config\n",
    "from Lib.ImageVideo import TaskImageVideo\n",
    "from IPython.display import display,Video\n",
    "import imageio"
   ]
  },
  {
   "cell_type": "markdown",
   "metadata": {},
   "source": [
    "## some basic settings"
   ]
  },
  {
   "cell_type": "code",
   "execution_count": 8,
   "metadata": {},
   "outputs": [],
   "source": [
    "task = TaskImageVideo() \n",
    "task.framerate = 0.5\n",
    "\n",
    "\n",
    "path = os.getcwd()\n",
    "path = os.path.dirname(path)\n",
    "path = os.path.dirname(path)\n",
    "model_dir = path + \"/Scene/Models/\"\n",
    "f_list = os.listdir(model_dir)\n",
    "\n",
    "config = Config()\n",
    "config.width = 2000\n",
    "config.height = 2000\n",
    "\n",
    "path = os.getcwd()\n",
    "path = os.path.dirname(path)\n",
    "path = os.path.dirname(path)\n",
    "\n",
    "# reset path in new environment\n",
    "# config.blender_path = \"D:/tools/blender_2.81/blender.exe\"\n",
    "# task.ffmpegPath = 'D://FFmpeg/ffmpeg/bin/ffmpeg.exe'\n",
    "\n",
    "config.blender_path = \"/home/zhaoc/blender/blender_2.81/blender\"\n",
    "task.ffmpegPath = \"ffmpeg\"\n",
    "\n",
    "config.show_singular_face = False\n",
    "config.show_loops = False\n",
    "config.cut_mode = \"Segment\"\n",
    "config.show_singularity = True\n",
    "config.use_envmap = True\n",
    "\n",
    "config.background_render = True\n",
    "\n",
    "config.mode = \"single\"\n",
    "config.material = None\n",
    "\n",
    "config.save_config()\n",
    "RenderScene = RenderScene()\n",
    "RenderScene.config = config\n",
    "\n",
    "\n",
    "\n"
   ]
  },
  {
   "cell_type": "markdown",
   "metadata": {},
   "source": [
    "## cell1: wireframe + model_only"
   ]
  },
  {
   "cell_type": "code",
   "execution_count": null,
   "metadata": {},
   "outputs": [],
   "source": [
    "config.material = \"wireframe_only\"\n",
    "config.material_filename = None\n",
    "\n",
    "# no cuts\n",
    "\n",
    "output = path + \"/Output/Models/wireframe_only/\"\n",
    "if not os.path.exists(output):\n",
    "    os.makedirs(output)\n",
    "for index, filename in enumerate(f_list):\n",
    "    config.scene_path = model_dir + filename + \"/\"\n",
    "    config.output_path = output + filename + \".png\"\n",
    "    config.save_config()\n",
    "    RenderScene.render()"
   ]
  },
  {
   "cell_type": "markdown",
   "metadata": {},
   "source": [
    "### wireframe + model_only video generator"
   ]
  },
  {
   "cell_type": "code",
   "execution_count": null,
   "metadata": {},
   "outputs": [],
   "source": [
    "output = path + \"/Output/Models/wireframe_only/\"\n",
    "\n",
    "task.ImageInput = output\n",
    "task.Rename()\n",
    "task.PreProcessing()\n",
    "task.CropImage()\n",
    "task.ProduceVideo()\n",
    "\n",
    "video_path = \"../../Output/Models/\" + \"wireframe_only/video/result.mp4\"\n",
    "display(Video(video_path, width=600, height=600))"
   ]
  },
  {
   "cell_type": "markdown",
   "metadata": {},
   "source": [
    "## cell2: model_only"
   ]
  },
  {
   "cell_type": "code",
   "execution_count": null,
   "metadata": {},
   "outputs": [],
   "source": [
    "config.material = \"model_only\"\n",
    "config.material_filename = None\n",
    "\n",
    "# without plane\n",
    "# config.plane = None\n",
    "\n",
    "output = path + \"/Output/Models/model_only/\"\n",
    "if not os.path.exists(output):\n",
    "    os.makedirs(output)\n",
    "for index, filename in enumerate(f_list):\n",
    "    config.scene_path = model_dir + filename + \"/\"\n",
    "    config.output_path = output + filename + \".png\"\n",
    "    config.save_config()\n",
    "    RenderScene.render()"
   ]
  },
  {
   "cell_type": "markdown",
   "metadata": {},
   "source": [
    "### model_only video generator"
   ]
  },
  {
   "cell_type": "code",
   "execution_count": null,
   "metadata": {},
   "outputs": [],
   "source": [
    "output = path + \"/Output/Models/model_only/\"\n",
    "\n",
    "task.ImageInput = output\n",
    "task.Rename()\n",
    "task.PreProcessing()\n",
    "task.CropImage()\n",
    "task.ProduceVideo()\n",
    "\n",
    "video_path = \"../../Output/Models/\" + \"model_only/video/result.mp4\"\n",
    "display(Video(video_path, width=600, height=600))"
   ]
  }
 ],
 "metadata": {
  "kernelspec": {
   "display_name": "Python 3",
   "language": "python",
   "name": "python3"
  },
  "language_info": {
   "codemirror_mode": {
    "name": "ipython",
    "version": 3
   },
   "file_extension": ".py",
   "mimetype": "text/x-python",
   "name": "python",
   "nbconvert_exporter": "python",
   "pygments_lexer": "ipython3",
   "version": "3.6.5"
  }
 },
 "nbformat": 4,
 "nbformat_minor": 1
}
